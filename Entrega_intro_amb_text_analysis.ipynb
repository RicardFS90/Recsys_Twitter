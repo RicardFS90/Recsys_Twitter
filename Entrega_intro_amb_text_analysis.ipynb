{
 "cells": [
  {
   "cell_type": "markdown",
   "metadata": {},
   "source": [
    "# Final Project\n",
    "\n",
    "## RecSys Twitter challenge\n",
    "\n",
    "### Autors: Quimi, Ricard, Pere"
   ]
  },
  {
   "cell_type": "markdown",
   "metadata": {},
   "source": [
    "## ÍNDEX\n",
    "\n",
    "* 1\\. [Introducció](#Intro)\n",
    "\n",
    "* 2\\. [Data Preparation / Data Preprocessing](#Data_prep)\n",
    "\n",
    "* 3\\. [Data Analysis (Text Analysis/Cleaning)](#Data_analysis)\n",
    "\n",
    "    * 3.1\\. [Idioma](#Data_analysis_idioma)\n",
    "    \n",
    "    * 3.2\\. [Tipus de twit](#Data_analysis_tipus)\n",
    "    \n",
    "    * 3.3\\. [Text tokens: anàlisi i data cleaning](#Data_analysis_tokens)\n",
    "    \n",
    "    * 3.4\\. [Links: enllaços, multimedia i retweets](#Data_analysis_links)\n",
    "    \n",
    "    * 3.5\\. [Hashtags i mencions](#Data_analysis_hashtags)\n",
    "    \n",
    "    * 3.6\\. [Observacions sobre els diferents tipus de twit ](#Data_analysis_observacions)\n",
    "\n",
    "* 4\\. [Feature Selection](#Feature)\n",
    "\n",
    "* 5\\. [XGBoost Model](#Model)\n",
    "\n",
    "* 6\\. [Resultats](#Resultats)\n",
    "\n",
    "* 7\\. [Conclusió](#Conclusió)"
   ]
  },
  {
   "cell_type": "markdown",
   "metadata": {},
   "source": [
    "<a id='Intro'></a>\n",
    "## 1.Introducció \n",
    "\n",
    "#### Objectius\n",
    "Aquest projecte, destinat a l'entrega del treball de postgrau de Data Science, neix de l'oportunitat de participar en el [Recsys Challenge](https://recsys-twitter.com/) organitzat per Twitter en l'edició del 2020.\n",
    "\n",
    "De totes maneres, enlloc de participar directament a la competició, aquest treball es centra en aprofitar les dades publicades i té els següents objectius.\n",
    "\n",
    "* Tractament de dades: Anàlisi del dataset original, netejant i modificant algunes propietats per a poder-hi trebalar millor\n",
    "* Anàlisi de dades: Processat de les dades obtingudes per a convertir-les en un format més adient per a la posterior obtenció de models de Machine Learning.\n",
    "* Anàlisis del text dels tweets: Recerca sobre el model BERT en el que s'entreguen les dades de text i exploració de la naturalesa del text dels tweets proporcionat.\n",
    "* Feature selection: Exploració de les variables del dataset original, o obtingudes en el processat posterior que poden donar més informació en el model de recomenació posterior.\n",
    "* Model de Recomenació: Implementar un model *recommender* utilitzant la llibreria XGBoost i analitzar-ne les resultats obtinguts\n",
    "\n",
    "Així doncs, l'objectiu principal serà el d'explorar a fons el dataset publicat i utilitzar-lo per a obtenir un model de *Recommender*\n",
    "\n",
    "#### Obtenció de dades\n",
    "\n",
    "Degut a que el dataset publicat per l'organització era massa gran per a poder-hi treballar amb els nostres equips, s'ha decidit agafar només una mostra del dataset original.\n",
    "\n",
    "Enlloc d'agafar només les primeres files del dataset, s'ha optat per fer un mostreig aleatori que asseguri una mostra representaiva de tweets (publicació en diferents dies de la setmana, moments del dia, idiomes, etc.). A més a més, s'ha aprofitat per canviar el format de les dades de *.tsv* a *.csv*, per al seu tractament posterior.\n",
    "\n",
    "A continuació es pot observar el codi utilitzat per a l'obtenció de les dades amb les que es treballaran, que seran guardades en un fitxer anomenat \"tocho.csv\". S'han comentat les files que només cal que siguin executades quan es vol obtenir un nou fitxer per agilitzar posteriors execucions del codi un cop obtinguda la mostra."
   ]
  },
  {
   "cell_type": "code",
   "execution_count": null,
   "metadata": {},
   "outputs": [],
   "source": [
    "# Random sample from alarge tsv file\n",
    "n = 300000000 # total number of rows (aprox)\n",
    "s = 1000000 # desired sampling size\n",
    "\n",
    "#skip = sorted(random.sample(range(1,n+1),n-s)) # filas a saltar\n",
    "\n",
    "# print(skip)\n",
    "# DESCOMENTAR SOLO PARA OBTENER NUEVAS MUESTRAS\n",
    "# df = pd.read_csv(filename, skiprows=skip, delimiter='\\x01', header=None)\n",
    "\n",
    "# Columns names\n",
    "all_features = [\"text_tokens\", \"hashtags\", \"tweet_id\", \"present_media\", \"present_links\", \"present_domains\",\\\n",
    "                \"tweet_type\",\"language\", \"tweet_timestamp\", \"engaged_with_user_id\", \"engaged_with_user_follower_count\",\\\n",
    "               \"engaged_with_user_following_count\", \"engaged_with_user_is_verified\", \"engaged_with_user_account_creation\",\\\n",
    "               \"engaging_user_id\", \"engaging_user_follower_count\", \"engaging_user_following_count\", \"engaging_user_is_verified\",\\\n",
    "               \"engaging_user_account_creation\", \"engagee_follows_engager\",\"reply_timestamp\",\"retweet_timestamp\",\"retweet_with_comment_timestamp\",\"like_timestamp\"]\n",
    "#df.columns=all_features\n",
    "\n",
    "# Export to a csv\n",
    "export_filename = 'tocho.csv'\n",
    "\n",
    "# DESCOMENTAR SOLO PARA OBTENER NUEVAS MUESTRAS\n",
    "# df.to_csv(export_filename, encoding='utf-8')"
   ]
  },
  {
   "cell_type": "markdown",
   "metadata": {},
   "source": [
    "#### Explicació dataset\n",
    "\n",
    "Les columnes del dataset original es poden trobar explicades a la web del [*challenge*](https://recsys-twitter.com), a la taula que s'ajunta a continuació:\n",
    "\n",
    "![taula](taula.png)\n",
    "\n",
    "En resum, podem veure que les dades e spoden classificar en 3 categories:\n",
    "\n",
    "* Dades sobre el tweets: contingut de text, de mitjans multimèdia, hashtags, links, tipologia del Tweet (TopLevel, Retweet, Quote o Reply) i moment de publicació del Tweet.\n",
    "* Dades sobre usaris de Twitter: Antiguitat de l'usuari, número de seguidors i de gent que el segueix i existència de verificació de l'usuari. Aquestes dades es donen tant per l'usuari que fa el Tweet, com pel que hi interacciona o hi reacciona\n",
    "    * Dades sobre l'usuari que ha publicat el tweet\n",
    "    * Dades obre la persona que ha reaccionat al tweet\n",
    "* Dades sobre la interacció que s'ha produit: Moment i tipologia de la interacció (Reply, Retweet o Like), i si els usuaris es segueixen entre ells"
   ]
  },
  {
   "cell_type": "markdown",
   "metadata": {},
   "source": [
    "<a id='Data_prep'></a>\n",
    "## 2.Data Preparation / Data Preprocessing\n",
    "\n"
   ]
  },
  {
   "cell_type": "code",
   "execution_count": 1,
   "metadata": {},
   "outputs": [],
   "source": [
    "# Import needed packages\n",
    "import os\n",
    "import pandas as pd\n",
    "import matplotlib\n",
    "import numpy as np\n"
   ]
  },
  {
   "cell_type": "code",
   "execution_count": 2,
   "metadata": {},
   "outputs": [
    {
     "data": {
      "text/html": [
       "<div>\n",
       "<style scoped>\n",
       "    .dataframe tbody tr th:only-of-type {\n",
       "        vertical-align: middle;\n",
       "    }\n",
       "\n",
       "    .dataframe tbody tr th {\n",
       "        vertical-align: top;\n",
       "    }\n",
       "\n",
       "    .dataframe thead th {\n",
       "        text-align: right;\n",
       "    }\n",
       "</style>\n",
       "<table border=\"1\" class=\"dataframe\">\n",
       "  <thead>\n",
       "    <tr style=\"text-align: right;\">\n",
       "      <th></th>\n",
       "      <th>Unnamed: 0</th>\n",
       "      <th>text_ tokens</th>\n",
       "      <th>hashtags</th>\n",
       "      <th>tweet_id</th>\n",
       "      <th>present_media</th>\n",
       "      <th>present_links</th>\n",
       "      <th>present_domains</th>\n",
       "      <th>tweet_type</th>\n",
       "      <th>language</th>\n",
       "      <th>tweet_timestamp</th>\n",
       "      <th>...</th>\n",
       "      <th>engaging_user_id</th>\n",
       "      <th>engaging_user_follower_count</th>\n",
       "      <th>engaging_user_following_count</th>\n",
       "      <th>engaging_user_is_verified</th>\n",
       "      <th>engaging_user_account_creation</th>\n",
       "      <th>engagee_follows_engager</th>\n",
       "      <th>reply_timestamp</th>\n",
       "      <th>retweet_timestamp</th>\n",
       "      <th>retweet_with_comment_timestamp</th>\n",
       "      <th>like_timestamp</th>\n",
       "    </tr>\n",
       "  </thead>\n",
       "  <tbody>\n",
       "    <tr>\n",
       "      <th>0</th>\n",
       "      <td>0</td>\n",
       "      <td>101\\t16493\\t12478\\t117\\t10105\\t42370\\t76299\\t1...</td>\n",
       "      <td>NaN</td>\n",
       "      <td>39024FBE0136E046D1357196BAECFCA6</td>\n",
       "      <td>GIF</td>\n",
       "      <td>NaN</td>\n",
       "      <td>NaN</td>\n",
       "      <td>TopLevel</td>\n",
       "      <td>D3164C7FBCF2565DDF915B1B3AEFB1DC</td>\n",
       "      <td>1581532200</td>\n",
       "      <td>...</td>\n",
       "      <td>000006829BEADA9EEA695CF0C334B426</td>\n",
       "      <td>2</td>\n",
       "      <td>29</td>\n",
       "      <td>False</td>\n",
       "      <td>1568107028</td>\n",
       "      <td>False</td>\n",
       "      <td>NaN</td>\n",
       "      <td>NaN</td>\n",
       "      <td>NaN</td>\n",
       "      <td>NaN</td>\n",
       "    </tr>\n",
       "    <tr>\n",
       "      <th>1</th>\n",
       "      <td>1</td>\n",
       "      <td>101\\t56898\\t137\\t12026\\t10216\\t39639\\t10161\\t1...</td>\n",
       "      <td>NaN</td>\n",
       "      <td>885EECCFE319306E00FFFFAC9016DCAC</td>\n",
       "      <td>NaN</td>\n",
       "      <td>NaN</td>\n",
       "      <td>NaN</td>\n",
       "      <td>Retweet</td>\n",
       "      <td>06D61DCBBE938971E1EA0C38BD9B5446</td>\n",
       "      <td>1581460521</td>\n",
       "      <td>...</td>\n",
       "      <td>00003E6CE47A2F6992901FA83F253C68</td>\n",
       "      <td>1148</td>\n",
       "      <td>1038</td>\n",
       "      <td>False</td>\n",
       "      <td>1266187322</td>\n",
       "      <td>False</td>\n",
       "      <td>NaN</td>\n",
       "      <td>NaN</td>\n",
       "      <td>NaN</td>\n",
       "      <td>NaN</td>\n",
       "    </tr>\n",
       "    <tr>\n",
       "      <th>2</th>\n",
       "      <td>2</td>\n",
       "      <td>101\\t14924\\t16118\\t10114\\t12888\\t15127\\t31204\\...</td>\n",
       "      <td>3653868A966576CF17D6A9064889BCED\\t7A6710E791A1...</td>\n",
       "      <td>AB3ADBBD011F88D10FE7F6C5FDAB214C</td>\n",
       "      <td>Photo</td>\n",
       "      <td>NaN</td>\n",
       "      <td>NaN</td>\n",
       "      <td>TopLevel</td>\n",
       "      <td>D3164C7FBCF2565DDF915B1B3AEFB1DC</td>\n",
       "      <td>1581087590</td>\n",
       "      <td>...</td>\n",
       "      <td>000269A50293CC2B1E9C72B287FA624E</td>\n",
       "      <td>515</td>\n",
       "      <td>424</td>\n",
       "      <td>False</td>\n",
       "      <td>1254588643</td>\n",
       "      <td>True</td>\n",
       "      <td>NaN</td>\n",
       "      <td>NaN</td>\n",
       "      <td>NaN</td>\n",
       "      <td>1.581090e+09</td>\n",
       "    </tr>\n",
       "    <tr>\n",
       "      <th>3</th>\n",
       "      <td>3</td>\n",
       "      <td>101\\t138\\t19826\\t10108\\t10105\\t10635\\t10105\\t1...</td>\n",
       "      <td>NaN</td>\n",
       "      <td>675D7920EA2FB4869BA767F5122FB115</td>\n",
       "      <td>NaN</td>\n",
       "      <td>NaN</td>\n",
       "      <td>NaN</td>\n",
       "      <td>TopLevel</td>\n",
       "      <td>D3164C7FBCF2565DDF915B1B3AEFB1DC</td>\n",
       "      <td>1581134845</td>\n",
       "      <td>...</td>\n",
       "      <td>0004C10C480EF88F3EED5822149DC93F</td>\n",
       "      <td>4</td>\n",
       "      <td>125</td>\n",
       "      <td>False</td>\n",
       "      <td>1547955941</td>\n",
       "      <td>False</td>\n",
       "      <td>NaN</td>\n",
       "      <td>NaN</td>\n",
       "      <td>NaN</td>\n",
       "      <td>1.581135e+09</td>\n",
       "    </tr>\n",
       "    <tr>\n",
       "      <th>4</th>\n",
       "      <td>4</td>\n",
       "      <td>101\\t73714\\t117\\t11858\\t10730\\t12603\\t11387\\t4...</td>\n",
       "      <td>NaN</td>\n",
       "      <td>9D81B887F9DCA4C481762720A980F372</td>\n",
       "      <td>NaN</td>\n",
       "      <td>NaN</td>\n",
       "      <td>NaN</td>\n",
       "      <td>Quote</td>\n",
       "      <td>2996EB2FE8162C076D070A4C8D6532CD</td>\n",
       "      <td>1581384474</td>\n",
       "      <td>...</td>\n",
       "      <td>0007B114B09D17838F76C88A51374017</td>\n",
       "      <td>34</td>\n",
       "      <td>172</td>\n",
       "      <td>False</td>\n",
       "      <td>1561164616</td>\n",
       "      <td>False</td>\n",
       "      <td>NaN</td>\n",
       "      <td>NaN</td>\n",
       "      <td>NaN</td>\n",
       "      <td>NaN</td>\n",
       "    </tr>\n",
       "  </tbody>\n",
       "</table>\n",
       "<p>5 rows × 25 columns</p>\n",
       "</div>"
      ],
      "text/plain": [
       "   Unnamed: 0                                       text_ tokens  \\\n",
       "0           0  101\\t16493\\t12478\\t117\\t10105\\t42370\\t76299\\t1...   \n",
       "1           1  101\\t56898\\t137\\t12026\\t10216\\t39639\\t10161\\t1...   \n",
       "2           2  101\\t14924\\t16118\\t10114\\t12888\\t15127\\t31204\\...   \n",
       "3           3  101\\t138\\t19826\\t10108\\t10105\\t10635\\t10105\\t1...   \n",
       "4           4  101\\t73714\\t117\\t11858\\t10730\\t12603\\t11387\\t4...   \n",
       "\n",
       "                                            hashtags  \\\n",
       "0                                                NaN   \n",
       "1                                                NaN   \n",
       "2  3653868A966576CF17D6A9064889BCED\\t7A6710E791A1...   \n",
       "3                                                NaN   \n",
       "4                                                NaN   \n",
       "\n",
       "                           tweet_id present_media present_links  \\\n",
       "0  39024FBE0136E046D1357196BAECFCA6           GIF           NaN   \n",
       "1  885EECCFE319306E00FFFFAC9016DCAC           NaN           NaN   \n",
       "2  AB3ADBBD011F88D10FE7F6C5FDAB214C         Photo           NaN   \n",
       "3  675D7920EA2FB4869BA767F5122FB115           NaN           NaN   \n",
       "4  9D81B887F9DCA4C481762720A980F372           NaN           NaN   \n",
       "\n",
       "  present_domains tweet_type                          language  \\\n",
       "0             NaN   TopLevel  D3164C7FBCF2565DDF915B1B3AEFB1DC   \n",
       "1             NaN    Retweet  06D61DCBBE938971E1EA0C38BD9B5446   \n",
       "2             NaN   TopLevel  D3164C7FBCF2565DDF915B1B3AEFB1DC   \n",
       "3             NaN   TopLevel  D3164C7FBCF2565DDF915B1B3AEFB1DC   \n",
       "4             NaN      Quote  2996EB2FE8162C076D070A4C8D6532CD   \n",
       "\n",
       "   tweet_timestamp  ...                  engaging_user_id  \\\n",
       "0       1581532200  ...  000006829BEADA9EEA695CF0C334B426   \n",
       "1       1581460521  ...  00003E6CE47A2F6992901FA83F253C68   \n",
       "2       1581087590  ...  000269A50293CC2B1E9C72B287FA624E   \n",
       "3       1581134845  ...  0004C10C480EF88F3EED5822149DC93F   \n",
       "4       1581384474  ...  0007B114B09D17838F76C88A51374017   \n",
       "\n",
       "   engaging_user_follower_count  engaging_user_following_count  \\\n",
       "0                             2                             29   \n",
       "1                          1148                           1038   \n",
       "2                           515                            424   \n",
       "3                             4                            125   \n",
       "4                            34                            172   \n",
       "\n",
       "   engaging_user_is_verified  engaging_user_account_creation  \\\n",
       "0                      False                      1568107028   \n",
       "1                      False                      1266187322   \n",
       "2                      False                      1254588643   \n",
       "3                      False                      1547955941   \n",
       "4                      False                      1561164616   \n",
       "\n",
       "  engagee_follows_engager  reply_timestamp  retweet_timestamp  \\\n",
       "0                   False              NaN                NaN   \n",
       "1                   False              NaN                NaN   \n",
       "2                    True              NaN                NaN   \n",
       "3                   False              NaN                NaN   \n",
       "4                   False              NaN                NaN   \n",
       "\n",
       "   retweet_with_comment_timestamp  like_timestamp  \n",
       "0                             NaN             NaN  \n",
       "1                             NaN             NaN  \n",
       "2                             NaN    1.581090e+09  \n",
       "3                             NaN    1.581135e+09  \n",
       "4                             NaN             NaN  \n",
       "\n",
       "[5 rows x 25 columns]"
      ]
     },
     "execution_count": 2,
     "metadata": {},
     "output_type": "execute_result"
    }
   ],
   "source": [
    "# set path\n",
    "#libname = 'C:/Users/usuario/Documents/Data Science/Postgrau-master/Final Project'\n",
    "\n",
    "# load data\n",
    "df = pd.read_csv('tocho2.csv')\n",
    "\n",
    "# Visualize some data\n",
    "df.head()"
   ]
  },
  {
   "cell_type": "markdown",
   "metadata": {},
   "source": [
    "-------------------------------------------------------------------------------------------------------------------------------"
   ]
  },
  {
   "cell_type": "code",
   "execution_count": 3,
   "metadata": {},
   "outputs": [
    {
     "data": {
      "text/plain": [
       "0        NaN\n",
       "1        NaN\n",
       "2        NaN\n",
       "3        NaN\n",
       "4        NaN\n",
       "          ..\n",
       "455513   NaN\n",
       "455514   NaN\n",
       "455515   NaN\n",
       "455516   NaN\n",
       "455517   NaN\n",
       "Name: reply_timestamp, Length: 455518, dtype: float64"
      ]
     },
     "execution_count": 3,
     "metadata": {},
     "output_type": "execute_result"
    }
   ],
   "source": [
    "df.reply_timestamp"
   ]
  },
  {
   "cell_type": "markdown",
   "metadata": {},
   "source": [
    "### Data Preparation\n",
    "\n",
    "asdadsadasdaskldmasklda...."
   ]
  },
  {
   "cell_type": "code",
   "execution_count": 4,
   "metadata": {},
   "outputs": [],
   "source": [
    "# Rename 'text_tokens' column name\n",
    "df.rename(columns={'text_ tokens':'text_tokens'}, inplace=True)\n",
    "\n",
    "# Select tweets in English\n",
    "#df = df[df.language=='D3164C7FBCF2565DDF915B1B3AEFB1DC']\n",
    "\n",
    "# Clean tokens and transform into lists\n",
    "df['text_tokens'] = df['text_tokens'].str.split('\\t')\n",
    "\n",
    "# Remove first column\n",
    "df.drop('Unnamed: 0', axis=1, inplace=True)\n",
    "\n",
    "# Remove id variables\n",
    "#df.drop(['tweet_id', 'engaged_with_user_id', 'engaging_user_id'], axis=1, inplace=True)\n",
    "\n",
    "# Add variable 'engagement_timestamp' and remove timestamp columns\n",
    "df['engagement_timestamp'] = df[['reply_timestamp','retweet_with_comment_timestamp','like_timestamp']].min(axis=1)\n",
    "df.drop(['reply_timestamp', 'retweet_timestamp', 'retweet_with_comment_timestamp', 'like_timestamp'], axis=1, inplace=True)\n",
    "\n",
    "# Add variable 'engagement_exists'\n",
    "df['engagement_exists'] = df['engagement_timestamp'].apply(lambda x: 0 if (np.isnan(x)) else 1)\n",
    "\n",
    "# Remove unused variables\n",
    "#df.drop(['present_domains', 'language'], axis=1, inplace=True)\n",
    "\n",
    "# Upload index\n",
    "df.reset_index(drop=True, inplace=True)"
   ]
  },
  {
   "cell_type": "code",
   "execution_count": null,
   "metadata": {},
   "outputs": [],
   "source": [
    "df.engagement_exists.value_counts()"
   ]
  },
  {
   "cell_type": "markdown",
   "metadata": {},
   "source": [
    "-------------------------------------------------------------------------------------------------------------------------------"
   ]
  },
  {
   "cell_type": "markdown",
   "metadata": {},
   "source": [
    "### Data Preprocessing\n",
    "\n",
    "asdasdasas....."
   ]
  },
  {
   "cell_type": "code",
   "execution_count": null,
   "metadata": {},
   "outputs": [],
   "source": [
    "# Transform variable 'hashtags' to boolean one-hot encoded\n",
    "df['present_hashtags'] = df['hashtags'].apply(lambda x: 1 if not pd.isnull(x) else 0)\n",
    "df.drop('hashtags', axis=1, inplace=True)\n",
    "\n",
    "# Transform variable 'present_links' to boolean one-hot encoded\n",
    "df['present_links'] = df['present_links'].apply(lambda x: 1 if not pd.isnull(x) else 0)\n",
    "\n",
    "# Transform variable 'present_media' into 3 new variables one-hot encoded\n",
    "def hot_encod_photo(x):\n",
    "    try:\n",
    "        return x.count('Photo')\n",
    "    except AttributeError:\n",
    "        return 0\n",
    "def hot_encod_video(x):\n",
    "    try:\n",
    "        return x.count('Video')\n",
    "    except AttributeError:\n",
    "        return 0\n",
    "def hot_encod_gif(x):\n",
    "    try:\n",
    "        return x.count('GIF')\n",
    "    except AttributeError:\n",
    "        return 0\n",
    "    \n",
    "df['present_photo'] = df['present_media'].apply(hot_encod_photo)\n",
    "df['present_video'] = df['present_media'].apply(hot_encod_video)\n",
    "df['present_gif'] = df['present_media'].apply(hot_encod_gif)\n",
    "\n",
    "df.drop(['present_media'], axis=1, inplace=True)\n",
    "\n",
    "# Transform boolean variables to one-hot encoded\n",
    "df[\"engaged_with_user_is_verified\"] = df[\"engaged_with_user_is_verified\"].astype(int)\n",
    "df[\"engaging_user_is_verified\"] = df[\"engaging_user_is_verified\"].astype(int)\n",
    "df[\"engagee_follows_engager\"] = df[\"engagee_follows_engager\"].astype(int)\n",
    "\n",
    "# Transform timestamp variables to readable dates\n",
    "df['tweet_timestamp'] = pd.to_datetime(df['tweet_timestamp'], unit='s')\n",
    "df['engagement_timestamp'] = pd.to_datetime(df['engagement_timestamp'], unit='s')\n",
    "df['engaged_with_user_account_creation'] = pd.to_datetime(df['engaged_with_user_account_creation'], unit='s')\n",
    "df['engaging_user_account_creation'] = pd.to_datetime(df['engaging_user_account_creation'], unit='s')\n",
    "\n",
    "# Transform 'tweet_type' variable to one-hot encoded\n",
    "dummies_tweet_type = pd.get_dummies(df['tweet_type'])\n",
    "df = pd.concat([df, dummies_tweet_type], axis=1)\n",
    "df.drop(['tweet_type'], axis=1, inplace=True)\n",
    "\n",
    "# Create new variable 'reaction_time'\n",
    "df['reaction_time'] = df['engagement_timestamp'] - df['tweet_timestamp']\n",
    "df['reaction_time'] = df['reaction_time'].dt.total_seconds()\n",
    "\n",
    "# Create new variable 'time_of_day'\n",
    "tweet_hour = df.tweet_timestamp.dt.hour\n",
    "bin = [0,8,16,24] \n",
    "category = pd.cut(tweet_hour, bin, include_lowest=True, labels=['morning','afternoon','evening'])\n",
    "df = pd.concat([df, pd.get_dummies(category)], axis=1)\n",
    "\n",
    "# Create new variable 'day_of_week'\n",
    "tweet_day = df.tweet_timestamp.dt.weekday\n",
    "df_tweet_day = pd.get_dummies(tweet_day)\n",
    "df_tweet_day.rename({0:'monday',1:'tuesday',2:'wednesday', 3:'thursday', 4:'friday', 5:'saturday', 6:'sunday'}, axis='columns', inplace=True)\n",
    "df = pd.concat([df, df_tweet_day], axis=1)\n",
    "\n",
    "# Remove variable 'tweet_timestamp'\n",
    "df.drop(['tweet_timestamp'], axis=1, inplace=True)\n",
    "df.drop(['engagement_timestamp'], axis=1, inplace=True)\n",
    "\n",
    "# Create new variable 'engaged_with_user_account_days'\n",
    "from datetime import date\n",
    "user_days = (pd.Timestamp.now() - df.engaged_with_user_account_creation).dt.days\n",
    "user_days.name = 'engaged_with_user_account_days'\n",
    "df = pd.concat([df, pd.Series(user_days)], axis=1)\n",
    "df.drop(['engaged_with_user_account_creation'], axis=1, inplace=True)\n",
    "\n",
    "# Create new variable 'engaging_user_account_days'\n",
    "from datetime import date\n",
    "user_days = (pd.Timestamp.now() - df.engaging_user_account_creation).dt.days\n",
    "user_days.name = 'engaging_user_account_days'\n",
    "df = pd.concat([df, pd.Series(user_days)], axis=1)\n",
    "df.drop(['engaging_user_account_creation'], axis=1, inplace=True)\n",
    "\n",
    "# Create new variable 'engaged_with_user_popular'\n",
    "\n",
    "ratio_follows = df.engaged_with_user_following_count/df.engaged_with_user_follower_count\n",
    "\n",
    "ratio_popular = ratio_follows <= np.percentile(ratio_follows, 25)\n",
    "follower_popular = df.engaged_with_user_follower_count >= df.engaged_with_user_follower_count.median()\n",
    "\n",
    "engaged_with_user_popular = pd.Series(ratio_popular & follower_popular, name = 'engaged_with_user_popular').astype(int)\n",
    "df = pd.concat([df, engaged_with_user_popular], axis=1)"
   ]
  },
  {
   "cell_type": "markdown",
   "metadata": {},
   "source": [
    "-------------------------------------------------------------------------------------------------------------------------------"
   ]
  },
  {
   "cell_type": "markdown",
   "metadata": {},
   "source": [
    "<a id='Data_analysis'></a>\n",
    "\n",
    "## 3.Data Analysis"
   ]
  },
  {
   "cell_type": "markdown",
   "metadata": {},
   "source": [
    "Intro"
   ]
  },
  {
   "cell_type": "markdown",
   "metadata": {},
   "source": [
    "<a id='Data_analysis_idioma'></a>\n",
    "### 3.1 Idioma "
   ]
  },
  {
   "cell_type": "code",
   "execution_count": 5,
   "metadata": {
    "scrolled": true
   },
   "outputs": [
    {
     "name": "stdout",
     "output_type": "stream",
     "text": [
      "['101', '16493', '12478', '117', '10105', '42370', '76299', '100', '187', '15480', '10108', '23837', '117', '10393', '169', '32342', '18077', '10135', '10226', '27925', '10111', '10393', '17087', '10950', '10114', '41904', '51937', '16981', '10142', '15217', '119', '14820', '10689', '17860', '169', '28502', '11360', '10689', '13461', '10105', '13451', '35688', '26981', '10142', '12557', '136', '14120', '131', '120', '120', '188', '119', '11170', '120', '175', '11166', '15705', '10129', '19282', '10113', '11396', '10362', '102']\n"
     ]
    }
   ],
   "source": [
    "print(df['text_tokens'].iloc[0])"
   ]
  },
  {
   "cell_type": "markdown",
   "metadata": {},
   "source": [
    "Volem identificar l'idioma dels twits, codificats en [BERT Base Multilingual Cased](https://huggingface.co/bert-base-multilingual-cased). Com els valor de la columna language estan codificats, volem inspeccionar el contingut dels textos per trobar els twits escrits en llengües que poguem interpretar. \n",
    "\n",
    "Per això decodifiquem el text d'un twit per valor de `language` i llegim el seu contingut. Farem servir la lliberia *transformers*:"
   ]
  },
  {
   "cell_type": "code",
   "execution_count": 6,
   "metadata": {},
   "outputs": [
    {
     "name": "stdout",
     "output_type": "stream",
     "text": [
      "language = D3164C7FBCF2565DDF915B1B3AEFB1DC \n",
      "\n",
      "[CLS] Jacob Young, the Syndicate [UNK] s Director of PR, has a serious problem on his hands and has reached out to Hammond Robotics for help. Can they find a solution before they become the next ones marked for death? https : / / t. co / g5evrQa8va [SEP]\n",
      "\n",
      "language = 22C448FF81263D4BAF2A176145EE9EAD \n",
      "\n",
      "[CLS] ただいま うさ 顔 洗 い 中. おしっこ 飛 ばしの 後 にはいつもする 仕 草. 壁 跡 は 生 々しいけれど 、 なんとも 愛 らしい [UNK] [UNK] ！.. # うさぎ # うさぎ 好 きさんと 繋 がりたい # 顔 洗 い # キリトリセカイ # 癒 し 動 画 # 動 物 好 きな 人 と 繋 がりたい # うさぎあるある # 動 物 あるある # ファインダー 越 しの 私 の 世 界 # 部 屋 んぽ # かわいい https : / / t. co / 2gKb0EeWqa [SEP]\n",
      "\n",
      "language = 06D61DCBBE938971E1EA0C38BD9B5446 \n",
      "\n",
      "[CLS] RT @ GermantequilIa : otra vez Las Palmas hacia ruta 68 pista izquierda bloqueada por choque de vehículo @ sitiodelsuceso @ AlertaVR https : / / t. [UNK] [SEP]\n",
      "\n",
      "language = ECED8A16BE2A5E8871FD55F4842F16B1 \n",
      "\n",
      "[CLS] Porque ele matou, esquartejou e deu os restos mortais da mãe do filho dele para os cachorros só pq não queria pagar pensão para a criança. Espero ter ajudado [SEP]\n",
      "\n",
      "language = B9175601E87101A984A50F8A62A1C374 \n",
      "\n",
      "[CLS] [UNK] https : / / t. co / bosN4gNZRy [SEP]\n",
      "\n",
      "language = 4DC22C3F31C5C43721E6B5815A595ED6 \n",
      "\n",
      "[CLS] Geneneksel arap aile yapısı bir horaz çokça tavuk [UNK] https : / / t. co / 6IIhmO2Txu [SEP]\n",
      "\n",
      "language = 167115458A0DBDFF7E9C0C53A83BAC9B \n",
      "\n",
      "[CLS] اطرحوا تساؤلاتكم الغريبة [UNK] [SEP]\n",
      "\n",
      "language = 022EC308651FACB02794A8147AEE1B78 \n",
      "\n",
      "[CLS] RT @ 2ndgavyn : [UNK] [UNK] [UNK] [UNK] [UNK] [UNK] [UNK].. สวัสดีครับ, ผมกวิน เมจซึงยอน [UNK] [UNK] [UNK], วันนี้จะมา [UNK] แลกฟอล [UNK] ตามทัก [UNK] รีทวิตเลยค [UNK] [SEP]\n",
      "\n",
      "language = FA3F382BC409C271E3D6EAF8BE4648DD \n",
      "\n",
      "[CLS] RT @ safouquoii : Bon, c [UNK] est ou qu [UNK] on commande un Julien la???? https : / / t. co / SviTre5nI5 [SEP]\n",
      "\n",
      "language = 125C57F4FA6D4E110983FB11B52EFD4E \n",
      "\n",
      "[CLS] RT @ water _ _ kim : [UNK] [UNK] [UNK] 아 [UNK]. 당신 [UNK] 매 _ [UNK] [UNK] ( [UNK] [UNK] [UNK] 益 [UNK] [UNK] ) [UNK] ( [UNK] [UNK] [UNK] 益 [UNK] [UNK] ) [UNK] ( [UNK] [UNK] [UNK] 益 [UNK] [UNK] ) [UNK] ( [UNK] [UNK] [UNK] 益 [UNK] [UNK] ) ง. [UNK] [UNK] [UNK] 할 만한 것 [UNK] [UNK] [UNK] [UNK] [SEP]\n",
      "\n",
      "language = 9BF3403E0EB7EA8A256DA9019C0B0716 \n",
      "\n",
      "[CLS] Jaehyun and jeno https : / / t. co / K9NsmcBaUe [SEP]\n",
      "\n",
      "language = 975B38F44D65EE42A547283787FF5A21 \n",
      "\n",
      "[CLS] लक्ष्मी विहार, पश्चिम दिल्ली में नजफगढ़ विधानसभा से @ BJP4Delhi के प्रत्याशी श्री @ KharkhariAjitजी की चुनावी जनसभा को संबोधित किया । जनता के इस प्रेम व विश्वास के लिए धन्यवाद । दिल्ली की जनता आम आदमी पार्टी को पहचान चुकी है इसलिए अब जनता ने भाजपा की सरकार लाने का मन बना लिया है । https : / / t. co / yBhSEAhBJa [SEP]\n",
      "\n",
      "language = 2996EB2FE8162C076D070A4C8D6532CD \n",
      "\n",
      "[CLS] Ano, now ka lang may concern kung kailan di ka niya pinapansin? Typical. Di mo man lang din hinahatid pauwi. [UNK].. Lol, jk. Lam ko naman na sa Cavite pa umuuwi si Lola and may classes si Eric. [UNK] [SEP]\n",
      "\n",
      "language = 3820C29CBCA409A33BADF68852057C4A \n",
      "\n",
      "[CLS] © Стас хд https : / / t. co / pbwwKoZ8Q8 [SEP]\n",
      "\n",
      "language = 717293301FE296B0B61950D041485825 \n",
      "\n",
      "[CLS] caraio que susto annabelle https : / / t. co / XicIqlAYpv [SEP]\n",
      "\n",
      "language = 3E16B11B7ADE3A22DDFC4423FBCEAD5D \n",
      "\n",
      "[CLS] @ J1nne سوال اصلی اینه که روحانی اصلا مگه فکر هم میکنه ؟ : ( [SEP]\n",
      "\n",
      "language = FF60A88F53E63000266F8B9149E35AD9 \n",
      "\n",
      "[CLS] RT @ NDRsport : Domagoj # Duvnjak ist einer der besten Handballer der Welt, hat zahlreiche Titel mit dem # THWKiel gewonnen. Eine Goldmedaille [UNK] [SEP]\n",
      "\n",
      "language = 76B8A9C3013AE6414A3E6012413CDC3B \n",
      "\n",
      "[CLS] 去 年 已 经 说 过 了 ， 战 时 管 制 的 一 个 措 施 ： 开 路 条 。. 只 是 买 个 菜 都 要 通 行 证 ， 有 点 让 人 意 外 。 [SEP]\n",
      "\n",
      "language = 9ECD42BC079C20F156F53CB3B99E600E \n",
      "\n",
      "[CLS] RT @ MichalSzczerba : „ Nie będą nam w obcych językach narzucali [UNK], skoro ich nie rozumiem. A jak próbuję wytłumaczyć, aparat mowy po kilku gór [UNK] [SEP]\n",
      "\n",
      "language = AEF22666801F0A5846D853B9CEB2E327 \n",
      "\n",
      "[CLS] بی آر ٹی پشاور میں ہوشرُبا لوُٹ مار میں بھی وزیرِاعظم کے قریبی دوست کا نام آرہا ہے جِس کو ڈنڈے کے زور پر تفتیش سے دوُر رکھا جا رہا ہےـ. کرپشن کی نت نئی داستانیں اِس حکومت سے منسلک ہو رہی ہیں جِس کا براہِ راست سرپرست وزیرِاعظم عمران خود ہےـ وزیروں کے ذریعے کرپشن ھو رھی ھے [SEP]\n",
      "\n",
      "language = 190BA7DA361BC06BC1D7E824C378064D \n",
      "\n",
      "[CLS] RT @ FAQSTV3 : [UNK] La JEC fa uns requeriments al president del Parlament o a la Mesa demanant - nos coses que no podem fer. Ens demanen una cosa i [UNK] [SEP]\n",
      "\n"
     ]
    }
   ],
   "source": [
    "#Import of the BertTokenizer module to detokenize the text tokens\n",
    "from transformers import BertTokenizer\n",
    "\n",
    "#Setting the BERT Base Multilingual Cased tokenizer model\n",
    "tokenizer = BertTokenizer.from_pretrained('bert-base-multilingual-cased')\n",
    "\n",
    "#Print the first tweet in the most frequent languages\n",
    "for index in df.language.value_counts().index[:21]:\n",
    "    dl = df[df.language == index].copy()\n",
    "    dl = dl.reset_index(drop=True)\n",
    "    print(\"language = {} \\n\".format(index))        \n",
    "    print(tokenizer.decode(dl['text_tokens'].iloc[0]) + '\\n')"
   ]
  },
  {
   "cell_type": "markdown",
   "metadata": {},
   "source": [
    "De cara a l'anàlisi textual dels twits, només hem inclòs aquells en **anglès**, **castellà** i **català** filtrant mitjançant els codis corresponents als textos que hem identificat.\n",
    "\n",
    "Per tant, només farem servir els languages `D3164C7FBCF2565DDF915B1B3AEFB1DC` (anglès), `06D61DCBBE938971E1EA0C38BD9B5446` (castellà) i `190BA7DA361BC06BC1D7E824C378064D` (català)."
   ]
  },
  {
   "cell_type": "code",
   "execution_count": 7,
   "metadata": {},
   "outputs": [
    {
     "name": "stdout",
     "output_type": "stream",
     "text": [
      "English subset has a total of 4197622 twits\n",
      "Spanish subset has a total of 916564 twits\n",
      "Catalan subset has a total of 23166 twits\n"
     ]
    }
   ],
   "source": [
    "#Subset: English language \n",
    "language = 'D3164C7FBCF2565DDF915B1B3AEFB1DC'\n",
    "d_eng = df[df.language == language].copy()\n",
    "d_eng = d_eng.reset_index(drop=True)\n",
    "\n",
    "#Subset: Spanish language \n",
    "language = '06D61DCBBE938971E1EA0C38BD9B5446'\n",
    "d_cast = df[df.language == language].copy()\n",
    "d_cast = d_cast.reset_index(drop=True)\n",
    "\n",
    "#Subset: Catalan language \n",
    "language = '190BA7DA361BC06BC1D7E824C378064D'\n",
    "d_cat = df[df.language == language].copy()\n",
    "d_cat = d_cat.reset_index(drop=True)\n",
    "\n",
    "print(\"English subset has a total of {} twits\".format(d_eng.size))\n",
    "print(\"Spanish subset has a total of {} twits\".format(d_cast.size))\n",
    "print(\"Catalan subset has a total of {} twits\".format(d_cat.size))"
   ]
  },
  {
   "cell_type": "markdown",
   "metadata": {},
   "source": [
    "<a id='Data_analysis_tipus'></a>\n",
    "### 3.2 Tipus de twit"
   ]
  },
  {
   "cell_type": "markdown",
   "metadata": {},
   "source": [
    "Una vegada filtrats els twits per idioma, parem atenció als tipus de twit:"
   ]
  },
  {
   "cell_type": "code",
   "execution_count": 8,
   "metadata": {
    "scrolled": true
   },
   "outputs": [
    {
     "data": {
      "text/plain": [
       "TopLevel    99974\n",
       "Retweet     72282\n",
       "Quote       18545\n",
       "Name: tweet_type, dtype: int64"
      ]
     },
     "execution_count": 8,
     "metadata": {},
     "output_type": "execute_result"
    }
   ],
   "source": [
    "d_eng['tweet_type'].value_counts()"
   ]
  },
  {
   "cell_type": "markdown",
   "metadata": {},
   "source": [
    "Tenim tres tipus de twits:\n",
    "- <b>TopLevel</b>: Twit publicat originalment per un usuari\n",
    "- <b>Retweet</b>: Twit compartit per un usuari, però publicat originalment per un altre usuari\n",
    "- <b>Quote</b>: Resposta d'un usuari a un TopLevel ó Retweet\n",
    "\n",
    "Amb la intenció d'identificar contingut original per usuari, descartem els Retweets. "
   ]
  },
  {
   "cell_type": "code",
   "execution_count": 9,
   "metadata": {},
   "outputs": [],
   "source": [
    "engagement_user_type = 'engaged_with_user_id'\n",
    "tweet_type = 'TopLevel'\n",
    "d_eng_top_level = d_eng.loc[d_eng['tweet_type'] == tweet_type]"
   ]
  },
  {
   "cell_type": "markdown",
   "metadata": {},
   "source": [
    "Així doncs, podem obtenir els usuaris amb més publicacions originals (TopLevel) de cada idioma."
   ]
  },
  {
   "cell_type": "code",
   "execution_count": 10,
   "metadata": {},
   "outputs": [
    {
     "data": {
      "text/plain": [
       "C6758D692A850E4C67B2763B66D1CFA8    659\n",
       "5FF622786FB4924A067BD44D4B717570    509\n",
       "E5D1B83B0E02FAFF871EEEF276D18132    395\n",
       "7C03844E8B2E0C7B4346D41028AB14E2    328\n",
       "FBB188A3C1E05C41587AAAC00B5B1879    232\n",
       "F2A8BF0F4EB185E6D2E5E1A0DF4C33AE    204\n",
       "416B919C0DAA48D42FF6780574034149    189\n",
       "8A800256378089EF53C6F655F8690490    183\n",
       "A9DAB08351D94BDE86235B37D6E8C61D    182\n",
       "9D9C2BC354011249F2D4D9B9C4205AC9    168\n",
       "Name: engaged_with_user_id, dtype: int64"
      ]
     },
     "execution_count": 10,
     "metadata": {},
     "output_type": "execute_result"
    }
   ],
   "source": [
    "d_eng_top_level[engagement_user_type].value_counts()[:10]"
   ]
  },
  {
   "cell_type": "markdown",
   "metadata": {},
   "source": [
    "Pel primer anàlisi, farem servir l'usuari més 'actiu' en anglès. "
   ]
  },
  {
   "cell_type": "code",
   "execution_count": 11,
   "metadata": {},
   "outputs": [],
   "source": [
    "#Take the user ID with most publications\n",
    "engaging_user_id = d_eng_top_level[engagement_user_type].value_counts().index[0]\n",
    "\n",
    "#Subset with only the twits of the user ID with most publications\n",
    "d_eng_user = d_eng_top_level.loc[d_eng[engagement_user_type] == engaging_user_id]"
   ]
  },
  {
   "cell_type": "markdown",
   "metadata": {},
   "source": [
    "Per tenir una idea del tipus d'usuari que hem obtingut, podem fer una ullada als seus 10 primers twits. "
   ]
  },
  {
   "cell_type": "code",
   "execution_count": 13,
   "metadata": {},
   "outputs": [
    {
     "name": "stdout",
     "output_type": "stream",
     "text": [
      "[CLS] Why didn [UNK] t John Bolton complain about this [UNK] nonsense [UNK] a long time ago, when he was very publicly terminated. He said, not that it matters, NOTHING! [SEP]\n",
      "[CLS] [UNK] I like President Trump [UNK] s Tweets ( Social Media ), I like everything about him... and this Ukraine stuff, the trial, the impeachment, this isn [UNK] t t about Ukraine. Donald Trump has committed the two unpardonable sins in the eyes of the Democrats. He beat Hillary Clinton in 2016, and.. [SEP]\n",
      "[CLS] Are you better off now than you were three years ago? Almost everyone say YES! [SEP]\n",
      "[CLS] Reports are that basketball great Kobe Bryant and three others have been killed in a helicopter crash in California. That is terrible news! [SEP]\n",
      "[CLS] The Democrat controlled House never even asked John Bolton to testify. It is up to them, not up to the Senate! [SEP]\n",
      "[CLS]..... So, what the hell has happened to @ FoxNews. Only I know! Chris Wallace and others should be on Fake News CNN or MSDNC. How [UNK] s Shep Smith doing? Watch, this will be the beginning of the end for Fox, just like the other two which are dying in the ratings. Social Media is great! [SEP]\n",
      "[CLS] On International Holocaust Remembrance Day, we remember the millions of precious souls who perished as a result of the horrific crimes perpetrated by the Nazi regime.... https : / / t. co / drhi6UeJ14 [SEP]\n",
      "[CLS] GAME OVER! https : / / t. co / yvMa6bPqfy [SEP]\n",
      "[CLS] For a guy who couldn [UNK] t get approved for the Ambassador to the U. N. years ago, couldn [UNK] t get approved for anything since, [UNK] begged [UNK] me for a non Senate approved job, which I gave him despite many saying [UNK] Don [UNK] t do it, sir, [UNK] takes the job, mistakenly says [UNK] Libyan Model [UNK] on T. V., and.. [SEP]\n",
      "[CLS] Kobe Bryant, despite being one of the truly great basketball players of all time, was just getting started in life. He loved his family so much, and had such strong passion for the future. The loss of his beautiful daughter, Gianna, makes this moment even more devastating.... [SEP]\n"
     ]
    }
   ],
   "source": [
    "for n in range (10): print(tokenizer.decode(d_eng_user['text_tokens'].iloc[n]))"
   ]
  },
  {
   "cell_type": "markdown",
   "metadata": {},
   "source": [
    "Podem veure que és un usuari de caire polític, molt segurament nord-americà. "
   ]
  },
  {
   "cell_type": "markdown",
   "metadata": {},
   "source": [
    "<a id='Data_analysis_tokens'></a>\n",
    "### 3.3 Text tokens: anàlisi i data cleaning"
   ]
  },
  {
   "cell_type": "markdown",
   "metadata": {},
   "source": [
    "Per poder entendre millor el model amb el que codifiquem i decodifiquem el text al nostre dataset, hem cregut oportú buscar si hi ha cap tipus d'ordre entre els tokens d'aquest. \n",
    "\n",
    "Imprimim els primers tokens del model per veure si es segueix algun ordre en la descripció de tokens. "
   ]
  },
  {
   "cell_type": "code",
   "execution_count": 14,
   "metadata": {
    "scrolled": true
   },
   "outputs": [
    {
     "name": "stdout",
     "output_type": "stream",
     "text": [
      "[PAD] [unused1] [unused2] [unused3] [unused4] [unused5] [unused6] [unused7] [unused8] [unused9] [unused10] [unused11] [unused12] [unused13] [unused14] [unused15] [unused16] [unused17] [unused18] [unused19] [unused20] [unused21] [unused22] [unused23] [unused24] [unused25] [unused26] [unused27] [unused28] [unused29] [unused30] [unused31] [unused32] [unused33] [unused34] [unused35] [unused36] [unused37] [unused38] [unused39] [unused40] [unused41] [unused42] [unused43] [unused44] [unused45] [unused46] [unused47] [unused48] [unused49] [unused50] [unused51] [unused52] [unused53] [unused54] [unused55] [unused56] [unused57] [unused58] [unused59] [unused60] [unused61] [unused62] [unused63] [unused64] [unused65] [unused66] [unused67] [unused68] [unused69] [unused70] [unused71] [unused72] [unused73] [unused74] [unused75] [unused76] [unused77] [unused78] [unused79] [unused80] [unused81] [unused82] [unused83] [unused84] [unused85] [unused86] [unused87] [unused88] [unused89] [unused90] [unused91] [unused92] [unused93] [unused94] [unused95] [unused96] [unused97] [unused98] [unused99] [UNK] [CLS] [SEP] [MASK] <S> <T>! \" # $ % &'( ) * +, -. / 0 1 2 3 4 5 6 7 8 9 : ; < = >? @ A B C D E F G H I J K L M N O P Q R S T U V W X Y Z [ \\ ] ^ _ a b c d e f g h i j k l m n o p q r s t u v w x y z { | } ~ ¡ ¢ £ ¥ ¦ § ¨ © ª « ¬ ® ° ± ² ³ µ ¶ · ¹ º » ¼ ½ ¾ ¿ À Á Â Ã Ä Å Æ Ç È É Ê Ë Ì Í Î Ð Ñ Ò Ó Ô Õ Ö × Ø Ú Ü Ý Þ ß à á â ã ä å æ ç è é ê ë ì í î ï ð ñ ò ó ô õ ö ÷ ø ù ú û ü ý þ ÿ Ā ā Ă ă Ą ą Ć ć Č č Ď ď Đ đ Ē ē Ĕ ĕ Ė ė ę ě Ğ ğ ġ Ģ ģ Ħ ħ ĩ Ī ī Į į İ ı Ķ ķ ĺ Ļ ļ Ľ ľ Ł ł ń Ņ ņ ň ŉ ŋ Ō ō ŏ Ő ő Œ œ ŕ Ř ř Ś ś Ş ş Š š Ţ ţ Ť ť ũ Ū ū ŭ ů Ű ű ų ŵ ŷ Ź ź Ż ż Ž ž Ə ƒ ơ Ư ư ǎ ǐ ǔ ǫ ǹ Ș ș Ț ț ɐ ɑ ɔ ɕ ə ɛ ɡ ɣ ɨ ɪ ɲ ɾ ʁ ʃ ʊ ʎ ʒ ʔ ʙ ʰ ʲ ʳ ʷ ʸ ʻ ʼ ʾ ʿ ˈ ː ˡ ˢ ̀ ́ ̃ ̄ ̍ ̥ ̧ ̲ ͡ ΄ Ά Έ Ή Ί Ό Ύ Ώ ΐ Α Β Γ Δ Ε Ζ Η Θ Ι Κ Λ Μ Ν Ξ Ο Π Ρ Σ Τ Υ Φ Χ Ψ Ω ά έ ή ί α β γ δ ε ζ η θ ι κ λ μ ν ξ ο π ρ ς σ τ υ φ χ ψ ω ϊ ϋ ό ύ ώ Ё Ђ Ѓ Є Ѕ І Ї Ј Љ Њ Ћ Ќ Ў Џ А Б В Г Д Е Ж З И Й К Л М Н О П Р С Т У Ф Х Ц Ч Ш Щ Ъ Ы Ь Э Ю Я а б в г д е ж з и й к л м н о п р с т у ф х ц ч ш щ ъ ы ь э ю я ѐ ё ђ ѓ є ѕ і ї ј љ њ ћ ќ ѝ ў џ ѣ Ґ ґ Ғ ғ Җ җ Ҙ ҙ Қ қ Ҡ ҡ ң ҫ Ү ү Ұ ұ Ҳ ҳ Ҷ ҷ Һ һ Ӏ ӑ ӗ Ә ә ӣ Ө ө Ӯ ӯ ӳ Ա Բ Գ Դ Ե Զ Է Ը Թ Ժ Ի Լ Խ Ծ Կ Հ Ձ Ղ Ճ Մ Յ Ն Շ Ո Չ Պ Ջ Ռ Ս Վ Տ Ր Ց Ւ Փ Ք Օ Ֆ ՚ ՛ ՜ ՝ ՞ ա բ գ դ ե զ է ը թ ժ ի լ խ ծ կ հ ձ ղ ճ մ յ ն շ ո չ պ ջ ռ ս վ տ ր ց ւ փ ք օ ֆ և ։ ֊ ְ ֱ ֲ ִ ֵ ֶ ַ ָ ֹ ּ ־ ׁ ׂ ׃ א ב ג ד ה ו ז ח ט י ך כ ל ם מ ן נ ס ע ף פ ץ צ ק ר ש ת ׳ ״ ، ؍ ؒ ؛ ؟ ء آ أ ؤ إ ئ ا ب ة ت ث ج ح خ د ذ ر ز س ش ص ض ط ظ ع غ ـ ف ق ك ل م ن ه و ى ي ً ٌ ٍ َ ُ ِ ّ ْ ٔ ٛ ٠ ١ ٢ ٣ ٤ ٥ ٩ ٪ ٫ ٬ ٭ ٰ ٹ پ چ ڈ ڑ ژ ڤ ک ڭ گ ں ھ ۀ ہ ۂ ۃ ۆ ۇ ی ے ۓ ۔ ۰ ۱ ۲ ۳ ۴ ۵ ۶ ۷ ۸ ۹ ँ ं ः अ आ इ ई उ ऊ ऋ ऍ ऎ ए ऐ ऑ ओ औ क ख ग घ ङ च छ ज झ ञ ट ठ ड ढ ण त थ द ध न प फ ब भ म य र ऱ ल ळ व श ष स ह ़ ऽ ा ि ी ु ू ृ ॄ ॅ ॆ े ै ॉ ो ौ ् ॐ ॓ ॠ । ॥ ० १ २ ३ ४ ५ ६ ७ ८ ९ ॰ ॲ ঁ ং ঃ অ আ ই ঈ উ ঊ ঋ এ ঐ ও ঔ ক খ গ ঘ ঙ চ ছ জ ঝ ঞ ট ঠ ড ঢ ণ ত থ দ ধ ন প ফ ব ভ ম য র ল শ ষ স হ ় া ি ী ু ূ ৃ ে ৈ ো ৌ ্ ৎ ০ ১ ২ ৩ ৪ ৫ ৬\n"
     ]
    }
   ],
   "source": [
    "n = 1000\n",
    "print(tokenizer.decode(x for x in range(0,n)))"
   ]
  },
  {
   "cell_type": "markdown",
   "metadata": {},
   "source": [
    "Veiem que els primers 105 tokens estan reservats per codis . Després s'assignen els tokens posteriors a  signes de puntuació i números. Desprès es codifiquen els distints alfabets que s'inclouen al model. \n",
    "\n",
    "Per un altre costat, analiztant tokens més endavant, podem veure que si a cada paraula reconeguda pel model, se li assignarà un token propi."
   ]
  },
  {
   "cell_type": "code",
   "execution_count": 15,
   "metadata": {
    "scrolled": true
   },
   "outputs": [
    {
     "name": "stdout",
     "output_type": "stream",
     "text": [
      "33 годинеן three 1948 fuů invånaream kvadratkilometerou4 Earthä anche benот 1942는 made англria కి yeov 00 1957 người 1930 1920il used 1954mo dhe 09 vomwa Unjo sebagai formaésicabe Seion durante przez suchного deux 08 known ved 36 South ta nie then он USAken 1946 dass You Mariaina να 34 final 1955 से である Leagueной کی populationпраland का 1938lla than nuب 1953ine naamTسный 300 IV 1949 Thomas 1918 India τον 1952 All한 הוא State merupakanскойunні Oxford familie club July 1947 یکzione més elle Richardche June team Az 1936 unter học 44Pরneric care secondł zen ca mga Nel として Retrievedok відigth Marchو inomnuш She που には someada Santa there olehste GeoNamesut British pe Film ke West data5 gli areaán co 38 һәм 1937ció born 400 kao any became τωνdos vớitonского serie एक ook છેque vorку place Berlinныеty soorttes includingে\n"
     ]
    }
   ],
   "source": [
    "print(tokenizer.decode(x for x in range(11000,11200)))"
   ]
  },
  {
   "cell_type": "markdown",
   "metadata": {},
   "source": [
    "#### Text cleaning"
   ]
  },
  {
   "cell_type": "markdown",
   "metadata": {},
   "source": [
    "Si bé la resta de columnes del nostre dataset per ara seran tractades en altre moment i secció, el procés de neteja de les dades de text l'hem portat a terme a la par que l'anàlisi del text, tant tokenitzat com decodificat. \n",
    "\n",
    "Podem veure al text que es repeteixen uns codis a l'inici (`[CLS]`) i final (`[SEP]`) de cada twit. De cara al procès de data cleaning, ens interessaria eliminar aquests codis. Aprofitarem també per eliminar qualsevol possible aparició d'altres tokens que no aportaran valor al text: `[PAD]` i `[MASK]`. "
   ]
  },
  {
   "cell_type": "code",
   "execution_count": 16,
   "metadata": {},
   "outputs": [
    {
     "name": "stdout",
     "output_type": "stream",
     "text": [
      "0: [ P A D ]\n",
      "101: [ C L S ]\n",
      "102: [ S E P ]\n",
      "103: [ M A S K ]\n"
     ]
    }
   ],
   "source": [
    "num_tokens = [0, 101, 102, 103]\n",
    "\n",
    "for x in num_tokens:\n",
    "    print('{}: {}'.format(x, tokenizer.decode(x)))"
   ]
  },
  {
   "cell_type": "markdown",
   "metadata": {},
   "source": [
    "Una vegada identificat el token per cadascun d'aquets codis, procedim a eliminar-los del nostre dataset."
   ]
  },
  {
   "cell_type": "code",
   "execution_count": 18,
   "metadata": {},
   "outputs": [],
   "source": [
    "#Convert the token list to string items\n",
    "num_tokens = [ str(x) for x in num_tokens ]\n",
    "\n",
    "#Remove all the items in num_tokens in each tweet\n",
    "for k in range(len(d_eng['text_tokens'])):\n",
    "    for r in num_tokens:\n",
    "        if r in d_eng['text_tokens'][k]:\n",
    "            d_eng['text_tokens'][k].remove(r)"
   ]
  },
  {
   "cell_type": "markdown",
   "metadata": {},
   "source": [
    "Podem veure la diferència imprimint els mateixos twits de l'usuari més actiu."
   ]
  },
  {
   "cell_type": "code",
   "execution_count": 21,
   "metadata": {},
   "outputs": [
    {
     "name": "stdout",
     "output_type": "stream",
     "text": [
      "Why didn [UNK] t John Bolton complain about this [UNK] nonsense [UNK] a long time ago, when he was very publicly terminated. He said, not that it matters, NOTHING!\n",
      "[UNK] I like President Trump [UNK] s Tweets ( Social Media ), I like everything about him... and this Ukraine stuff, the trial, the impeachment, this isn [UNK] t t about Ukraine. Donald Trump has committed the two unpardonable sins in the eyes of the Democrats. He beat Hillary Clinton in 2016, and..\n",
      "Are you better off now than you were three years ago? Almost everyone say YES!\n",
      "Reports are that basketball great Kobe Bryant and three others have been killed in a helicopter crash in California. That is terrible news!\n",
      "The Democrat controlled House never even asked John Bolton to testify. It is up to them, not up to the Senate!\n",
      "..... So, what the hell has happened to @ FoxNews. Only I know! Chris Wallace and others should be on Fake News CNN or MSDNC. How [UNK] s Shep Smith doing? Watch, this will be the beginning of the end for Fox, just like the other two which are dying in the ratings. Social Media is great!\n",
      "On International Holocaust Remembrance Day, we remember the millions of precious souls who perished as a result of the horrific crimes perpetrated by the Nazi regime.... https : / / t. co / drhi6UeJ14\n",
      "GAME OVER! https : / / t. co / yvMa6bPqfy\n",
      "For a guy who couldn [UNK] t get approved for the Ambassador to the U. N. years ago, couldn [UNK] t get approved for anything since, [UNK] begged [UNK] me for a non Senate approved job, which I gave him despite many saying [UNK] Don [UNK] t do it, sir, [UNK] takes the job, mistakenly says [UNK] Libyan Model [UNK] on T. V., and..\n",
      "Kobe Bryant, despite being one of the truly great basketball players of all time, was just getting started in life. He loved his family so much, and had such strong passion for the future. The loss of his beautiful daughter, Gianna, makes this moment even more devastating....\n"
     ]
    }
   ],
   "source": [
    "d_eng_top_level = d_eng.loc[d_eng['tweet_type'] == tweet_type]\n",
    "engaging_user_id = d_eng_top_level[engagement_user_type].value_counts().index[0]\n",
    "d_eng_user = d_eng_top_level.loc[d_eng[engagement_user_type] == engaging_user_id]\n",
    "\n",
    "for n in range (10): print(tokenizer.decode(d_eng_user['text_tokens'].iloc[n]))"
   ]
  },
  {
   "cell_type": "markdown",
   "metadata": {},
   "source": [
    "<a id='Data_analysis_links'></a>\n",
    "### 3.4 Links: enllaços, multimedia i retweets\n"
   ]
  },
  {
   "cell_type": "markdown",
   "metadata": {},
   "source": [
    "#### Accès als links"
   ]
  },
  {
   "cell_type": "markdown",
   "metadata": {},
   "source": [
    "Per poder entendre amb més detall els twits, hem cregut necessari analitzar també els enllaços que s'hi publiquen en aquests. Malauradament, la decodificació dels tokens relatius als links resulta en les distintes parts de l'enllaç separades per un espai. \n",
    "\n",
    "Amb la idea de fer-los *clickables*, i així més fàcil d'accedir, reconstruirem els links a partir de les parts."
   ]
  },
  {
   "cell_type": "code",
   "execution_count": 22,
   "metadata": {},
   "outputs": [],
   "source": [
    "import re\n",
    "#We are looking for patterns such as https : / / t. co / yvMa6bPqfy\n",
    "valid_pattern = 'https : \\/ \\/ t\\. co \\/ [\\dA-Za-z\\.-]+'"
   ]
  },
  {
   "cell_type": "markdown",
   "metadata": {},
   "source": [
    "Farem servir regex per identificar tots els patrons que corresponguin als links presents al text. Aprofitarem també per a guardar una columna amb el text decodificat.\n",
    "\n",
    "Guardarem també els links en una columna apart, de manera que poguem accedir-hi independentment."
   ]
  },
  {
   "cell_type": "code",
   "execution_count": 24,
   "metadata": {},
   "outputs": [],
   "source": [
    "#Replace the links in the text in order to made them clickable\n",
    "\n",
    "#Create a new column to store the list of links\n",
    "d_eng['present_links_url'] = \"\"\n",
    "\n",
    "#Now that the text will be more readable, we will create a column with the text\n",
    "d_eng['text'] = \"\"    \n",
    "\n",
    "for index, row in d_eng.iterrows():\n",
    "    links_list = []\n",
    "    links_list_clean = []\n",
    "    tweet_text = tokenizer.decode(d_eng['text_tokens'][index])\n",
    "    links_list = re.findall(valid_pattern, tweet_text)\n",
    "    \n",
    "    for i, s in enumerate(links_list):\n",
    "        if i != 0:\n",
    "            tweet_text = tweet_text_replaced\n",
    "        link_old = s\n",
    "        link_new = s.replace(' ','') # I use replace because s.strip() is not working\n",
    "        links_list_clean.append(link_new)\n",
    "        tweet_text_replaced = tweet_text.replace(link_old, link_new)\n",
    "    \n",
    "    d_eng.at[index, 'present_links_url'] = links_list_clean\n",
    "    \n",
    "    if links_list == []:    \n",
    "        d_eng.at[index, 'text'] = tweet_text\n",
    "    else:\n",
    "        d_eng.at[index, 'text'] = tweet_text_replaced"
   ]
  },
  {
   "cell_type": "markdown",
   "metadata": {},
   "source": [
    "Per tal de agrupar totes les característiques textuals, reorganitzem les columnes del dataset."
   ]
  },
  {
   "cell_type": "code",
   "execution_count": 25,
   "metadata": {
    "scrolled": true
   },
   "outputs": [
    {
     "data": {
      "text/html": [
       "<div>\n",
       "<style scoped>\n",
       "    .dataframe tbody tr th:only-of-type {\n",
       "        vertical-align: middle;\n",
       "    }\n",
       "\n",
       "    .dataframe tbody tr th {\n",
       "        vertical-align: top;\n",
       "    }\n",
       "\n",
       "    .dataframe thead th {\n",
       "        text-align: right;\n",
       "    }\n",
       "</style>\n",
       "<table border=\"1\" class=\"dataframe\">\n",
       "  <thead>\n",
       "    <tr style=\"text-align: right;\">\n",
       "      <th></th>\n",
       "      <th>text_tokens</th>\n",
       "      <th>text</th>\n",
       "      <th>hashtags</th>\n",
       "      <th>tweet_id</th>\n",
       "      <th>present_links_url</th>\n",
       "      <th>present_media</th>\n",
       "      <th>present_links</th>\n",
       "      <th>present_domains</th>\n",
       "      <th>tweet_type</th>\n",
       "      <th>language</th>\n",
       "      <th>...</th>\n",
       "      <th>engaged_with_user_is_verified</th>\n",
       "      <th>engaged_with_user_account_creation</th>\n",
       "      <th>engaging_user_id</th>\n",
       "      <th>engaging_user_follower_count</th>\n",
       "      <th>engaging_user_following_count</th>\n",
       "      <th>engaging_user_is_verified</th>\n",
       "      <th>engaging_user_account_creation</th>\n",
       "      <th>engagee_follows_engager</th>\n",
       "      <th>engagement_timestamp</th>\n",
       "      <th>engagement_exists</th>\n",
       "    </tr>\n",
       "  </thead>\n",
       "  <tbody>\n",
       "    <tr>\n",
       "      <th>0</th>\n",
       "      <td>[16493, 12478, 117, 10105, 42370, 76299, 100, ...</td>\n",
       "      <td>Jacob Young, the Syndicate [UNK] s Director of...</td>\n",
       "      <td>NaN</td>\n",
       "      <td>39024FBE0136E046D1357196BAECFCA6</td>\n",
       "      <td>[https://t.co/g5evrQa8va]</td>\n",
       "      <td>GIF</td>\n",
       "      <td>NaN</td>\n",
       "      <td>NaN</td>\n",
       "      <td>TopLevel</td>\n",
       "      <td>D3164C7FBCF2565DDF915B1B3AEFB1DC</td>\n",
       "      <td>...</td>\n",
       "      <td>True</td>\n",
       "      <td>1537233359</td>\n",
       "      <td>000006829BEADA9EEA695CF0C334B426</td>\n",
       "      <td>2</td>\n",
       "      <td>29</td>\n",
       "      <td>False</td>\n",
       "      <td>1568107028</td>\n",
       "      <td>False</td>\n",
       "      <td>NaN</td>\n",
       "      <td>0</td>\n",
       "    </tr>\n",
       "    <tr>\n",
       "      <th>1</th>\n",
       "      <td>[14924, 16118, 10114, 12888, 15127, 31204, 101...</td>\n",
       "      <td>Final week to see my exhibition in the Shircli...</td>\n",
       "      <td>3653868A966576CF17D6A9064889BCED\\t7A6710E791A1...</td>\n",
       "      <td>AB3ADBBD011F88D10FE7F6C5FDAB214C</td>\n",
       "      <td>[https://t.co/PxG5XzTruM]</td>\n",
       "      <td>Photo</td>\n",
       "      <td>NaN</td>\n",
       "      <td>NaN</td>\n",
       "      <td>TopLevel</td>\n",
       "      <td>D3164C7FBCF2565DDF915B1B3AEFB1DC</td>\n",
       "      <td>...</td>\n",
       "      <td>False</td>\n",
       "      <td>1243537809</td>\n",
       "      <td>000269A50293CC2B1E9C72B287FA624E</td>\n",
       "      <td>515</td>\n",
       "      <td>424</td>\n",
       "      <td>False</td>\n",
       "      <td>1254588643</td>\n",
       "      <td>True</td>\n",
       "      <td>1.581090e+09</td>\n",
       "      <td>1</td>\n",
       "    </tr>\n",
       "    <tr>\n",
       "      <th>2</th>\n",
       "      <td>[138, 19826, 10108, 10105, 10635, 10105, 12250...</td>\n",
       "      <td>A lot of the time the side that wins is simply...</td>\n",
       "      <td>NaN</td>\n",
       "      <td>675D7920EA2FB4869BA767F5122FB115</td>\n",
       "      <td>[]</td>\n",
       "      <td>NaN</td>\n",
       "      <td>NaN</td>\n",
       "      <td>NaN</td>\n",
       "      <td>TopLevel</td>\n",
       "      <td>D3164C7FBCF2565DDF915B1B3AEFB1DC</td>\n",
       "      <td>...</td>\n",
       "      <td>True</td>\n",
       "      <td>1384637463</td>\n",
       "      <td>0004C10C480EF88F3EED5822149DC93F</td>\n",
       "      <td>4</td>\n",
       "      <td>125</td>\n",
       "      <td>False</td>\n",
       "      <td>1547955941</td>\n",
       "      <td>False</td>\n",
       "      <td>1.581135e+09</td>\n",
       "      <td>1</td>\n",
       "    </tr>\n",
       "    <tr>\n",
       "      <th>3</th>\n",
       "      <td>[56898, 137, 42374, 36630, 10797, 90861, 131, ...</td>\n",
       "      <td>RT @ readyletsgo27 : Schiff, Nadler and Pelosi...</td>\n",
       "      <td>NaN</td>\n",
       "      <td>7EAAE5C243D675AD4CFC2C052B0E0BB5</td>\n",
       "      <td>[]</td>\n",
       "      <td>NaN</td>\n",
       "      <td>NaN</td>\n",
       "      <td>NaN</td>\n",
       "      <td>Retweet</td>\n",
       "      <td>D3164C7FBCF2565DDF915B1B3AEFB1DC</td>\n",
       "      <td>...</td>\n",
       "      <td>False</td>\n",
       "      <td>1439599039</td>\n",
       "      <td>000830B836532B8FC5564949E94FEDD6</td>\n",
       "      <td>33439</td>\n",
       "      <td>35598</td>\n",
       "      <td>False</td>\n",
       "      <td>1261862258</td>\n",
       "      <td>True</td>\n",
       "      <td>NaN</td>\n",
       "      <td>0</td>\n",
       "    </tr>\n",
       "    <tr>\n",
       "      <th>4</th>\n",
       "      <td>[137, 87043, 10679, 11369, 11211, 22650, 11305...</td>\n",
       "      <td>@ LiliyaL62076921 Unique beauty of flowers [UN...</td>\n",
       "      <td>C8F2526CD1AEA3A8CFC67EB4B79E46D5</td>\n",
       "      <td>E243DF6401359C38C5D21B6FB86A881E</td>\n",
       "      <td>[]</td>\n",
       "      <td>NaN</td>\n",
       "      <td>NaN</td>\n",
       "      <td>NaN</td>\n",
       "      <td>TopLevel</td>\n",
       "      <td>D3164C7FBCF2565DDF915B1B3AEFB1DC</td>\n",
       "      <td>...</td>\n",
       "      <td>False</td>\n",
       "      <td>1481783602</td>\n",
       "      <td>0011F45B80474E4FF47250ED24C5482C</td>\n",
       "      <td>27980</td>\n",
       "      <td>25991</td>\n",
       "      <td>False</td>\n",
       "      <td>1493066269</td>\n",
       "      <td>True</td>\n",
       "      <td>1.581058e+09</td>\n",
       "      <td>1</td>\n",
       "    </tr>\n",
       "  </tbody>\n",
       "</table>\n",
       "<p>5 rows × 24 columns</p>\n",
       "</div>"
      ],
      "text/plain": [
       "                                         text_tokens  \\\n",
       "0  [16493, 12478, 117, 10105, 42370, 76299, 100, ...   \n",
       "1  [14924, 16118, 10114, 12888, 15127, 31204, 101...   \n",
       "2  [138, 19826, 10108, 10105, 10635, 10105, 12250...   \n",
       "3  [56898, 137, 42374, 36630, 10797, 90861, 131, ...   \n",
       "4  [137, 87043, 10679, 11369, 11211, 22650, 11305...   \n",
       "\n",
       "                                                text  \\\n",
       "0  Jacob Young, the Syndicate [UNK] s Director of...   \n",
       "1  Final week to see my exhibition in the Shircli...   \n",
       "2  A lot of the time the side that wins is simply...   \n",
       "3  RT @ readyletsgo27 : Schiff, Nadler and Pelosi...   \n",
       "4  @ LiliyaL62076921 Unique beauty of flowers [UN...   \n",
       "\n",
       "                                            hashtags  \\\n",
       "0                                                NaN   \n",
       "1  3653868A966576CF17D6A9064889BCED\\t7A6710E791A1...   \n",
       "2                                                NaN   \n",
       "3                                                NaN   \n",
       "4                   C8F2526CD1AEA3A8CFC67EB4B79E46D5   \n",
       "\n",
       "                           tweet_id          present_links_url present_media  \\\n",
       "0  39024FBE0136E046D1357196BAECFCA6  [https://t.co/g5evrQa8va]           GIF   \n",
       "1  AB3ADBBD011F88D10FE7F6C5FDAB214C  [https://t.co/PxG5XzTruM]         Photo   \n",
       "2  675D7920EA2FB4869BA767F5122FB115                         []           NaN   \n",
       "3  7EAAE5C243D675AD4CFC2C052B0E0BB5                         []           NaN   \n",
       "4  E243DF6401359C38C5D21B6FB86A881E                         []           NaN   \n",
       "\n",
       "  present_links present_domains tweet_type                          language  \\\n",
       "0           NaN             NaN   TopLevel  D3164C7FBCF2565DDF915B1B3AEFB1DC   \n",
       "1           NaN             NaN   TopLevel  D3164C7FBCF2565DDF915B1B3AEFB1DC   \n",
       "2           NaN             NaN   TopLevel  D3164C7FBCF2565DDF915B1B3AEFB1DC   \n",
       "3           NaN             NaN    Retweet  D3164C7FBCF2565DDF915B1B3AEFB1DC   \n",
       "4           NaN             NaN   TopLevel  D3164C7FBCF2565DDF915B1B3AEFB1DC   \n",
       "\n",
       "   ...  engaged_with_user_is_verified engaged_with_user_account_creation  \\\n",
       "0  ...                           True                         1537233359   \n",
       "1  ...                          False                         1243537809   \n",
       "2  ...                           True                         1384637463   \n",
       "3  ...                          False                         1439599039   \n",
       "4  ...                          False                         1481783602   \n",
       "\n",
       "                   engaging_user_id  engaging_user_follower_count  \\\n",
       "0  000006829BEADA9EEA695CF0C334B426                             2   \n",
       "1  000269A50293CC2B1E9C72B287FA624E                           515   \n",
       "2  0004C10C480EF88F3EED5822149DC93F                             4   \n",
       "3  000830B836532B8FC5564949E94FEDD6                         33439   \n",
       "4  0011F45B80474E4FF47250ED24C5482C                         27980   \n",
       "\n",
       "   engaging_user_following_count  engaging_user_is_verified  \\\n",
       "0                             29                      False   \n",
       "1                            424                      False   \n",
       "2                            125                      False   \n",
       "3                          35598                      False   \n",
       "4                          25991                      False   \n",
       "\n",
       "  engaging_user_account_creation  engagee_follows_engager  \\\n",
       "0                     1568107028                    False   \n",
       "1                     1254588643                     True   \n",
       "2                     1547955941                    False   \n",
       "3                     1261862258                     True   \n",
       "4                     1493066269                     True   \n",
       "\n",
       "   engagement_timestamp  engagement_exists  \n",
       "0                   NaN                  0  \n",
       "1          1.581090e+09                  1  \n",
       "2          1.581135e+09                  1  \n",
       "3                   NaN                  0  \n",
       "4          1.581058e+09                  1  \n",
       "\n",
       "[5 rows x 24 columns]"
      ]
     },
     "execution_count": 25,
     "metadata": {},
     "output_type": "execute_result"
    }
   ],
   "source": [
    "second_col = d_eng['text']\n",
    "d_eng.drop(labels=['text'], axis=1, inplace = True)\n",
    "d_eng.insert(1, 'text', second_col)\n",
    "d_eng.head()\n",
    "\n",
    "col = d_eng['present_links_url']\n",
    "d_eng.drop(labels=['present_links_url'], axis=1, inplace = True)\n",
    "d_eng.insert(4, 'present_links_url', col)\n",
    "d_eng.head()"
   ]
  },
  {
   "cell_type": "markdown",
   "metadata": {},
   "source": [
    "Finalment, imprimim 10 twits a l'atzar del mateix usuari que del que hem estat llegint fins ara. Hem inclòs el twit original (ja netejat de caràcters no desitjats) per comprovar que tot el procès ha sigut correcte fins ara. "
   ]
  },
  {
   "cell_type": "code",
   "execution_count": 28,
   "metadata": {},
   "outputs": [
    {
     "name": "stdout",
     "output_type": "stream",
     "text": [
      "User ID: C6758D692A850E4C67B2763B66D1CFA8\n",
      "Tweet ID: DFF843092088AD41E897472B9EEF6149\n",
      "\n",
      "Original text: \n",
      "The Radical Left, Do Nothing Democrats keep chanting [UNK] fairness [UNK], when they put on the most unfair Witch Hunt in the history of the U. S. Congress. They had 17 Witnesses, we were allowed ZERO, and no lawyers. They didn [UNK] t do their job, had no case. The Dems are scamming America!\n",
      "\n",
      "Resulting text: \n",
      "The Radical Left, Do Nothing Democrats keep chanting [UNK] fairness [UNK], when they put on the most unfair Witch Hunt in the history of the U. S. Congress. They had 17 Witnesses, we were allowed ZERO, and no lawyers. They didn [UNK] t do their job, had no case. The Dems are scamming America!\n",
      "\n",
      "------------------------ \n",
      "\n",
      "User ID: C6758D692A850E4C67B2763B66D1CFA8\n",
      "Tweet ID: D5559D998F2306D3459EA2BA2E961C3F\n",
      "\n",
      "Original text: \n",
      "READ THE TRANSCRIPTS!\n",
      "\n",
      "Resulting text: \n",
      "READ THE TRANSCRIPTS!\n",
      "\n",
      "------------------------ \n",
      "\n",
      "User ID: C6758D692A850E4C67B2763B66D1CFA8\n",
      "Tweet ID: 4112F852B30790E59D7719E96B2685FA\n",
      "\n",
      "Original text: \n",
      "THE BEST IS YET TO COME! https : / / t. co / SOn6wRV9Zs\n",
      "\n",
      "Resulting text: \n",
      "THE BEST IS YET TO COME! https://t.co/SOn6wRV9Zs\n",
      "\n",
      "Links: \n",
      "https://t.co/SOn6wRV9Zs\n",
      "------------------------ \n",
      "\n",
      "User ID: C6758D692A850E4C67B2763B66D1CFA8\n",
      "Tweet ID: 60645F02DB7840F41ACA6DA8723334DA\n",
      "\n",
      "Original text: \n",
      "The Great @ LouDobbs : [UNK] People know, after 3 years of this President, the most historic President in our Country [UNK] s history, that there is no one who can touch what he [UNK] s done in 3 years, foreign policy, domestic policy, you name it, it [UNK] s amazing. Just to have the guts not to be.....\n",
      "\n",
      "Resulting text: \n",
      "The Great @ LouDobbs : [UNK] People know, after 3 years of this President, the most historic President in our Country [UNK] s history, that there is no one who can touch what he [UNK] s done in 3 years, foreign policy, domestic policy, you name it, it [UNK] s amazing. Just to have the guts not to be.....\n",
      "\n",
      "------------------------ \n",
      "\n",
      "User ID: C6758D692A850E4C67B2763B66D1CFA8\n",
      "Tweet ID: AD10C649E8CD710303E443F5DE067D31\n",
      "\n",
      "Original text: \n",
      "Kobe Bryant, despite being one of the truly great basketball players of all time, was just getting started in life. He loved his family so much, and had such strong passion for the future. The loss of his beautiful daughter, Gianna, makes this moment even more devastating....\n",
      "\n",
      "Resulting text: \n",
      "Kobe Bryant, despite being one of the truly great basketball players of all time, was just getting started in life. He loved his family so much, and had such strong passion for the future. The loss of his beautiful daughter, Gianna, makes this moment even more devastating....\n",
      "\n",
      "------------------------ \n",
      "\n",
      "User ID: C6758D692A850E4C67B2763B66D1CFA8\n",
      "Tweet ID: CD44D40274BAD7503383CB4D30852C84\n",
      "\n",
      "Original text: \n",
      "[UNK] This is what Democrats have done. They want to create the idea that there is all this smoke so people think there [UNK] s fire. They did this with Russia Collusion, & amp ; there was no fire. It makes zero sense what the Democrats are accusing him of. [UNK] @ LisaMarieBoothe @ foxandfriends\n",
      "\n",
      "Resulting text: \n",
      "[UNK] This is what Democrats have done. They want to create the idea that there is all this smoke so people think there [UNK] s fire. They did this with Russia Collusion, & amp ; there was no fire. It makes zero sense what the Democrats are accusing him of. [UNK] @ LisaMarieBoothe @ foxandfriends\n",
      "\n",
      "------------------------ \n",
      "\n",
      "User ID: C6758D692A850E4C67B2763B66D1CFA8\n",
      "Tweet ID: AD10C649E8CD710303E443F5DE067D31\n",
      "\n",
      "Original text: \n",
      "Kobe Bryant, despite being one of the truly great basketball players of all time, was just getting started in life. He loved his family so much, and had such strong passion for the future. The loss of his beautiful daughter, Gianna, makes this moment even more devastating....\n",
      "\n",
      "Resulting text: \n",
      "Kobe Bryant, despite being one of the truly great basketball players of all time, was just getting started in life. He loved his family so much, and had such strong passion for the future. The loss of his beautiful daughter, Gianna, makes this moment even more devastating....\n",
      "\n",
      "------------------------ \n",
      "\n",
      "User ID: C6758D692A850E4C67B2763B66D1CFA8\n",
      "Tweet ID: A7447856728E3B3ABC0CD48BF06A5311\n",
      "\n",
      "Original text: \n",
      "It was my honor to welcome our nation [UNK] s Mayors to the @ WhiteHouse as we continue to strengthen the bonds of cooperation between federal and local governments so that we can deliver great jobs, excellent schools, affordable healthcare, and safe communities for all of our people! https : / / t. co / QwYzS32lyQ\n",
      "\n",
      "Resulting text: \n",
      "It was my honor to welcome our nation [UNK] s Mayors to the @ WhiteHouse as we continue to strengthen the bonds of cooperation between federal and local governments so that we can deliver great jobs, excellent schools, affordable healthcare, and safe communities for all of our people! https://t.co/QwYzS32lyQ\n",
      "\n",
      "Links: \n",
      "https://t.co/QwYzS32lyQ\n",
      "------------------------ \n",
      "\n",
      "User ID: C6758D692A850E4C67B2763B66D1CFA8\n",
      "Tweet ID: 2FBAF6E902CB2EE18624468652470699\n",
      "\n",
      "Original text: \n",
      "[UNK] Again : Read the Transcript! [UNK] Michael Goodwin, New York Post, Sunday.\n",
      "\n",
      "Resulting text: \n",
      "[UNK] Again : Read the Transcript! [UNK] Michael Goodwin, New York Post, Sunday.\n",
      "\n",
      "------------------------ \n",
      "\n",
      "User ID: C6758D692A850E4C67B2763B66D1CFA8\n",
      "Tweet ID: 29EE93D5C8C403A901EC59891B13C448\n",
      "\n",
      "Original text: \n",
      "Schiff must release the IG report, without changes or tampering, which is said to be yet further exoneration of the Impeachment Hoax. He refuses to give it. Does it link him to Whistleblower? Why is he so adamant?\n",
      "\n",
      "Resulting text: \n",
      "Schiff must release the IG report, without changes or tampering, which is said to be yet further exoneration of the Impeachment Hoax. He refuses to give it. Does it link him to Whistleblower? Why is he so adamant?\n",
      "\n",
      "------------------------ \n",
      "\n",
      "User ID: C6758D692A850E4C67B2763B66D1CFA8\n",
      "Tweet ID: 4D774E87921BEB44B0560D2196264DDE\n",
      "\n",
      "Original text: \n",
      "[UNK] Schiff blasted for not focusing on California homeless. [UNK] @ foxandfriends His District is in terrible shape. He is a corrupt pol who only dreams of the Impeachment Hoax. In my opinion he is mentally deranged!\n",
      "\n",
      "Resulting text: \n",
      "[UNK] Schiff blasted for not focusing on California homeless. [UNK] @ foxandfriends His District is in terrible shape. He is a corrupt pol who only dreams of the Impeachment Hoax. In my opinion he is mentally deranged!\n",
      "\n",
      "------------------------ \n",
      "\n",
      "User ID: C6758D692A850E4C67B2763B66D1CFA8\n",
      "Tweet ID: 9C6DE7797DF04ED59B25C38E22C093BE\n",
      "\n",
      "Original text: \n",
      "Happy birthday today to two of the very best in Congress [UNK] @ RepMikeJohnson ( age 48 ) and @ RepLeeZeldin ( age 40 [UNK] big one! ). Two Great American Patriots!!\n",
      "\n",
      "Resulting text: \n",
      "Happy birthday today to two of the very best in Congress [UNK] @ RepMikeJohnson ( age 48 ) and @ RepLeeZeldin ( age 40 [UNK] big one! ). Two Great American Patriots!!\n",
      "\n",
      "------------------------ \n",
      "\n",
      "User ID: C6758D692A850E4C67B2763B66D1CFA8\n",
      "Tweet ID: A1228FFE4DAC80923180A7A535CF1243\n",
      "\n",
      "Original text: \n",
      "If you want your children to inherit the blessings that generations of Americans have fought and died to secure [UNK] then we must devote everything we have toward victory in 2020. Only this way, can we save the America we love [UNK] and drain the Washington Swamp once and for all! https : / / t. co / 5NeC0mFWfU\n",
      "\n",
      "Resulting text: \n",
      "If you want your children to inherit the blessings that generations of Americans have fought and died to secure [UNK] then we must devote everything we have toward victory in 2020. Only this way, can we save the America we love [UNK] and drain the Washington Swamp once and for all! https://t.co/5NeC0mFWfU\n",
      "\n",
      "Links: \n",
      "https://t.co/5NeC0mFWfU\n",
      "------------------------ \n",
      "\n",
      "User ID: C6758D692A850E4C67B2763B66D1CFA8\n",
      "Tweet ID: 60645F02DB7840F41ACA6DA8723334DA\n",
      "\n",
      "Original text: \n",
      "The Great @ LouDobbs : [UNK] People know, after 3 years of this President, the most historic President in our Country [UNK] s history, that there is no one who can touch what he [UNK] s done in 3 years, foreign policy, domestic policy, you name it, it [UNK] s amazing. Just to have the guts not to be.....\n",
      "\n",
      "Resulting text: \n",
      "The Great @ LouDobbs : [UNK] People know, after 3 years of this President, the most historic President in our Country [UNK] s history, that there is no one who can touch what he [UNK] s done in 3 years, foreign policy, domestic policy, you name it, it [UNK] s amazing. Just to have the guts not to be.....\n",
      "\n",
      "------------------------ \n",
      "\n",
      "User ID: C6758D692A850E4C67B2763B66D1CFA8\n",
      "Tweet ID: D9B05B60739378C3F0FCB5D1E95B2C0F\n",
      "\n",
      "Original text: \n",
      "Senate hearing on the Impeachment Hoax starts today at 1 : 00 P. M.\n",
      "\n",
      "Resulting text: \n",
      "Senate hearing on the Impeachment Hoax starts today at 1 : 00 P. M.\n",
      "\n",
      "------------------------ \n",
      "\n",
      "User ID: C6758D692A850E4C67B2763B66D1CFA8\n",
      "Tweet ID: 0FD15CDCB6F4A39CD638FC723F8CD04C\n",
      "\n",
      "Original text: \n",
      "Working closely with China and others on Coronavirus outbreak. Only 5 people in U. S., all in good recovery.\n",
      "\n",
      "Resulting text: \n",
      "Working closely with China and others on Coronavirus outbreak. Only 5 people in U. S., all in good recovery.\n",
      "\n",
      "------------------------ \n",
      "\n",
      "User ID: C6758D692A850E4C67B2763B66D1CFA8\n",
      "Tweet ID: 12246B42F66A98DD88ACA4CD34E05821\n",
      "\n",
      "Original text: \n",
      "Remember Republicans, the Democrats already had 17 witnesses, we were given NONE! Witnesses are up to the House, not up to the Senate. Don [UNK] t let the Dems play you!\n",
      "\n",
      "Resulting text: \n",
      "Remember Republicans, the Democrats already had 17 witnesses, we were given NONE! Witnesses are up to the House, not up to the Senate. Don [UNK] t let the Dems play you!\n",
      "\n",
      "------------------------ \n",
      "\n",
      "User ID: C6758D692A850E4C67B2763B66D1CFA8\n",
      "Tweet ID: D9B05B60739378C3F0FCB5D1E95B2C0F\n",
      "\n",
      "Original text: \n",
      "Senate hearing on the Impeachment Hoax starts today at 1 : 00 P. M.\n",
      "\n",
      "Resulting text: \n",
      "Senate hearing on the Impeachment Hoax starts today at 1 : 00 P. M.\n",
      "\n",
      "------------------------ \n",
      "\n",
      "User ID: C6758D692A850E4C67B2763B66D1CFA8\n",
      "Tweet ID: D68B66E12F370EC6341B2C8562C23A8C\n",
      "\n",
      "Original text: \n",
      "It [UNK] s amazing what I [UNK] ve done, the most of any President in the first three years ( by far ), considering that for three years I [UNK] ve been under phony political investigations and the Impeachment Hoax! KEEP AMERICA GREAT!\n",
      "\n",
      "Resulting text: \n",
      "It [UNK] s amazing what I [UNK] ve done, the most of any President in the first three years ( by far ), considering that for three years I [UNK] ve been under phony political investigations and the Impeachment Hoax! KEEP AMERICA GREAT!\n",
      "\n",
      "------------------------ \n",
      "\n"
     ]
    }
   ],
   "source": [
    "#We'll use a list of 10 random ints in order to print 10 random tweets \n",
    "import random\n",
    "randomlist = []\n",
    "for i in range(0,19):\n",
    "    n = random.randint(0,100)\n",
    "    randomlist.append(n)\n",
    "\n",
    "d_eng_top_level = d_eng.loc[d_eng['tweet_type'] == tweet_type]\n",
    "engaging_user_id = d_eng_top_level[engagement_user_type].value_counts().index[0]\n",
    "d_eng_user = d_eng_top_level.loc[d_eng[engagement_user_type] == engaging_user_id]\n",
    "\n",
    "for n in randomlist: \n",
    "    links_list = d_eng_user['present_links_url'].iloc[n]\n",
    "#    print(d_eng_user['engaged_with_user_id'].iloc[n] + ': \\n\\n'  + \n",
    "#                           'Original text: \\n' + tokenizer.decode(d_eng_user['text_ tokens'].iloc[n]) + '\\n\\n' +\n",
    "#                           'Resulting text: \\n' + d_eng_user['text'].iloc[n] + '\\n\\n' +\n",
    "#                           'Links: ' + '{} \\n'.format(d_eng_user['present_links_url'].iloc[n]) + '\\n\\n' +\n",
    "#                           '---------------' + '\\n\\n' )\n",
    "    print('User ID: ' + d_eng_user['engaged_with_user_id'].iloc[n] + '\\n'  +\n",
    "          'Tweet ID: ' + d_eng_user['tweet_id'].iloc[n] + '\\n\\n'  +\n",
    "          'Original text: \\n' + tokenizer.decode(d_eng_user['text_tokens'].iloc[n]) + '\\n\\n' +\n",
    "          'Resulting text: \\n' + d_eng_user['text'].iloc[n] + '\\n')\n",
    "    if links_list != []:\n",
    "        print ('Links: ')\n",
    "        for item in links_list:\n",
    "            print(item)\n",
    "    print('------------------------ \\n')"
   ]
  },
  {
   "cell_type": "markdown",
   "metadata": {},
   "source": [
    "Veiem que ara tots els links presents al text són clickables i hi podem accedir directament des d'aquest notebook. "
   ]
  },
  {
   "cell_type": "markdown",
   "metadata": {},
   "source": [
    "#### Links i multimedia"
   ]
  },
  {
   "cell_type": "markdown",
   "metadata": {},
   "source": [
    "Hem observat que tots els twits que inclouen multimedia (imagtes, GIFs o vídeos), inclouen un link al propit twit. Això ens permet accedir fàcilment als arxius que comparteixen els usuaris i contextualitzar encara més el contingut del seu twit. "
   ]
  },
  {
   "cell_type": "code",
   "execution_count": 30,
   "metadata": {},
   "outputs": [
    {
     "name": "stdout",
     "output_type": "stream",
     "text": [
      "Video\n",
      "\n",
      "[UNK] This is a very fast moving, constantly changing situation, [UNK] HHS Sec. Azar says about the # coronavirusoutbreak. He says the HHS is working to understand the speed of spread and the severity of the virus. https://t.co/qZuyJkklqg https://t.co/4hiiozzgFH\n",
      "\n",
      "Video\n",
      "\n",
      "A Morning in Paris... ♥. https://t.co/jaJduGn5FQ https://t.co/g3lsTIL7Xv\n",
      "\n",
      "Photo\tPhoto\tPhoto\tPhoto\n",
      "\n",
      "NEW! We've teamed up with @ STSPhonoCo to bring an exclusive color variant of Castlevania : The Adventure ReBirth to the Yeteemart! It's got killer tracks from Castlevania, Castlevania III, Dracula X, and more, and features art by @ Dreweyes! https://t.co/hoflXYORIv https://t.co/yuBRQhh4D9\n",
      "\n",
      "Video\n",
      "\n",
      "From breathtaking beaches to friendly locals, there's so much to love about the DR! @ DarlingEscapes is sharing about her beach vacay, plus the best cities to visit in the Dominican Republic : https://t.co/HU7XgZO9Of https://t.co/XeynSRY70w\n",
      "\n",
      "Photo\n",
      "\n",
      "RT @ soompi : LISTEN : # LOONA Previews Mini Album \" # \" With Highlight Medley https://t.co/MGwhCL8Cwi https://t.co/G8sGJXvzbh\n",
      "\n",
      "Photo\tPhoto\tPhoto\n",
      "\n",
      "Marvel has cancelled the upcoming'Howard the Duck'and'Tigra & amp ; Dazzler'animated show orders at Hulu..'M. O. D. O. K.'and'Hit Monkey'are still expected to debut on the streamer, although'The Offenders'animated crossover may be in limbo.. ( via @ THR | https://t.co/UABQXc6fmH ) https://t.co/HSmy69whd6\n",
      "\n",
      "Photo\n",
      "\n",
      "Air Jordan 10 [UNK] Wings [UNK] Official Images. https://t.co/QUhoVWWVs1 https://t.co/pnhIJow2tV\n",
      "\n",
      "Video\n",
      "\n",
      "Happy new year!! [UNK]. # Donghae @ donghae861015. # 슈퍼주니어 # SUPERJUNIOR. https://t.co/o0FJUlcgnx https://t.co/rKc0mWc1W5\n",
      "\n"
     ]
    }
   ],
   "source": [
    "d_eng['present_media'].fillna(\"No Media\", inplace=True)\n",
    "\n",
    "#Checking tweets with more than one link\n",
    "for i in range(0,100):\n",
    "    if len(d_eng['present_links_url'].iloc[i]) > 1:\n",
    "        if d_eng['present_media'].iloc[i]:\n",
    "            print(d_eng['present_media'].iloc[i] + '\\n')\n",
    "        print(d_eng['text'].iloc[i] + '\\n')\n",
    "        "
   ]
  },
  {
   "cell_type": "code",
   "execution_count": 31,
   "metadata": {},
   "outputs": [
    {
     "name": "stdout",
     "output_type": "stream",
     "text": [
      "No Media\n",
      "\n",
      "RT @ reflectivelatex : Tattoos, transparent latex and vacbeds. Oh my! With @ thecamdamage. Full video :.. https://t.co/xABJG6K1OD https://t.co/j [UNK]\n",
      "\n",
      "No Media\n",
      "\n",
      "[UNK] By Popular [UNK] This Hoodie Sweater Dress is so Bomb!. [UNK] Now ~ Pay [UNK]. https://t.co/z4ezXTSPRB......... [UNK] Online and Schedule Your Houston Showroom Pick Up........... # dresses # hoodiedresses [UNK] https://t.co/dPPsizsA8V\n",
      "\n",
      "No Media\n",
      "\n",
      "Tonight is our @ iHeartRadio LIVE show presented by HOT TOPIC! Watch on @ thecw app or on https://t.co/PsYe4Fqk9f at 9pm ET / 6pm PT! # iHeartBTS. https://t.co/gWsJqt4GxC\n",
      "\n",
      "No Media\n",
      "\n",
      "RT @ itskarinareyes : My shop has been updated! Go check it out, I have a lot of cute things on https://t.co/elYAuf4uT8 [UNK] https://t.co/BLbRRb [UNK]\n",
      "\n",
      "No Media\n",
      "\n",
      "RT @ wizkhalifa : If you party with me you party with @ McQueenVF @ TylaYaweh. # HighRightNowRemix. [UNK] : https://t.co/jKD4Qz3MxX https://t.co/NYuOb [UNK]\n",
      "\n",
      "No Media\n",
      "\n",
      "The Scenic Route to York feat : Night Heron Soundtrack https://t.co/4CMlTjnbNs https://t.co/Cvg0b7dYNN\n",
      "\n",
      "No Media\n",
      "\n",
      "First @ BTS _ twt song heard : Boy in Luv. https://t.co/XMOTAwi2zm.. Song that brought us into fandom : Dope. https://t.co/ZxBooIMBPQ.. # 나는 _ 이노래로 _ 입덕했다\n",
      "\n",
      "No Media\n",
      "\n",
      "RT @ Crunchyroll : BREAKING : Eiichiro Oda to Oversee Netflix's Live - Action One Piece Series.. [UNK] More : https://t.co/lNXg5oHKBb https://t.co/354 [UNK]\n",
      "\n",
      "No Media\n",
      "\n",
      "RT @ LyricaLemonade : Junia - T is back with his brand new album titled \" Studio Monk \".. https://t.co/zoL6omftNp.. [ @ JuniaTofSB ] https://t.co/zCcv [UNK]\n",
      "\n",
      "No Media\n",
      "\n",
      "Tonight is our @ iHeartRadio LIVE show presented by HOT TOPIC! Watch on @ thecw app or on https://t.co/PsYe4Fqk9f at 9pm ET / 6pm PT! # iHeartBTS. https://t.co/gWsJqt4GxC\n",
      "\n",
      "No Media\n",
      "\n",
      "Read my latest article and subscribe to my blog - https://t.co/KURLp7Xy93 | Nothing New Under the Sun. https://t.co/ChrAAHQHXL\n",
      "\n",
      "No Media\n",
      "\n",
      "[UNK] super working paper from @ Buinah @ ICHA _ Intl @ SHEAR _ Programme on integrating forecast - based early action into an existing early warning system with a C / S of our work in Kitui Available on our website : https://t.co/T1Y6M49dXL and here : https://t.co/Kh5mONsbxL # actionresarch\n",
      "\n"
     ]
    }
   ],
   "source": [
    "#Checking links with No Media\n",
    "for i in range(0,3000):\n",
    "    if len(d_eng['present_links_url'].iloc[i]) > 1:\n",
    "        if d_eng['present_media'].iloc[i] == 'No Media':\n",
    "            print(d_eng['present_media'].iloc[i] + '\\n')\n",
    "            print(d_eng['text'].iloc[i] + '\\n')"
   ]
  },
  {
   "cell_type": "markdown",
   "metadata": {},
   "source": [
    "Afegim també una columna de links, aquesta vegada només als enllaços a twtits originals amb multimedia."
   ]
  },
  {
   "cell_type": "code",
   "execution_count": 32,
   "metadata": {},
   "outputs": [
    {
     "data": {
      "text/html": [
       "<div>\n",
       "<style scoped>\n",
       "    .dataframe tbody tr th:only-of-type {\n",
       "        vertical-align: middle;\n",
       "    }\n",
       "\n",
       "    .dataframe tbody tr th {\n",
       "        vertical-align: top;\n",
       "    }\n",
       "\n",
       "    .dataframe thead th {\n",
       "        text-align: right;\n",
       "    }\n",
       "</style>\n",
       "<table border=\"1\" class=\"dataframe\">\n",
       "  <thead>\n",
       "    <tr style=\"text-align: right;\">\n",
       "      <th></th>\n",
       "      <th>text_tokens</th>\n",
       "      <th>text</th>\n",
       "      <th>hashtags</th>\n",
       "      <th>tweet_id</th>\n",
       "      <th>present_links_url</th>\n",
       "      <th>present_media</th>\n",
       "      <th>present_links</th>\n",
       "      <th>link_to_media</th>\n",
       "      <th>present_domains</th>\n",
       "      <th>tweet_type</th>\n",
       "      <th>...</th>\n",
       "      <th>engaged_with_user_is_verified</th>\n",
       "      <th>engaged_with_user_account_creation</th>\n",
       "      <th>engaging_user_id</th>\n",
       "      <th>engaging_user_follower_count</th>\n",
       "      <th>engaging_user_following_count</th>\n",
       "      <th>engaging_user_is_verified</th>\n",
       "      <th>engaging_user_account_creation</th>\n",
       "      <th>engagee_follows_engager</th>\n",
       "      <th>engagement_timestamp</th>\n",
       "      <th>engagement_exists</th>\n",
       "    </tr>\n",
       "  </thead>\n",
       "  <tbody>\n",
       "    <tr>\n",
       "      <th>0</th>\n",
       "      <td>[16493, 12478, 117, 10105, 42370, 76299, 100, ...</td>\n",
       "      <td>Jacob Young, the Syndicate [UNK] s Director of...</td>\n",
       "      <td>NaN</td>\n",
       "      <td>39024FBE0136E046D1357196BAECFCA6</td>\n",
       "      <td>[https://t.co/g5evrQa8va]</td>\n",
       "      <td>GIF</td>\n",
       "      <td>NaN</td>\n",
       "      <td>https://t.co/g5evrQa8va</td>\n",
       "      <td>NaN</td>\n",
       "      <td>TopLevel</td>\n",
       "      <td>...</td>\n",
       "      <td>True</td>\n",
       "      <td>1537233359</td>\n",
       "      <td>000006829BEADA9EEA695CF0C334B426</td>\n",
       "      <td>2</td>\n",
       "      <td>29</td>\n",
       "      <td>False</td>\n",
       "      <td>1568107028</td>\n",
       "      <td>False</td>\n",
       "      <td>NaN</td>\n",
       "      <td>0</td>\n",
       "    </tr>\n",
       "    <tr>\n",
       "      <th>1</th>\n",
       "      <td>[14924, 16118, 10114, 12888, 15127, 31204, 101...</td>\n",
       "      <td>Final week to see my exhibition in the Shircli...</td>\n",
       "      <td>3653868A966576CF17D6A9064889BCED\\t7A6710E791A1...</td>\n",
       "      <td>AB3ADBBD011F88D10FE7F6C5FDAB214C</td>\n",
       "      <td>[https://t.co/PxG5XzTruM]</td>\n",
       "      <td>Photo</td>\n",
       "      <td>NaN</td>\n",
       "      <td>https://t.co/PxG5XzTruM</td>\n",
       "      <td>NaN</td>\n",
       "      <td>TopLevel</td>\n",
       "      <td>...</td>\n",
       "      <td>False</td>\n",
       "      <td>1243537809</td>\n",
       "      <td>000269A50293CC2B1E9C72B287FA624E</td>\n",
       "      <td>515</td>\n",
       "      <td>424</td>\n",
       "      <td>False</td>\n",
       "      <td>1254588643</td>\n",
       "      <td>True</td>\n",
       "      <td>1.581090e+09</td>\n",
       "      <td>1</td>\n",
       "    </tr>\n",
       "    <tr>\n",
       "      <th>2</th>\n",
       "      <td>[138, 19826, 10108, 10105, 10635, 10105, 12250...</td>\n",
       "      <td>A lot of the time the side that wins is simply...</td>\n",
       "      <td>NaN</td>\n",
       "      <td>675D7920EA2FB4869BA767F5122FB115</td>\n",
       "      <td>[]</td>\n",
       "      <td>No Media</td>\n",
       "      <td>NaN</td>\n",
       "      <td></td>\n",
       "      <td>NaN</td>\n",
       "      <td>TopLevel</td>\n",
       "      <td>...</td>\n",
       "      <td>True</td>\n",
       "      <td>1384637463</td>\n",
       "      <td>0004C10C480EF88F3EED5822149DC93F</td>\n",
       "      <td>4</td>\n",
       "      <td>125</td>\n",
       "      <td>False</td>\n",
       "      <td>1547955941</td>\n",
       "      <td>False</td>\n",
       "      <td>1.581135e+09</td>\n",
       "      <td>1</td>\n",
       "    </tr>\n",
       "    <tr>\n",
       "      <th>3</th>\n",
       "      <td>[56898, 137, 42374, 36630, 10797, 90861, 131, ...</td>\n",
       "      <td>RT @ readyletsgo27 : Schiff, Nadler and Pelosi...</td>\n",
       "      <td>NaN</td>\n",
       "      <td>7EAAE5C243D675AD4CFC2C052B0E0BB5</td>\n",
       "      <td>[]</td>\n",
       "      <td>No Media</td>\n",
       "      <td>NaN</td>\n",
       "      <td></td>\n",
       "      <td>NaN</td>\n",
       "      <td>Retweet</td>\n",
       "      <td>...</td>\n",
       "      <td>False</td>\n",
       "      <td>1439599039</td>\n",
       "      <td>000830B836532B8FC5564949E94FEDD6</td>\n",
       "      <td>33439</td>\n",
       "      <td>35598</td>\n",
       "      <td>False</td>\n",
       "      <td>1261862258</td>\n",
       "      <td>True</td>\n",
       "      <td>NaN</td>\n",
       "      <td>0</td>\n",
       "    </tr>\n",
       "    <tr>\n",
       "      <th>4</th>\n",
       "      <td>[137, 87043, 10679, 11369, 11211, 22650, 11305...</td>\n",
       "      <td>@ LiliyaL62076921 Unique beauty of flowers [UN...</td>\n",
       "      <td>C8F2526CD1AEA3A8CFC67EB4B79E46D5</td>\n",
       "      <td>E243DF6401359C38C5D21B6FB86A881E</td>\n",
       "      <td>[]</td>\n",
       "      <td>No Media</td>\n",
       "      <td>NaN</td>\n",
       "      <td></td>\n",
       "      <td>NaN</td>\n",
       "      <td>TopLevel</td>\n",
       "      <td>...</td>\n",
       "      <td>False</td>\n",
       "      <td>1481783602</td>\n",
       "      <td>0011F45B80474E4FF47250ED24C5482C</td>\n",
       "      <td>27980</td>\n",
       "      <td>25991</td>\n",
       "      <td>False</td>\n",
       "      <td>1493066269</td>\n",
       "      <td>True</td>\n",
       "      <td>1.581058e+09</td>\n",
       "      <td>1</td>\n",
       "    </tr>\n",
       "  </tbody>\n",
       "</table>\n",
       "<p>5 rows × 25 columns</p>\n",
       "</div>"
      ],
      "text/plain": [
       "                                         text_tokens  \\\n",
       "0  [16493, 12478, 117, 10105, 42370, 76299, 100, ...   \n",
       "1  [14924, 16118, 10114, 12888, 15127, 31204, 101...   \n",
       "2  [138, 19826, 10108, 10105, 10635, 10105, 12250...   \n",
       "3  [56898, 137, 42374, 36630, 10797, 90861, 131, ...   \n",
       "4  [137, 87043, 10679, 11369, 11211, 22650, 11305...   \n",
       "\n",
       "                                                text  \\\n",
       "0  Jacob Young, the Syndicate [UNK] s Director of...   \n",
       "1  Final week to see my exhibition in the Shircli...   \n",
       "2  A lot of the time the side that wins is simply...   \n",
       "3  RT @ readyletsgo27 : Schiff, Nadler and Pelosi...   \n",
       "4  @ LiliyaL62076921 Unique beauty of flowers [UN...   \n",
       "\n",
       "                                            hashtags  \\\n",
       "0                                                NaN   \n",
       "1  3653868A966576CF17D6A9064889BCED\\t7A6710E791A1...   \n",
       "2                                                NaN   \n",
       "3                                                NaN   \n",
       "4                   C8F2526CD1AEA3A8CFC67EB4B79E46D5   \n",
       "\n",
       "                           tweet_id          present_links_url present_media  \\\n",
       "0  39024FBE0136E046D1357196BAECFCA6  [https://t.co/g5evrQa8va]           GIF   \n",
       "1  AB3ADBBD011F88D10FE7F6C5FDAB214C  [https://t.co/PxG5XzTruM]         Photo   \n",
       "2  675D7920EA2FB4869BA767F5122FB115                         []      No Media   \n",
       "3  7EAAE5C243D675AD4CFC2C052B0E0BB5                         []      No Media   \n",
       "4  E243DF6401359C38C5D21B6FB86A881E                         []      No Media   \n",
       "\n",
       "  present_links            link_to_media present_domains tweet_type  ...  \\\n",
       "0           NaN  https://t.co/g5evrQa8va             NaN   TopLevel  ...   \n",
       "1           NaN  https://t.co/PxG5XzTruM             NaN   TopLevel  ...   \n",
       "2           NaN                                      NaN   TopLevel  ...   \n",
       "3           NaN                                      NaN    Retweet  ...   \n",
       "4           NaN                                      NaN   TopLevel  ...   \n",
       "\n",
       "  engaged_with_user_is_verified  engaged_with_user_account_creation  \\\n",
       "0                          True                          1537233359   \n",
       "1                         False                          1243537809   \n",
       "2                          True                          1384637463   \n",
       "3                         False                          1439599039   \n",
       "4                         False                          1481783602   \n",
       "\n",
       "                   engaging_user_id  engaging_user_follower_count  \\\n",
       "0  000006829BEADA9EEA695CF0C334B426                             2   \n",
       "1  000269A50293CC2B1E9C72B287FA624E                           515   \n",
       "2  0004C10C480EF88F3EED5822149DC93F                             4   \n",
       "3  000830B836532B8FC5564949E94FEDD6                         33439   \n",
       "4  0011F45B80474E4FF47250ED24C5482C                         27980   \n",
       "\n",
       "   engaging_user_following_count  engaging_user_is_verified  \\\n",
       "0                             29                      False   \n",
       "1                            424                      False   \n",
       "2                            125                      False   \n",
       "3                          35598                      False   \n",
       "4                          25991                      False   \n",
       "\n",
       "   engaging_user_account_creation engagee_follows_engager  \\\n",
       "0                      1568107028                   False   \n",
       "1                      1254588643                    True   \n",
       "2                      1547955941                   False   \n",
       "3                      1261862258                    True   \n",
       "4                      1493066269                    True   \n",
       "\n",
       "   engagement_timestamp  engagement_exists  \n",
       "0                   NaN                  0  \n",
       "1          1.581090e+09                  1  \n",
       "2          1.581135e+09                  1  \n",
       "3                   NaN                  0  \n",
       "4          1.581058e+09                  1  \n",
       "\n",
       "[5 rows x 25 columns]"
      ]
     },
     "execution_count": 32,
     "metadata": {},
     "output_type": "execute_result"
    }
   ],
   "source": [
    "d_eng['link_to_media'] = \"\"\n",
    "\n",
    "for index, row in d_eng.iterrows():\n",
    "    if row['present_links_url'] != []:\n",
    "        d_eng.at[index, 'link_to_media'] = row['present_links_url'][-1]\n",
    "\n",
    "col = d_eng['link_to_media']\n",
    "d_eng.drop(labels=['link_to_media'], axis=1, inplace = True)\n",
    "d_eng.insert(7, 'link_to_media', col)            \n",
    "            \n",
    "d_eng.head()"
   ]
  },
  {
   "cell_type": "markdown",
   "metadata": {},
   "source": [
    "#### Eliminació de links als tokens"
   ]
  },
  {
   "cell_type": "markdown",
   "metadata": {},
   "source": [
    "Com els links i les urls no es codifiquen amb un sol token, hem preferit prescindir dels tokens referents als enllaços i crear una nova columna de tokens sense aquesta informació."
   ]
  },
  {
   "cell_type": "code",
   "execution_count": 34,
   "metadata": {},
   "outputs": [
    {
     "data": {
      "text/html": [
       "<div>\n",
       "<style scoped>\n",
       "    .dataframe tbody tr th:only-of-type {\n",
       "        vertical-align: middle;\n",
       "    }\n",
       "\n",
       "    .dataframe tbody tr th {\n",
       "        vertical-align: top;\n",
       "    }\n",
       "\n",
       "    .dataframe thead th {\n",
       "        text-align: right;\n",
       "    }\n",
       "</style>\n",
       "<table border=\"1\" class=\"dataframe\">\n",
       "  <thead>\n",
       "    <tr style=\"text-align: right;\">\n",
       "      <th></th>\n",
       "      <th>text_tokens</th>\n",
       "      <th>text</th>\n",
       "      <th>hashtags</th>\n",
       "      <th>tweet_id</th>\n",
       "      <th>present_links_url</th>\n",
       "      <th>present_media</th>\n",
       "      <th>present_links</th>\n",
       "      <th>link_to_media</th>\n",
       "      <th>present_domains</th>\n",
       "      <th>tweet_type</th>\n",
       "      <th>...</th>\n",
       "      <th>engaged_with_user_is_verified</th>\n",
       "      <th>engaged_with_user_account_creation</th>\n",
       "      <th>engaging_user_id</th>\n",
       "      <th>engaging_user_follower_count</th>\n",
       "      <th>engaging_user_following_count</th>\n",
       "      <th>engaging_user_is_verified</th>\n",
       "      <th>engaging_user_account_creation</th>\n",
       "      <th>engagee_follows_engager</th>\n",
       "      <th>engagement_timestamp</th>\n",
       "      <th>engagement_exists</th>\n",
       "    </tr>\n",
       "  </thead>\n",
       "  <tbody>\n",
       "    <tr>\n",
       "      <th>0</th>\n",
       "      <td>[16493, 12478, 117, 10105, 42370, 76299, 100, ...</td>\n",
       "      <td>Jacob Young, the Syndicate [UNK] s Director of...</td>\n",
       "      <td>NaN</td>\n",
       "      <td>39024FBE0136E046D1357196BAECFCA6</td>\n",
       "      <td>[https://t.co/g5evrQa8va]</td>\n",
       "      <td>GIF</td>\n",
       "      <td>NaN</td>\n",
       "      <td>https://t.co/g5evrQa8va</td>\n",
       "      <td>NaN</td>\n",
       "      <td>TopLevel</td>\n",
       "      <td>...</td>\n",
       "      <td>True</td>\n",
       "      <td>1537233359</td>\n",
       "      <td>000006829BEADA9EEA695CF0C334B426</td>\n",
       "      <td>2</td>\n",
       "      <td>29</td>\n",
       "      <td>False</td>\n",
       "      <td>1568107028</td>\n",
       "      <td>False</td>\n",
       "      <td>NaN</td>\n",
       "      <td>0</td>\n",
       "    </tr>\n",
       "    <tr>\n",
       "      <th>1</th>\n",
       "      <td>[14924, 16118, 10114, 12888, 15127, 31204, 101...</td>\n",
       "      <td>Final week to see my exhibition in the Shircli...</td>\n",
       "      <td>3653868A966576CF17D6A9064889BCED\\t7A6710E791A1...</td>\n",
       "      <td>AB3ADBBD011F88D10FE7F6C5FDAB214C</td>\n",
       "      <td>[https://t.co/PxG5XzTruM]</td>\n",
       "      <td>Photo</td>\n",
       "      <td>NaN</td>\n",
       "      <td>https://t.co/PxG5XzTruM</td>\n",
       "      <td>NaN</td>\n",
       "      <td>TopLevel</td>\n",
       "      <td>...</td>\n",
       "      <td>False</td>\n",
       "      <td>1243537809</td>\n",
       "      <td>000269A50293CC2B1E9C72B287FA624E</td>\n",
       "      <td>515</td>\n",
       "      <td>424</td>\n",
       "      <td>False</td>\n",
       "      <td>1254588643</td>\n",
       "      <td>True</td>\n",
       "      <td>1.581090e+09</td>\n",
       "      <td>1</td>\n",
       "    </tr>\n",
       "    <tr>\n",
       "      <th>2</th>\n",
       "      <td>[138, 19826, 10108, 10105, 10635, 10105, 12250...</td>\n",
       "      <td>A lot of the time the side that wins is simply...</td>\n",
       "      <td>NaN</td>\n",
       "      <td>675D7920EA2FB4869BA767F5122FB115</td>\n",
       "      <td>[]</td>\n",
       "      <td>No Media</td>\n",
       "      <td>NaN</td>\n",
       "      <td></td>\n",
       "      <td>NaN</td>\n",
       "      <td>TopLevel</td>\n",
       "      <td>...</td>\n",
       "      <td>True</td>\n",
       "      <td>1384637463</td>\n",
       "      <td>0004C10C480EF88F3EED5822149DC93F</td>\n",
       "      <td>4</td>\n",
       "      <td>125</td>\n",
       "      <td>False</td>\n",
       "      <td>1547955941</td>\n",
       "      <td>False</td>\n",
       "      <td>1.581135e+09</td>\n",
       "      <td>1</td>\n",
       "    </tr>\n",
       "    <tr>\n",
       "      <th>3</th>\n",
       "      <td>[56898, 137, 42374, 36630, 10797, 90861, 131, ...</td>\n",
       "      <td>RT @ readyletsgo27 : Schiff, Nadler and Pelosi...</td>\n",
       "      <td>NaN</td>\n",
       "      <td>7EAAE5C243D675AD4CFC2C052B0E0BB5</td>\n",
       "      <td>[]</td>\n",
       "      <td>No Media</td>\n",
       "      <td>NaN</td>\n",
       "      <td></td>\n",
       "      <td>NaN</td>\n",
       "      <td>Retweet</td>\n",
       "      <td>...</td>\n",
       "      <td>False</td>\n",
       "      <td>1439599039</td>\n",
       "      <td>000830B836532B8FC5564949E94FEDD6</td>\n",
       "      <td>33439</td>\n",
       "      <td>35598</td>\n",
       "      <td>False</td>\n",
       "      <td>1261862258</td>\n",
       "      <td>True</td>\n",
       "      <td>NaN</td>\n",
       "      <td>0</td>\n",
       "    </tr>\n",
       "    <tr>\n",
       "      <th>4</th>\n",
       "      <td>[137, 87043, 10679, 11369, 11211, 22650, 11305...</td>\n",
       "      <td>@ LiliyaL62076921 Unique beauty of flowers [UN...</td>\n",
       "      <td>C8F2526CD1AEA3A8CFC67EB4B79E46D5</td>\n",
       "      <td>E243DF6401359C38C5D21B6FB86A881E</td>\n",
       "      <td>[]</td>\n",
       "      <td>No Media</td>\n",
       "      <td>NaN</td>\n",
       "      <td></td>\n",
       "      <td>NaN</td>\n",
       "      <td>TopLevel</td>\n",
       "      <td>...</td>\n",
       "      <td>False</td>\n",
       "      <td>1481783602</td>\n",
       "      <td>0011F45B80474E4FF47250ED24C5482C</td>\n",
       "      <td>27980</td>\n",
       "      <td>25991</td>\n",
       "      <td>False</td>\n",
       "      <td>1493066269</td>\n",
       "      <td>True</td>\n",
       "      <td>1.581058e+09</td>\n",
       "      <td>1</td>\n",
       "    </tr>\n",
       "  </tbody>\n",
       "</table>\n",
       "<p>5 rows × 25 columns</p>\n",
       "</div>"
      ],
      "text/plain": [
       "                                         text_tokens  \\\n",
       "0  [16493, 12478, 117, 10105, 42370, 76299, 100, ...   \n",
       "1  [14924, 16118, 10114, 12888, 15127, 31204, 101...   \n",
       "2  [138, 19826, 10108, 10105, 10635, 10105, 12250...   \n",
       "3  [56898, 137, 42374, 36630, 10797, 90861, 131, ...   \n",
       "4  [137, 87043, 10679, 11369, 11211, 22650, 11305...   \n",
       "\n",
       "                                                text  \\\n",
       "0  Jacob Young, the Syndicate [UNK] s Director of...   \n",
       "1  Final week to see my exhibition in the Shircli...   \n",
       "2  A lot of the time the side that wins is simply...   \n",
       "3  RT @ readyletsgo27 : Schiff, Nadler and Pelosi...   \n",
       "4  @ LiliyaL62076921 Unique beauty of flowers [UN...   \n",
       "\n",
       "                                            hashtags  \\\n",
       "0                                                NaN   \n",
       "1  3653868A966576CF17D6A9064889BCED\\t7A6710E791A1...   \n",
       "2                                                NaN   \n",
       "3                                                NaN   \n",
       "4                   C8F2526CD1AEA3A8CFC67EB4B79E46D5   \n",
       "\n",
       "                           tweet_id          present_links_url present_media  \\\n",
       "0  39024FBE0136E046D1357196BAECFCA6  [https://t.co/g5evrQa8va]           GIF   \n",
       "1  AB3ADBBD011F88D10FE7F6C5FDAB214C  [https://t.co/PxG5XzTruM]         Photo   \n",
       "2  675D7920EA2FB4869BA767F5122FB115                         []      No Media   \n",
       "3  7EAAE5C243D675AD4CFC2C052B0E0BB5                         []      No Media   \n",
       "4  E243DF6401359C38C5D21B6FB86A881E                         []      No Media   \n",
       "\n",
       "  present_links            link_to_media present_domains tweet_type  ...  \\\n",
       "0           NaN  https://t.co/g5evrQa8va             NaN   TopLevel  ...   \n",
       "1           NaN  https://t.co/PxG5XzTruM             NaN   TopLevel  ...   \n",
       "2           NaN                                      NaN   TopLevel  ...   \n",
       "3           NaN                                      NaN    Retweet  ...   \n",
       "4           NaN                                      NaN   TopLevel  ...   \n",
       "\n",
       "  engaged_with_user_is_verified  engaged_with_user_account_creation  \\\n",
       "0                          True                          1537233359   \n",
       "1                         False                          1243537809   \n",
       "2                          True                          1384637463   \n",
       "3                         False                          1439599039   \n",
       "4                         False                          1481783602   \n",
       "\n",
       "                   engaging_user_id  engaging_user_follower_count  \\\n",
       "0  000006829BEADA9EEA695CF0C334B426                             2   \n",
       "1  000269A50293CC2B1E9C72B287FA624E                           515   \n",
       "2  0004C10C480EF88F3EED5822149DC93F                             4   \n",
       "3  000830B836532B8FC5564949E94FEDD6                         33439   \n",
       "4  0011F45B80474E4FF47250ED24C5482C                         27980   \n",
       "\n",
       "   engaging_user_following_count  engaging_user_is_verified  \\\n",
       "0                             29                      False   \n",
       "1                            424                      False   \n",
       "2                            125                      False   \n",
       "3                          35598                      False   \n",
       "4                          25991                      False   \n",
       "\n",
       "   engaging_user_account_creation engagee_follows_engager  \\\n",
       "0                      1568107028                   False   \n",
       "1                      1254588643                    True   \n",
       "2                      1547955941                   False   \n",
       "3                      1261862258                    True   \n",
       "4                      1493066269                    True   \n",
       "\n",
       "   engagement_timestamp  engagement_exists  \n",
       "0                   NaN                  0  \n",
       "1          1.581090e+09                  1  \n",
       "2          1.581135e+09                  1  \n",
       "3                   NaN                  0  \n",
       "4          1.581058e+09                  1  \n",
       "\n",
       "[5 rows x 25 columns]"
      ]
     },
     "execution_count": 34,
     "metadata": {},
     "output_type": "execute_result"
    }
   ],
   "source": [
    "for index, row in d_eng.iterrows():\n",
    "    links_list = []\n",
    "    tweet_text = d_eng['text'][index]\n",
    "    links_list = re.findall(valid_pattern, tweet_text)\n",
    "    \n",
    "    for i, s in enumerate(links_list):\n",
    "        if i != 0:\n",
    "            tweet_text = tweet_text_replaced\n",
    "        link_old = s\n",
    "        tweet_text_replaced = tweet_text.replace(link_old, '')\n",
    "    \n",
    "    if links_list == []:\n",
    "        d_eng.at[index, 'text_tokens'] = d_eng['text_tokens'][index]        \n",
    "    else:\n",
    "        new_tokens = tokenizer.encode(tweet_text_replaced)\n",
    "        new_tokens = [str(x) for x in new_tokens]\n",
    "        d_eng.at[index, 'text_tokens'] = new_tokens\n",
    "\n",
    "for k in range(len(d_eng['text_tokens'])):\n",
    "    for r in num_tokens:\n",
    "        if r in d_eng['text_tokens'][k]:\n",
    "            d_eng['text_tokens'][k].remove(r)     \n",
    "            \n",
    "d_eng.head()"
   ]
  },
  {
   "cell_type": "markdown",
   "metadata": {},
   "source": [
    "Així, si en un futur volem fer servir els tokens amb un embedding per realitzar una classificació, no afegirem dades redundants. "
   ]
  },
  {
   "cell_type": "markdown",
   "metadata": {},
   "source": [
    "<a id='Data_analysis_hashtags'></a>\n",
    "### 3.5 Hashtags i mencions"
   ]
  },
  {
   "cell_type": "markdown",
   "metadata": {},
   "source": [
    "De manera similar al que hem fet amb els links, també hem extret les mencions i els hashtags presents a cadascun dels twtits. En aquest cas no els hem el·liminat del text."
   ]
  },
  {
   "cell_type": "markdown",
   "metadata": {},
   "source": [
    "#### Hashtags"
   ]
  },
  {
   "cell_type": "code",
   "execution_count": 35,
   "metadata": {},
   "outputs": [
    {
     "data": {
      "text/html": [
       "<div>\n",
       "<style scoped>\n",
       "    .dataframe tbody tr th:only-of-type {\n",
       "        vertical-align: middle;\n",
       "    }\n",
       "\n",
       "    .dataframe tbody tr th {\n",
       "        vertical-align: top;\n",
       "    }\n",
       "\n",
       "    .dataframe thead th {\n",
       "        text-align: right;\n",
       "    }\n",
       "</style>\n",
       "<table border=\"1\" class=\"dataframe\">\n",
       "  <thead>\n",
       "    <tr style=\"text-align: right;\">\n",
       "      <th></th>\n",
       "      <th>text_tokens</th>\n",
       "      <th>text</th>\n",
       "      <th>hashtags</th>\n",
       "      <th>hashtags_text</th>\n",
       "      <th>tweet_id</th>\n",
       "      <th>present_links_url</th>\n",
       "      <th>present_media</th>\n",
       "      <th>present_links</th>\n",
       "      <th>link_to_media</th>\n",
       "      <th>present_domains</th>\n",
       "      <th>...</th>\n",
       "      <th>engaged_with_user_is_verified</th>\n",
       "      <th>engaged_with_user_account_creation</th>\n",
       "      <th>engaging_user_id</th>\n",
       "      <th>engaging_user_follower_count</th>\n",
       "      <th>engaging_user_following_count</th>\n",
       "      <th>engaging_user_is_verified</th>\n",
       "      <th>engaging_user_account_creation</th>\n",
       "      <th>engagee_follows_engager</th>\n",
       "      <th>engagement_timestamp</th>\n",
       "      <th>engagement_exists</th>\n",
       "    </tr>\n",
       "  </thead>\n",
       "  <tbody>\n",
       "    <tr>\n",
       "      <th>0</th>\n",
       "      <td>[16493, 12478, 117, 10105, 42370, 76299, 100, ...</td>\n",
       "      <td>Jacob Young, the Syndicate [UNK] s Director of...</td>\n",
       "      <td>NaN</td>\n",
       "      <td>[]</td>\n",
       "      <td>39024FBE0136E046D1357196BAECFCA6</td>\n",
       "      <td>[https://t.co/g5evrQa8va]</td>\n",
       "      <td>GIF</td>\n",
       "      <td>NaN</td>\n",
       "      <td>https://t.co/g5evrQa8va</td>\n",
       "      <td>NaN</td>\n",
       "      <td>...</td>\n",
       "      <td>True</td>\n",
       "      <td>1537233359</td>\n",
       "      <td>000006829BEADA9EEA695CF0C334B426</td>\n",
       "      <td>2</td>\n",
       "      <td>29</td>\n",
       "      <td>False</td>\n",
       "      <td>1568107028</td>\n",
       "      <td>False</td>\n",
       "      <td>NaN</td>\n",
       "      <td>0</td>\n",
       "    </tr>\n",
       "    <tr>\n",
       "      <th>1</th>\n",
       "      <td>[14924, 16118, 10114, 12888, 15127, 31204, 101...</td>\n",
       "      <td>Final week to see my exhibition in the Shircli...</td>\n",
       "      <td>3653868A966576CF17D6A9064889BCED\\t7A6710E791A1...</td>\n",
       "      <td>[#vincennesuniversity, #shircliffgallery, #ins...</td>\n",
       "      <td>AB3ADBBD011F88D10FE7F6C5FDAB214C</td>\n",
       "      <td>[https://t.co/PxG5XzTruM]</td>\n",
       "      <td>Photo</td>\n",
       "      <td>NaN</td>\n",
       "      <td>https://t.co/PxG5XzTruM</td>\n",
       "      <td>NaN</td>\n",
       "      <td>...</td>\n",
       "      <td>False</td>\n",
       "      <td>1243537809</td>\n",
       "      <td>000269A50293CC2B1E9C72B287FA624E</td>\n",
       "      <td>515</td>\n",
       "      <td>424</td>\n",
       "      <td>False</td>\n",
       "      <td>1254588643</td>\n",
       "      <td>True</td>\n",
       "      <td>1.581090e+09</td>\n",
       "      <td>1</td>\n",
       "    </tr>\n",
       "    <tr>\n",
       "      <th>2</th>\n",
       "      <td>[138, 19826, 10108, 10105, 10635, 10105, 12250...</td>\n",
       "      <td>A lot of the time the side that wins is simply...</td>\n",
       "      <td>NaN</td>\n",
       "      <td>[]</td>\n",
       "      <td>675D7920EA2FB4869BA767F5122FB115</td>\n",
       "      <td>[]</td>\n",
       "      <td>No Media</td>\n",
       "      <td>NaN</td>\n",
       "      <td></td>\n",
       "      <td>NaN</td>\n",
       "      <td>...</td>\n",
       "      <td>True</td>\n",
       "      <td>1384637463</td>\n",
       "      <td>0004C10C480EF88F3EED5822149DC93F</td>\n",
       "      <td>4</td>\n",
       "      <td>125</td>\n",
       "      <td>False</td>\n",
       "      <td>1547955941</td>\n",
       "      <td>False</td>\n",
       "      <td>1.581135e+09</td>\n",
       "      <td>1</td>\n",
       "    </tr>\n",
       "    <tr>\n",
       "      <th>3</th>\n",
       "      <td>[56898, 137, 42374, 36630, 10797, 90861, 131, ...</td>\n",
       "      <td>RT @ readyletsgo27 : Schiff, Nadler and Pelosi...</td>\n",
       "      <td>NaN</td>\n",
       "      <td>[]</td>\n",
       "      <td>7EAAE5C243D675AD4CFC2C052B0E0BB5</td>\n",
       "      <td>[]</td>\n",
       "      <td>No Media</td>\n",
       "      <td>NaN</td>\n",
       "      <td></td>\n",
       "      <td>NaN</td>\n",
       "      <td>...</td>\n",
       "      <td>False</td>\n",
       "      <td>1439599039</td>\n",
       "      <td>000830B836532B8FC5564949E94FEDD6</td>\n",
       "      <td>33439</td>\n",
       "      <td>35598</td>\n",
       "      <td>False</td>\n",
       "      <td>1261862258</td>\n",
       "      <td>True</td>\n",
       "      <td>NaN</td>\n",
       "      <td>0</td>\n",
       "    </tr>\n",
       "    <tr>\n",
       "      <th>4</th>\n",
       "      <td>[137, 87043, 10679, 11369, 11211, 22650, 11305...</td>\n",
       "      <td>@ LiliyaL62076921 Unique beauty of flowers [UN...</td>\n",
       "      <td>C8F2526CD1AEA3A8CFC67EB4B79E46D5</td>\n",
       "      <td>[#BeHappy]</td>\n",
       "      <td>E243DF6401359C38C5D21B6FB86A881E</td>\n",
       "      <td>[]</td>\n",
       "      <td>No Media</td>\n",
       "      <td>NaN</td>\n",
       "      <td></td>\n",
       "      <td>NaN</td>\n",
       "      <td>...</td>\n",
       "      <td>False</td>\n",
       "      <td>1481783602</td>\n",
       "      <td>0011F45B80474E4FF47250ED24C5482C</td>\n",
       "      <td>27980</td>\n",
       "      <td>25991</td>\n",
       "      <td>False</td>\n",
       "      <td>1493066269</td>\n",
       "      <td>True</td>\n",
       "      <td>1.581058e+09</td>\n",
       "      <td>1</td>\n",
       "    </tr>\n",
       "  </tbody>\n",
       "</table>\n",
       "<p>5 rows × 26 columns</p>\n",
       "</div>"
      ],
      "text/plain": [
       "                                         text_tokens  \\\n",
       "0  [16493, 12478, 117, 10105, 42370, 76299, 100, ...   \n",
       "1  [14924, 16118, 10114, 12888, 15127, 31204, 101...   \n",
       "2  [138, 19826, 10108, 10105, 10635, 10105, 12250...   \n",
       "3  [56898, 137, 42374, 36630, 10797, 90861, 131, ...   \n",
       "4  [137, 87043, 10679, 11369, 11211, 22650, 11305...   \n",
       "\n",
       "                                                text  \\\n",
       "0  Jacob Young, the Syndicate [UNK] s Director of...   \n",
       "1  Final week to see my exhibition in the Shircli...   \n",
       "2  A lot of the time the side that wins is simply...   \n",
       "3  RT @ readyletsgo27 : Schiff, Nadler and Pelosi...   \n",
       "4  @ LiliyaL62076921 Unique beauty of flowers [UN...   \n",
       "\n",
       "                                            hashtags  \\\n",
       "0                                                NaN   \n",
       "1  3653868A966576CF17D6A9064889BCED\\t7A6710E791A1...   \n",
       "2                                                NaN   \n",
       "3                                                NaN   \n",
       "4                   C8F2526CD1AEA3A8CFC67EB4B79E46D5   \n",
       "\n",
       "                                       hashtags_text  \\\n",
       "0                                                 []   \n",
       "1  [#vincennesuniversity, #shircliffgallery, #ins...   \n",
       "2                                                 []   \n",
       "3                                                 []   \n",
       "4                                         [#BeHappy]   \n",
       "\n",
       "                           tweet_id          present_links_url present_media  \\\n",
       "0  39024FBE0136E046D1357196BAECFCA6  [https://t.co/g5evrQa8va]           GIF   \n",
       "1  AB3ADBBD011F88D10FE7F6C5FDAB214C  [https://t.co/PxG5XzTruM]         Photo   \n",
       "2  675D7920EA2FB4869BA767F5122FB115                         []      No Media   \n",
       "3  7EAAE5C243D675AD4CFC2C052B0E0BB5                         []      No Media   \n",
       "4  E243DF6401359C38C5D21B6FB86A881E                         []      No Media   \n",
       "\n",
       "  present_links            link_to_media present_domains  ...  \\\n",
       "0           NaN  https://t.co/g5evrQa8va             NaN  ...   \n",
       "1           NaN  https://t.co/PxG5XzTruM             NaN  ...   \n",
       "2           NaN                                      NaN  ...   \n",
       "3           NaN                                      NaN  ...   \n",
       "4           NaN                                      NaN  ...   \n",
       "\n",
       "  engaged_with_user_is_verified engaged_with_user_account_creation  \\\n",
       "0                          True                         1537233359   \n",
       "1                         False                         1243537809   \n",
       "2                          True                         1384637463   \n",
       "3                         False                         1439599039   \n",
       "4                         False                         1481783602   \n",
       "\n",
       "                   engaging_user_id engaging_user_follower_count  \\\n",
       "0  000006829BEADA9EEA695CF0C334B426                            2   \n",
       "1  000269A50293CC2B1E9C72B287FA624E                          515   \n",
       "2  0004C10C480EF88F3EED5822149DC93F                            4   \n",
       "3  000830B836532B8FC5564949E94FEDD6                        33439   \n",
       "4  0011F45B80474E4FF47250ED24C5482C                        27980   \n",
       "\n",
       "   engaging_user_following_count  engaging_user_is_verified  \\\n",
       "0                             29                      False   \n",
       "1                            424                      False   \n",
       "2                            125                      False   \n",
       "3                          35598                      False   \n",
       "4                          25991                      False   \n",
       "\n",
       "   engaging_user_account_creation  engagee_follows_engager  \\\n",
       "0                      1568107028                    False   \n",
       "1                      1254588643                     True   \n",
       "2                      1547955941                    False   \n",
       "3                      1261862258                     True   \n",
       "4                      1493066269                     True   \n",
       "\n",
       "  engagement_timestamp  engagement_exists  \n",
       "0                  NaN                  0  \n",
       "1         1.581090e+09                  1  \n",
       "2         1.581135e+09                  1  \n",
       "3                  NaN                  0  \n",
       "4         1.581058e+09                  1  \n",
       "\n",
       "[5 rows x 26 columns]"
      ]
     },
     "execution_count": 35,
     "metadata": {},
     "output_type": "execute_result"
    }
   ],
   "source": [
    "#Replace the hashtags in the text \n",
    "valid_pattern = '# [a-zA-Z0-9]+'\n",
    "\n",
    "#Create a new column to store the list of links\n",
    "d_eng['hashtags_text'] = \"\"\n",
    "\n",
    "for index, row in d_eng.iterrows():\n",
    "    hashtags_list = []\n",
    "    hashtags_list = re.findall(valid_pattern, d_eng['text'][index])\n",
    "    for i, s in enumerate(hashtags_list):\n",
    "        #d_eng['text'][index] = d_eng['text'][index].replace(s,'')\n",
    "        hashtags_list[i] = s.replace(' ','') # I use replace because s.strip() is not working \n",
    "        \n",
    "    d_eng.at[index, 'hashtags_text'] = hashtags_list\n",
    "    #d_eng['text'][index] = re.sub(valid_pattern, '', d_eng['text'][index])    \n",
    "    \n",
    "col = d_eng['hashtags_text']\n",
    "d_eng.drop(labels=['hashtags_text'], axis=1, inplace = True)\n",
    "d_eng.insert(3, 'hashtags_text', col)            \n",
    "            \n",
    "d_eng.head()"
   ]
  },
  {
   "cell_type": "markdown",
   "metadata": {},
   "source": [
    "#### Mencions"
   ]
  },
  {
   "cell_type": "code",
   "execution_count": null,
   "metadata": {},
   "outputs": [],
   "source": [
    "#Replace the hashtags in the text \n",
    "valid_pattern = '@ [a-zA-Z0-9]+'\n",
    "\n",
    "#Create a new column to store the list of links\n",
    "d_eng['mentions_text'] = \"\"\n",
    "\n",
    "for index, row in d_eng.iterrows():\n",
    "    mentions_list = []\n",
    "    mentions_list = re.findall(valid_pattern, tokenizer.decode(d_eng['text_ tokens'][index]))\n",
    "    for i, s in enumerate(mentions_list):\n",
    "        mentions_list[i] = s.replace(' ','') # I use replace because s.strip() is not working \n",
    "        \n",
    "    d_eng.at[index, 'mentions_text'] = mentions_list\n",
    "    #d_eng['text'].remove(s for s in enumerate(mentions_list))\n",
    "\n",
    "col = d_eng['mentions_text']\n",
    "d_eng.drop(labels=['mentions_text'], axis=1, inplace = True)\n",
    "d_eng.insert(4, 'mentions_text', col)            \n",
    "            \n",
    "d_eng.head()"
   ]
  },
  {
   "cell_type": "markdown",
   "metadata": {},
   "source": [
    "<a id='Data_analysis_observacions'></a>\n",
    "### 3.6 Observacions sobre els diferents tipus de twit "
   ]
  },
  {
   "cell_type": "markdown",
   "metadata": {},
   "source": [
    "Com a últim pas del nostre anàlisi, podem fer una caracterització qualitativa dels twits de diferents tipus: **TopLevel**, **Retweet** i **Quote**.\n",
    "\n",
    "Per això mostrem 20 twits de cada tipus pel nostre usuari target. "
   ]
  },
  {
   "cell_type": "code",
   "execution_count": 37,
   "metadata": {},
   "outputs": [
    {
     "name": "stdout",
     "output_type": "stream",
     "text": [
      "Why didn [UNK] t John Bolton complain about this [UNK] nonsense [UNK] a long time ago, when he was very publicly terminated. He said, not that it matters, NOTHING!\n",
      "[UNK] I like President Trump [UNK] s Tweets ( Social Media ), I like everything about him... and this Ukraine stuff, the trial, the impeachment, this isn [UNK] t t about Ukraine. Donald Trump has committed the two unpardonable sins in the eyes of the Democrats. He beat Hillary Clinton in 2016, and..\n",
      "Are you better off now than you were three years ago? Almost everyone say YES!\n",
      "Reports are that basketball great Kobe Bryant and three others have been killed in a helicopter crash in California. That is terrible news!\n",
      "The Democrat controlled House never even asked John Bolton to testify. It is up to them, not up to the Senate!\n",
      "..... So, what the hell has happened to @ FoxNews. Only I know! Chris Wallace and others should be on Fake News CNN or MSDNC. How [UNK] s Shep Smith doing? Watch, this will be the beginning of the end for Fox, just like the other two which are dying in the ratings. Social Media is great!\n",
      "On International Holocaust Remembrance Day, we remember the millions of precious souls who perished as a result of the horrific crimes perpetrated by the Nazi regime.... https://t.co/drhi6UeJ14\n",
      "GAME OVER! https://t.co/yvMa6bPqfy\n",
      "For a guy who couldn [UNK] t get approved for the Ambassador to the U. N. years ago, couldn [UNK] t get approved for anything since, [UNK] begged [UNK] me for a non Senate approved job, which I gave him despite many saying [UNK] Don [UNK] t do it, sir, [UNK] takes the job, mistakenly says [UNK] Libyan Model [UNK] on T. V., and..\n",
      "Kobe Bryant, despite being one of the truly great basketball players of all time, was just getting started in life. He loved his family so much, and had such strong passion for the future. The loss of his beautiful daughter, Gianna, makes this moment even more devastating....\n",
      "[UNK] This is what Democrats have done. They want to create the idea that there is all this smoke so people think there [UNK] s fire. They did this with Russia Collusion, & amp ; there was no fire. It makes zero sense what the Democrats are accusing him of. [UNK] @ LisaMarieBoothe @ foxandfriends\n",
      "Happy birthday today to two of the very best in Congress [UNK] @ RepMikeJohnson ( age 48 ) and @ RepLeeZeldin ( age 40 [UNK] big one! ). Two Great American Patriots!!\n",
      "Remember Republicans, the Democrats already had 17 witnesses, we were given NONE! Witnesses are up to the House, not up to the Senate. Don [UNK] t let the Dems play you!\n",
      "We are in very close communication with China concerning the virus. Very few cases reported in USA, but strongly on watch. We have offered China and President Xi any help that is necessary. Our experts are extraordinary!\n",
      "We are in very close communication with China concerning the virus. Very few cases reported in USA, but strongly on watch. We have offered China and President Xi any help that is necessary. Our experts are extraordinary!\n",
      "Kobe Bryant, despite being one of the truly great basketball players of all time, was just getting started in life. He loved his family so much, and had such strong passion for the future. The loss of his beautiful daughter, Gianna, makes this moment even more devastating....\n",
      "Kobe Bryant, despite being one of the truly great basketball players of all time, was just getting started in life. He loved his family so much, and had such strong passion for the future. The loss of his beautiful daughter, Gianna, makes this moment even more devastating....\n",
      "On International Holocaust Remembrance Day, we remember the millions of precious souls who perished as a result of the horrific crimes perpetrated by the Nazi regime.... https://t.co/drhi6UeJ14\n",
      ".... many more mistakes of judgement, gets fired because frankly, if I listened to him, we would be in World War Six by now, and goes out and IMMEDIATELY writes a nasty & amp ; untrue book. All Classified National Security. Who would do this?\n",
      "Great poll in Iowa, where I just landed for a Big Rally! # [UNK] https://t.co/4YCo01XYCn\n"
     ]
    }
   ],
   "source": [
    "tweet_type = 'TopLevel'\n",
    "d_eng_toplevel = d_eng.loc[d_eng['tweet_type'] == tweet_type]\n",
    "engaging_user_id = d_eng_toplevel[engagement_user_type].value_counts().index[0]\n",
    "d_eng_user = d_eng_toplevel.loc[d_eng[engagement_user_type] == engaging_user_id]\n",
    "\n",
    "for n in range (20): print(d_eng_user['text'].iloc[n])"
   ]
  },
  {
   "cell_type": "markdown",
   "metadata": {},
   "source": [
    "Els twits *TopLevel*, al ser twits originals, acostumen a seguir l'estil propi de l'usuari que els publica. El text sol ser extens (dins el que ho permet una plataforma de microblogging) i contextualitzat (l'usuari introdueix mínimament el tema del que parla). Són els twits d'on més informació a primera vista podem extreure del text."
   ]
  },
  {
   "cell_type": "code",
   "execution_count": 38,
   "metadata": {},
   "outputs": [
    {
     "name": "stdout",
     "output_type": "stream",
     "text": [
      "RT @ brithume : McConnell had a choice, to be liked by Democrats and the media or to be effective. He chose effective. By @ wjmcgurn https : [UNK]\n",
      "RT @ JennaEllisEsq : After everything @ realDonaldTrump has done for this country ( at great personal cost! ) it is so sad that so many are will [UNK]\n",
      "RT @ SenThomTillis : The only thing we [UNK] ve seen from the # impeachment trial is a political exercise by Chuck and Nancy to prevent us from cont [UNK]\n",
      "RT @ WhiteHouse : \" I am concerned about lowering impeachment standards to fit a paucity of evidence and an abundance of anger. \" [UNK] Jonathan Tu [UNK]\n",
      "RT @ Jim _ Jordan : 2 hours of truth beats over 20 hours of presumptions, assumptions, and hearsay.\n",
      "RT @ realDonaldTrump : All Democrats should watch this! https://t.co/WFK33pR0Lv\n",
      "RT @ SteveScalise : President Trump's legal team completely destroyed 3 days of Adam Schiff's false allegations in just 2 hours. Today was de [UNK]\n",
      "RT @ SenateGOP : Chairman @ SenJohnBarrasso :.. The American people have heard enough... People realize this is partisan & amp ; political... I [UNK] m comfo [UNK]\n",
      "RT @ WhiteHouse : Pro - worker.. Pro - growth.. Pro - jobs.. Pro - America. [UNK] https://t.co/GyopaUaFXH\n",
      "RT @ GeraldoRivera : Gloom settling on Democrats as they realize they [UNK] ve taken their best kill shot & amp ; missed. Dems in despair. Republicans U [UNK]\n",
      "RT @ marklevinshow : Media and Democrats glum. President [UNK] s lawyers shredding the House Democrats [UNK] unconstitutional impeachment. Unraveling [UNK]\n",
      "RT @ WhiteHouse : The first partisan impeachment in U. S. history hasn [UNK] t been short on distractions, misleading statements, and even outright [UNK]\n",
      "RT @ JackPosobiec : Hundreds of people are camping out overnight for the Trump rally in Wildwood https://t.co/fWY6IA1osR\n",
      "RT @ SenatorLoeffler : The House Democrats spent 24 hours recycling baseless attacks against @ realDonaldTrump. It didn't take but two hours f [UNK]\n",
      "RT @ JennaEllisEsq : After everything @ realDonaldTrump has done for this country ( at great personal cost! ) it is so sad that so many are will [UNK]\n",
      "RT @ benyc :. @ SenJoniErnst says Trump's team \" entirely shredded \" the case from the House managers... \" It was full of truths and facts, as pr [UNK]\n",
      "RT @ SenRickScott : Today, the @ whitehouse team presented facts, not partisan rhetoric and innuendo... Put simply, @ RepAdamSchiff got knee - ca [UNK]\n",
      "RT @ paulsperry _ : BREAKING : The 1 witness transcript Schiff won't release ( out of 18 ) talks about Schiff and the \" whistleblower \" - - and how th [UNK]\n",
      "RT @ GeraldoRivera : Gloom settling on Democrats as they realize they [UNK] ve taken their best kill shot & amp ; missed. Dems in despair. Republicans U [UNK]\n",
      "RT @ Jim _ Jordan : 2 hours of truth beats over 20 hours of presumptions, assumptions, and hearsay.\n"
     ]
    }
   ],
   "source": [
    "tweet_type = 'Retweet'\n",
    "d_eng_retweet = d_eng.loc[d_eng['tweet_type'] == tweet_type]\n",
    "engaging_user_id = d_eng_retweet[engagement_user_type].value_counts().index[0]\n",
    "d_eng_user = d_eng_retweet.loc[d_eng[engagement_user_type] == engaging_user_id]\n",
    "\n",
    "for n in range (20): print(d_eng_user['text'].iloc[n])"
   ]
  },
  {
   "cell_type": "markdown",
   "metadata": {},
   "source": [
    "Els *Retweets* són els textos més diversos, ja que gairebé sempre són textos *TopLevel* creats per altres usuaris. No obstant, lo normal és que vagin alineats amb els temes que es tracten als twits *TopLevel* de l'usuari. "
   ]
  },
  {
   "cell_type": "code",
   "execution_count": null,
   "metadata": {},
   "outputs": [],
   "source": [
    "tweet_type = 'Quote'\n",
    "d_eng_quote = d_eng.loc[d_eng['tweet_type'] == tweet_type]\n",
    "engaging_user_id = d_eng_quote[engagement_user_type].value_counts().index[0]\n",
    "d_eng_user = d_eng_quote.loc[d_eng[engagement_user_type] == engaging_user_id]\n",
    "\n",
    "for n in range (20): print(d_eng_user['text'].iloc[n])"
   ]
  },
  {
   "cell_type": "markdown",
   "metadata": {},
   "source": [
    "En aquest cas podem veure que el text s'apropa més al d'un twit *TopLevel*, amb contingut original de l'usuari. En canvi, les mencions acostumen a ser textos més curts que els twits originals i amb menys contexte, al ser una rèplica i estar referint-se a un altre text. \n",
    "\n",
    "Arribat a aquest punt, donem per complet el nostre anàlisi d'alt nivell i acabar d'extreure conclusions que condicionen els propers pasos a l'hora de dissenyar un sistema de recomanació.\n",
    "\n",
    "Obviament, aquesta caracterització del text podria ser molt més exhaustiva. Entre altres aspectes, només hem fet servir l'usuari més actiu del nostre dataset (que, en base al links multimedia i el tipus de twit, hem podet identificar que és el compte oficial de Donald Trump, presidentes dels EUA). \n",
    "\n",
    "Pel nostre anàlisi del dataset també ens hem basat en el nostre coneixement previ de l'estructura, tipus de publicacions i idiosincràsia de Twitter. Hem obviat l'anàlisi d'altres aspectes (com altres usuaris o llengües) per tal de no fer aquesta secció -encara més- extensa. "
   ]
  },
  {
   "cell_type": "markdown",
   "metadata": {},
   "source": [
    "<a id='Feature'></a>\n",
    "## 4.Feature Selection"
   ]
  },
  {
   "cell_type": "code",
   "execution_count": null,
   "metadata": {},
   "outputs": [],
   "source": [
    "numeric_cols = ['engaged_with_user_follower_count','engaged_with_user_following_count','engaging_user_follower_count',\n",
    "                'engaging_user_following_count']\n",
    "boolean_cols = ['present_links','engaged_with_user_is_verified','engaging_user_is_verified','engagee_follows_engager',\n",
    "                'present_hashtags','present_photo','present_video','present_gif','Quote','Retweet','TopLevel']\n",
    "time_cols = ['tweet_timestamp','engaged_with_user_account_creation','engaging_user_account_creation',\n",
    "            'engagement_timestamp','reaction_time']\n",
    "text_cols = ['text_tokens']"
   ]
  },
  {
   "cell_type": "markdown",
   "metadata": {},
   "source": [
    "#### Numeric  variables"
   ]
  },
  {
   "cell_type": "code",
   "execution_count": null,
   "metadata": {
    "scrolled": true
   },
   "outputs": [],
   "source": [
    "[print(round(df[col].describe(),0), '\\n------------------------------------') for col in numeric_cols]"
   ]
  },
  {
   "cell_type": "markdown",
   "metadata": {},
   "source": [
    "#### Boolean variables"
   ]
  },
  {
   "cell_type": "code",
   "execution_count": null,
   "metadata": {
    "scrolled": true
   },
   "outputs": [],
   "source": [
    "[print(round(df[col].value_counts(normalize=True),2), '\\n------------------------------------') for col in boolean_cols]"
   ]
  },
  {
   "cell_type": "markdown",
   "metadata": {},
   "source": [
    "-------------------------------------------------------------------------------------------------------------------------------"
   ]
  },
  {
   "cell_type": "markdown",
   "metadata": {},
   "source": [
    "<a id='Model'></a>\n",
    "## 5.XGBoost Model"
   ]
  },
  {
   "cell_type": "code",
   "execution_count": null,
   "metadata": {},
   "outputs": [],
   "source": [
    "!{sys.executable} -m pip install xgboost"
   ]
  },
  {
   "cell_type": "code",
   "execution_count": null,
   "metadata": {},
   "outputs": [],
   "source": [
    "import xgboost as xgb\n",
    "from sklearn.metrics import mean_squared_error\n",
    "from sklearn.model_selection import train_test_split\n",
    "\n",
    "data_prova = df.drop(['text_tokens'], axis=1)\n",
    "X = data_prova.drop(['engagement_exists', 'reaction_time'], axis=1)\n",
    "Y = data_prova.engagement_exists\n"
   ]
  },
  {
   "cell_type": "code",
   "execution_count": null,
   "metadata": {},
   "outputs": [],
   "source": [
    "seed = 7\n",
    "test_size = 0.4\n",
    "X_train, X_test, y_train, y_test = train_test_split(X, Y, test_size=test_size, random_state=seed)"
   ]
  },
  {
   "cell_type": "code",
   "execution_count": null,
   "metadata": {},
   "outputs": [],
   "source": [
    "from xgboost import XGBClassifier\n",
    "model = XGBClassifier()\n",
    "model.fit(X_train, y_train)"
   ]
  },
  {
   "cell_type": "code",
   "execution_count": null,
   "metadata": {},
   "outputs": [],
   "source": [
    "# make predictions for test data\n",
    "y_pred = model.predict(X_test)"
   ]
  },
  {
   "cell_type": "code",
   "execution_count": null,
   "metadata": {},
   "outputs": [],
   "source": [
    "predictions = [round(value) for value in y_pred]"
   ]
  },
  {
   "cell_type": "code",
   "execution_count": null,
   "metadata": {},
   "outputs": [],
   "source": [
    "from sklearn.metrics import accuracy_score\n",
    "accuracy = accuracy_score(y_test, predictions)\n",
    "print(\"Accuracy: %.2f%%\" % (accuracy * 100.0))"
   ]
  },
  {
   "cell_type": "code",
   "execution_count": null,
   "metadata": {},
   "outputs": [],
   "source": [
    "print(y_pred)"
   ]
  },
  {
   "cell_type": "code",
   "execution_count": null,
   "metadata": {},
   "outputs": [],
   "source": [
    "print(X.columns) "
   ]
  },
  {
   "cell_type": "code",
   "execution_count": null,
   "metadata": {},
   "outputs": [],
   "source": [
    "X.columns"
   ]
  },
  {
   "cell_type": "code",
   "execution_count": null,
   "metadata": {},
   "outputs": [],
   "source": [
    "#for column in df:\n",
    "#    print(column)\n",
    "#    df['engagement_exists'].corr(df[column])"
   ]
  },
  {
   "cell_type": "code",
   "execution_count": null,
   "metadata": {},
   "outputs": [],
   "source": []
  },
  {
   "cell_type": "code",
   "execution_count": null,
   "metadata": {},
   "outputs": [],
   "source": [
    "import matplotlib.pyplot as plt\n",
    "data_dmatrix = xgb.DMatrix(data=X,label=Y)\n",
    "params = {\"objective\":\"reg:linear\",'colsample_bytree': 0.3,'learning_rate': 0.1,\n",
    "                'max_depth': 5, 'alpha': 10}\n",
    "xg_reg = xgb.train(params=params, dtrain=data_dmatrix, num_boost_round=10)\n",
    "xgb.plot_importance(xg_reg)\n",
    "plt.rcParams['figure.figsize'] = [100, 100]\n",
    "plt.show()"
   ]
  },
  {
   "cell_type": "code",
   "execution_count": null,
   "metadata": {},
   "outputs": [],
   "source": [
    "#!{sys.executable} -m pip install tensorflow"
   ]
  },
  {
   "cell_type": "code",
   "execution_count": null,
   "metadata": {},
   "outputs": [],
   "source": [
    "import tensorflow as tf\n",
    "from transformers import BertTokenizer, TFBertModel\n",
    "\n",
    "tokenizer = BertTokenizer.from_pretrained('bert-base-multilingual-cased')\n",
    "model = TFBertModel.from_pretrained('bert-base-multilingual-cased')\n",
    "input_ids = tf.constant(df.text_tokens_int[0])[None, :]  # Batch size 1\n",
    "outputs = model(input_ids)\n",
    "last_hidden_states = outputs[0]  # The last hidden-state is the first element of the output tuple"
   ]
  },
  {
   "cell_type": "code",
   "execution_count": null,
   "metadata": {},
   "outputs": [],
   "source": [
    "print(last_hidden_states)"
   ]
  },
  {
   "cell_type": "code",
   "execution_count": null,
   "metadata": {
    "scrolled": true
   },
   "outputs": [],
   "source": [
    "len(df.text_tokens_int[0])"
   ]
  },
  {
   "cell_type": "code",
   "execution_count": null,
   "metadata": {
    "scrolled": true
   },
   "outputs": [],
   "source": [
    "last_hidden_states_numpy = last_hidden_states.numpy()"
   ]
  },
  {
   "cell_type": "code",
   "execution_count": null,
   "metadata": {},
   "outputs": [],
   "source": [
    "#This would be the text token in 768 columns \n",
    "np.mean(last_hidden_states_numpy, axis=1)"
   ]
  },
  {
   "cell_type": "code",
   "execution_count": null,
   "metadata": {},
   "outputs": [],
   "source": [
    "list_tokens = []\n",
    "for index, row in df.iterrows():\n",
    "    input_ids = tf.constant(row.text_tokens_int)[None, :]\n",
    "    outputs = model(input_ids)\n",
    "    last_hidden_states = outputs[0]\n",
    "    last_hidden_states_numpy = last_hidden_states.numpy()\n",
    "    mean_tokens = np.mean(last_hidden_states_numpy, axis=1)\n",
    "    mean_tokens = mean_tokens.reshape(768)\n",
    "    list_tokens.append(mean_tokens)\n",
    "#d_tokens = pd.DataFrame(list_tokens)\n",
    "#d_tokens.head()"
   ]
  },
  {
   "cell_type": "code",
   "execution_count": null,
   "metadata": {},
   "outputs": [],
   "source": [
    "d_tokens = pd.DataFrame(list_tokens)\n",
    "d_tokens.head()"
   ]
  },
  {
   "cell_type": "code",
   "execution_count": null,
   "metadata": {},
   "outputs": [],
   "source": [
    "d_tokens.to_csv(r'd_tokens', index = False, header=True)"
   ]
  },
  {
   "cell_type": "code",
   "execution_count": null,
   "metadata": {},
   "outputs": [],
   "source": [
    "rows_cut = (d_tokens.shape[0]-5)\n",
    "df_short = df[:rows_cut]\n",
    "d_tokens_short = d_tokens[:rows_cut]\n",
    "df_short = pd.concat([df_short, d_tokens_short], axis=1)\n",
    "df_short.head()"
   ]
  },
  {
   "cell_type": "code",
   "execution_count": null,
   "metadata": {},
   "outputs": [],
   "source": [
    "rows_cut = (d_tokens.shape[0]-5)\n",
    "df_short = df[:rows_cut]\n",
    "d_tokens_short = d_tokens[:rows_cut]\n",
    "df_short = pd.concat([df_short, d_tokens_short], axis=1)\n",
    "\n",
    "data_prova = df_short.drop(['text_tokens', 'text_tokens_int'], axis=1)\n",
    "X = data_prova.drop(['engagement_exists', 'reaction_time'], axis=1)\n",
    "Y = data_prova.engagement_exists\n",
    "\n",
    "seed = 7\n",
    "test_size = 0.4\n",
    "X_train, X_test, y_train, y_test = train_test_split(X, Y, test_size=test_size, random_state=seed)\n",
    "\n",
    "model = XGBClassifier()\n",
    "model.fit(X_train, y_train)\n",
    "\n",
    "y_pred = model.predict(X_test)\n",
    "\n",
    "predictions = [round(value) for value in y_pred]\n",
    "\n",
    "accuracy = accuracy_score(y_test, predictions)\n",
    "print(\"Accuracy: %.2f%%\" % (accuracy * 100.0))"
   ]
  },
  {
   "cell_type": "code",
   "execution_count": null,
   "metadata": {
    "scrolled": true
   },
   "outputs": [],
   "source": [
    "data_dmatrix = xgb.DMatrix(data=X,label=Y)\n",
    "params = {\"objective\":\"reg:linear\",'colsample_bytree': 0.3,'learning_rate': 0.1,\n",
    "                'max_depth': 5, 'alpha': 10}\n",
    "xg_reg = xgb.train(params=params, dtrain=data_dmatrix, num_boost_round=10)\n",
    "xgb.plot_importance(xg_reg)\n",
    "plt.rcParams['figure.figsize'] = [100, 100]\n",
    "plt.show()"
   ]
  },
  {
   "cell_type": "code",
   "execution_count": null,
   "metadata": {},
   "outputs": [],
   "source": []
  },
  {
   "cell_type": "code",
   "execution_count": null,
   "metadata": {
    "scrolled": true
   },
   "outputs": [],
   "source": [
    "array_tokens = np.array(list_tokens)\n",
    "len(array_tokens)\n",
    "array_tokens"
   ]
  },
  {
   "cell_type": "code",
   "execution_count": null,
   "metadata": {
    "scrolled": true
   },
   "outputs": [],
   "source": [
    "tokenizer.encode(df.text_tokens[0])"
   ]
  },
  {
   "cell_type": "code",
   "execution_count": null,
   "metadata": {},
   "outputs": [],
   "source": [
    "tokenizer.encode(\"Hello, my dog is cute\")[0]"
   ]
  },
  {
   "cell_type": "code",
   "execution_count": null,
   "metadata": {},
   "outputs": [],
   "source": [
    "type(df.text_tokens[0][0])"
   ]
  },
  {
   "cell_type": "code",
   "execution_count": null,
   "metadata": {},
   "outputs": [],
   "source": [
    "df.text_tokens[0][0]"
   ]
  },
  {
   "cell_type": "code",
   "execution_count": null,
   "metadata": {},
   "outputs": [],
   "source": [
    "int(df.text_tokens[0][0])"
   ]
  },
  {
   "cell_type": "code",
   "execution_count": null,
   "metadata": {},
   "outputs": [],
   "source": [
    "def from_str_to_int(tokens):\n",
    "    return([ int(x) for x in tokens ])\n",
    "    \n",
    "df['text_tokens_int'] = df.text_tokens.apply(from_str_to_int)"
   ]
  },
  {
   "cell_type": "code",
   "execution_count": null,
   "metadata": {},
   "outputs": [],
   "source": [
    "type(df.text_tokens_int[0])"
   ]
  },
  {
   "cell_type": "markdown",
   "metadata": {},
   "source": [
    "<a id='Resultats'></a>\n",
    "## 6.Resultats"
   ]
  },
  {
   "cell_type": "markdown",
   "metadata": {},
   "source": [
    "<a id='Conclusió'></a>\n",
    "## 7.Conclusió"
   ]
  },
  {
   "cell_type": "code",
   "execution_count": null,
   "metadata": {},
   "outputs": [],
   "source": []
  }
 ],
 "metadata": {
  "kernelspec": {
   "display_name": "Python 3",
   "language": "python",
   "name": "python3"
  },
  "language_info": {
   "codemirror_mode": {
    "name": "ipython",
    "version": 3
   },
   "file_extension": ".py",
   "mimetype": "text/x-python",
   "name": "python",
   "nbconvert_exporter": "python",
   "pygments_lexer": "ipython3",
   "version": "3.7.4"
  }
 },
 "nbformat": 4,
 "nbformat_minor": 2
}
