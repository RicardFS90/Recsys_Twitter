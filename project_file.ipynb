{
 "cells": [
  {
   "cell_type": "markdown",
   "metadata": {},
   "source": [
    "# RecSys Twitter - Final Project\n",
    "\n",
    "### Authors: Quimi, Ricard, Pere\n",
    "\n",
    "-------------------------------------------------------------------------------------------------------------------------------"
   ]
  },
  {
   "cell_type": "markdown",
   "metadata": {},
   "source": [
    "\n",
    "This project will be the result...\n",
    "\n",
    "El projecte està divit en les següents parts:\n",
    "    - asdkoam\n",
    "    - askldmaskd\n",
    "    - asdklmasd\n",
    "    - ...\n",
    "\n",
    "1.Obtenció del dataset\n",
    "\n",
    "2.Partició de variables en les tres seccions\n",
    "\n",
    "3.Explicació de les variables\n",
    "\n",
    "-------------------------------------------------------------------------------------------------------------------------------"
   ]
  },
  {
   "cell_type": "markdown",
   "metadata": {},
   "source": [
    "### Data Import\n",
    "\n",
    "asdasdsadkoa sdoas ...."
   ]
  },
  {
   "cell_type": "code",
   "execution_count": 111,
   "metadata": {},
   "outputs": [],
   "source": [
    "# Import needed packages\n",
    "import os\n",
    "import pandas as pd\n",
    "import matplotlib"
   ]
  },
  {
   "cell_type": "code",
   "execution_count": 112,
   "metadata": {},
   "outputs": [
    {
     "data": {
      "text/html": [
       "<div>\n",
       "<style scoped>\n",
       "    .dataframe tbody tr th:only-of-type {\n",
       "        vertical-align: middle;\n",
       "    }\n",
       "\n",
       "    .dataframe tbody tr th {\n",
       "        vertical-align: top;\n",
       "    }\n",
       "\n",
       "    .dataframe thead th {\n",
       "        text-align: right;\n",
       "    }\n",
       "</style>\n",
       "<table border=\"1\" class=\"dataframe\">\n",
       "  <thead>\n",
       "    <tr style=\"text-align: right;\">\n",
       "      <th></th>\n",
       "      <th>Unnamed: 0</th>\n",
       "      <th>text_ tokens</th>\n",
       "      <th>hashtags</th>\n",
       "      <th>tweet_id</th>\n",
       "      <th>present_media</th>\n",
       "      <th>present_links</th>\n",
       "      <th>present_domains</th>\n",
       "      <th>tweet_type</th>\n",
       "      <th>language</th>\n",
       "      <th>tweet_timestamp</th>\n",
       "      <th>...</th>\n",
       "      <th>engaging_user_id</th>\n",
       "      <th>engaging_user_follower_count</th>\n",
       "      <th>engaging_user_following_count</th>\n",
       "      <th>engaging_user_is_verified</th>\n",
       "      <th>engaging_user_account_creation</th>\n",
       "      <th>engagee_follows_engager</th>\n",
       "      <th>reply_timestamp</th>\n",
       "      <th>retweet_timestamp</th>\n",
       "      <th>retweet_with_comment_timestamp</th>\n",
       "      <th>like_timestamp</th>\n",
       "    </tr>\n",
       "  </thead>\n",
       "  <tbody>\n",
       "    <tr>\n",
       "      <th>0</th>\n",
       "      <td>0</td>\n",
       "      <td>101\\t16493\\t12478\\t117\\t10105\\t42370\\t76299\\t1...</td>\n",
       "      <td>NaN</td>\n",
       "      <td>39024FBE0136E046D1357196BAECFCA6</td>\n",
       "      <td>GIF</td>\n",
       "      <td>NaN</td>\n",
       "      <td>NaN</td>\n",
       "      <td>TopLevel</td>\n",
       "      <td>D3164C7FBCF2565DDF915B1B3AEFB1DC</td>\n",
       "      <td>1581532200</td>\n",
       "      <td>...</td>\n",
       "      <td>000006829BEADA9EEA695CF0C334B426</td>\n",
       "      <td>2</td>\n",
       "      <td>29</td>\n",
       "      <td>False</td>\n",
       "      <td>1568107028</td>\n",
       "      <td>False</td>\n",
       "      <td>NaN</td>\n",
       "      <td>NaN</td>\n",
       "      <td>NaN</td>\n",
       "      <td>NaN</td>\n",
       "    </tr>\n",
       "    <tr>\n",
       "      <th>1</th>\n",
       "      <td>1</td>\n",
       "      <td>101\\t56898\\t137\\t12026\\t10216\\t39639\\t10161\\t1...</td>\n",
       "      <td>NaN</td>\n",
       "      <td>885EECCFE319306E00FFFFAC9016DCAC</td>\n",
       "      <td>NaN</td>\n",
       "      <td>NaN</td>\n",
       "      <td>NaN</td>\n",
       "      <td>Retweet</td>\n",
       "      <td>06D61DCBBE938971E1EA0C38BD9B5446</td>\n",
       "      <td>1581460521</td>\n",
       "      <td>...</td>\n",
       "      <td>00003E6CE47A2F6992901FA83F253C68</td>\n",
       "      <td>1148</td>\n",
       "      <td>1038</td>\n",
       "      <td>False</td>\n",
       "      <td>1266187322</td>\n",
       "      <td>False</td>\n",
       "      <td>NaN</td>\n",
       "      <td>NaN</td>\n",
       "      <td>NaN</td>\n",
       "      <td>NaN</td>\n",
       "    </tr>\n",
       "    <tr>\n",
       "      <th>2</th>\n",
       "      <td>2</td>\n",
       "      <td>101\\t14924\\t16118\\t10114\\t12888\\t15127\\t31204\\...</td>\n",
       "      <td>3653868A966576CF17D6A9064889BCED\\t7A6710E791A1...</td>\n",
       "      <td>AB3ADBBD011F88D10FE7F6C5FDAB214C</td>\n",
       "      <td>Photo</td>\n",
       "      <td>NaN</td>\n",
       "      <td>NaN</td>\n",
       "      <td>TopLevel</td>\n",
       "      <td>D3164C7FBCF2565DDF915B1B3AEFB1DC</td>\n",
       "      <td>1581087590</td>\n",
       "      <td>...</td>\n",
       "      <td>000269A50293CC2B1E9C72B287FA624E</td>\n",
       "      <td>515</td>\n",
       "      <td>424</td>\n",
       "      <td>False</td>\n",
       "      <td>1254588643</td>\n",
       "      <td>True</td>\n",
       "      <td>NaN</td>\n",
       "      <td>NaN</td>\n",
       "      <td>NaN</td>\n",
       "      <td>1.581090e+09</td>\n",
       "    </tr>\n",
       "    <tr>\n",
       "      <th>3</th>\n",
       "      <td>3</td>\n",
       "      <td>101\\t138\\t19826\\t10108\\t10105\\t10635\\t10105\\t1...</td>\n",
       "      <td>NaN</td>\n",
       "      <td>675D7920EA2FB4869BA767F5122FB115</td>\n",
       "      <td>NaN</td>\n",
       "      <td>NaN</td>\n",
       "      <td>NaN</td>\n",
       "      <td>TopLevel</td>\n",
       "      <td>D3164C7FBCF2565DDF915B1B3AEFB1DC</td>\n",
       "      <td>1581134845</td>\n",
       "      <td>...</td>\n",
       "      <td>0004C10C480EF88F3EED5822149DC93F</td>\n",
       "      <td>4</td>\n",
       "      <td>125</td>\n",
       "      <td>False</td>\n",
       "      <td>1547955941</td>\n",
       "      <td>False</td>\n",
       "      <td>NaN</td>\n",
       "      <td>NaN</td>\n",
       "      <td>NaN</td>\n",
       "      <td>1.581135e+09</td>\n",
       "    </tr>\n",
       "    <tr>\n",
       "      <th>4</th>\n",
       "      <td>4</td>\n",
       "      <td>101\\t73714\\t117\\t11858\\t10730\\t12603\\t11387\\t4...</td>\n",
       "      <td>NaN</td>\n",
       "      <td>9D81B887F9DCA4C481762720A980F372</td>\n",
       "      <td>NaN</td>\n",
       "      <td>NaN</td>\n",
       "      <td>NaN</td>\n",
       "      <td>Quote</td>\n",
       "      <td>2996EB2FE8162C076D070A4C8D6532CD</td>\n",
       "      <td>1581384474</td>\n",
       "      <td>...</td>\n",
       "      <td>0007B114B09D17838F76C88A51374017</td>\n",
       "      <td>34</td>\n",
       "      <td>172</td>\n",
       "      <td>False</td>\n",
       "      <td>1561164616</td>\n",
       "      <td>False</td>\n",
       "      <td>NaN</td>\n",
       "      <td>NaN</td>\n",
       "      <td>NaN</td>\n",
       "      <td>NaN</td>\n",
       "    </tr>\n",
       "  </tbody>\n",
       "</table>\n",
       "<p>5 rows × 25 columns</p>\n",
       "</div>"
      ],
      "text/plain": [
       "   Unnamed: 0                                       text_ tokens  \\\n",
       "0           0  101\\t16493\\t12478\\t117\\t10105\\t42370\\t76299\\t1...   \n",
       "1           1  101\\t56898\\t137\\t12026\\t10216\\t39639\\t10161\\t1...   \n",
       "2           2  101\\t14924\\t16118\\t10114\\t12888\\t15127\\t31204\\...   \n",
       "3           3  101\\t138\\t19826\\t10108\\t10105\\t10635\\t10105\\t1...   \n",
       "4           4  101\\t73714\\t117\\t11858\\t10730\\t12603\\t11387\\t4...   \n",
       "\n",
       "                                            hashtags  \\\n",
       "0                                                NaN   \n",
       "1                                                NaN   \n",
       "2  3653868A966576CF17D6A9064889BCED\\t7A6710E791A1...   \n",
       "3                                                NaN   \n",
       "4                                                NaN   \n",
       "\n",
       "                           tweet_id present_media present_links  \\\n",
       "0  39024FBE0136E046D1357196BAECFCA6           GIF           NaN   \n",
       "1  885EECCFE319306E00FFFFAC9016DCAC           NaN           NaN   \n",
       "2  AB3ADBBD011F88D10FE7F6C5FDAB214C         Photo           NaN   \n",
       "3  675D7920EA2FB4869BA767F5122FB115           NaN           NaN   \n",
       "4  9D81B887F9DCA4C481762720A980F372           NaN           NaN   \n",
       "\n",
       "  present_domains tweet_type                          language  \\\n",
       "0             NaN   TopLevel  D3164C7FBCF2565DDF915B1B3AEFB1DC   \n",
       "1             NaN    Retweet  06D61DCBBE938971E1EA0C38BD9B5446   \n",
       "2             NaN   TopLevel  D3164C7FBCF2565DDF915B1B3AEFB1DC   \n",
       "3             NaN   TopLevel  D3164C7FBCF2565DDF915B1B3AEFB1DC   \n",
       "4             NaN      Quote  2996EB2FE8162C076D070A4C8D6532CD   \n",
       "\n",
       "   tweet_timestamp  ...                  engaging_user_id  \\\n",
       "0       1581532200  ...  000006829BEADA9EEA695CF0C334B426   \n",
       "1       1581460521  ...  00003E6CE47A2F6992901FA83F253C68   \n",
       "2       1581087590  ...  000269A50293CC2B1E9C72B287FA624E   \n",
       "3       1581134845  ...  0004C10C480EF88F3EED5822149DC93F   \n",
       "4       1581384474  ...  0007B114B09D17838F76C88A51374017   \n",
       "\n",
       "   engaging_user_follower_count  engaging_user_following_count  \\\n",
       "0                             2                             29   \n",
       "1                          1148                           1038   \n",
       "2                           515                            424   \n",
       "3                             4                            125   \n",
       "4                            34                            172   \n",
       "\n",
       "   engaging_user_is_verified  engaging_user_account_creation  \\\n",
       "0                      False                      1568107028   \n",
       "1                      False                      1266187322   \n",
       "2                      False                      1254588643   \n",
       "3                      False                      1547955941   \n",
       "4                      False                      1561164616   \n",
       "\n",
       "  engagee_follows_engager  reply_timestamp  retweet_timestamp  \\\n",
       "0                   False              NaN                NaN   \n",
       "1                   False              NaN                NaN   \n",
       "2                    True              NaN                NaN   \n",
       "3                   False              NaN                NaN   \n",
       "4                   False              NaN                NaN   \n",
       "\n",
       "   retweet_with_comment_timestamp  like_timestamp  \n",
       "0                             NaN             NaN  \n",
       "1                             NaN             NaN  \n",
       "2                             NaN    1.581090e+09  \n",
       "3                             NaN    1.581135e+09  \n",
       "4                             NaN             NaN  \n",
       "\n",
       "[5 rows x 25 columns]"
      ]
     },
     "execution_count": 112,
     "metadata": {},
     "output_type": "execute_result"
    }
   ],
   "source": [
    "# set path\n",
    "#libname = 'C:/Users/usuario/Documents/Data Science/Postgrau-master/Final Project'\n",
    "\n",
    "# load data\n",
    "df = pd.read_csv('twitter_subset1M.csv')\n",
    "\n",
    "# Visualize some data\n",
    "df.head()"
   ]
  },
  {
   "cell_type": "markdown",
   "metadata": {},
   "source": [
    "-------------------------------------------------------------------------------------------------------------------------------"
   ]
  },
  {
   "cell_type": "code",
   "execution_count": 113,
   "metadata": {},
   "outputs": [
    {
     "data": {
      "text/plain": [
       "0                  NaN\n",
       "1                  NaN\n",
       "2                  NaN\n",
       "3                  NaN\n",
       "4                  NaN\n",
       "5                  NaN\n",
       "6                  NaN\n",
       "7                  NaN\n",
       "8                  NaN\n",
       "9                  NaN\n",
       "10                 NaN\n",
       "11                 NaN\n",
       "12                 NaN\n",
       "13                 NaN\n",
       "14                 NaN\n",
       "15                 NaN\n",
       "16                 NaN\n",
       "17                 NaN\n",
       "18                 NaN\n",
       "19                 NaN\n",
       "20                 NaN\n",
       "21                 NaN\n",
       "22                 NaN\n",
       "23                 NaN\n",
       "24                 NaN\n",
       "25                 NaN\n",
       "26                 NaN\n",
       "27                 NaN\n",
       "28                 NaN\n",
       "29                 NaN\n",
       "              ...     \n",
       "455488             NaN\n",
       "455489             NaN\n",
       "455490             NaN\n",
       "455491             NaN\n",
       "455492             NaN\n",
       "455493             NaN\n",
       "455494             NaN\n",
       "455495    1.581395e+09\n",
       "455496             NaN\n",
       "455497             NaN\n",
       "455498             NaN\n",
       "455499             NaN\n",
       "455500             NaN\n",
       "455501             NaN\n",
       "455502             NaN\n",
       "455503             NaN\n",
       "455504             NaN\n",
       "455505             NaN\n",
       "455506             NaN\n",
       "455507             NaN\n",
       "455508             NaN\n",
       "455509             NaN\n",
       "455510             NaN\n",
       "455511             NaN\n",
       "455512             NaN\n",
       "455513             NaN\n",
       "455514             NaN\n",
       "455515             NaN\n",
       "455516             NaN\n",
       "455517             NaN\n",
       "Name: reply_timestamp, Length: 455518, dtype: float64"
      ]
     },
     "execution_count": 113,
     "metadata": {},
     "output_type": "execute_result"
    }
   ],
   "source": [
    "df.reply_timestamp"
   ]
  },
  {
   "cell_type": "markdown",
   "metadata": {},
   "source": [
    "### Data Preparation\n",
    "\n",
    "asdadsadasdaskldmasklda...."
   ]
  },
  {
   "cell_type": "code",
   "execution_count": 114,
   "metadata": {},
   "outputs": [],
   "source": [
    "# Rename 'text_tokens' column name\n",
    "df.rename(columns={'text_ tokens':'text_tokens'}, inplace=True)\n",
    "\n",
    "# Select tweets in English\n",
    "df = df[df.language=='D3164C7FBCF2565DDF915B1B3AEFB1DC']\n",
    "\n",
    "# Clean tokens and transform into lists\n",
    "df['text_tokens'] = df['text_tokens'].str.split('\\t')\n",
    "\n",
    "# Remove first column\n",
    "df.drop('Unnamed: 0', axis=1, inplace=True)\n",
    "\n",
    "# Remove id variables\n",
    "df.drop(['tweet_id', 'engaged_with_user_id', 'engaging_user_id'], axis=1, inplace=True)\n",
    "\n",
    "# Add variable 'engagement_timestamp' and remove timestamp columns\n",
    "df['engagement_timestamp'] = df[['reply_timestamp','retweet_with_comment_timestamp','like_timestamp']].min(axis=1)\n",
    "df.drop(['reply_timestamp', 'retweet_timestamp', 'retweet_with_comment_timestamp', 'like_timestamp'], axis=1, inplace=True)\n",
    "\n",
    "# Add variable 'engagement_exists'\n",
    "df['engagement_exists'] = df['engagement_timestamp'].apply(lambda x: 0 if (np.isnan(x)) else 1)\n",
    "\n",
    "# Remove unused variables\n",
    "df.drop(['present_domains', 'language'], axis=1, inplace=True)\n",
    "\n",
    "# Upload index\n",
    "df.reset_index(drop=True, inplace=True)"
   ]
  },
  {
   "cell_type": "code",
   "execution_count": 115,
   "metadata": {},
   "outputs": [
    {
     "data": {
      "text/plain": [
       "0    105010\n",
       "1     85791\n",
       "Name: engagement_exists, dtype: int64"
      ]
     },
     "execution_count": 115,
     "metadata": {},
     "output_type": "execute_result"
    }
   ],
   "source": [
    "df.engagement_exists.value_counts()"
   ]
  },
  {
   "cell_type": "markdown",
   "metadata": {},
   "source": [
    "-------------------------------------------------------------------------------------------------------------------------------"
   ]
  },
  {
   "cell_type": "markdown",
   "metadata": {},
   "source": [
    "### Data Preprocessing\n",
    "\n",
    "asdasdasas....."
   ]
  },
  {
   "cell_type": "code",
   "execution_count": 116,
   "metadata": {},
   "outputs": [],
   "source": [
    "# Transform variable 'hashtags' to boolean one-hot encoded\n",
    "df['present_hashtags'] = df['hashtags'].apply(lambda x: 1 if not pd.isnull(x) else 0)\n",
    "df.drop('hashtags', axis=1, inplace=True)\n",
    "\n",
    "# Transform variable 'present_links' to boolean one-hot encoded\n",
    "df['present_links'] = df['present_links'].apply(lambda x: 1 if not pd.isnull(x) else 0)\n",
    "\n",
    "# Transform variable 'present_media' into 3 new variables one-hot encoded\n",
    "def hot_encod_photo(x):\n",
    "    try:\n",
    "        return x.count('Photo')\n",
    "    except AttributeError:\n",
    "        return 0\n",
    "def hot_encod_video(x):\n",
    "    try:\n",
    "        return x.count('Video')\n",
    "    except AttributeError:\n",
    "        return 0\n",
    "def hot_encod_gif(x):\n",
    "    try:\n",
    "        return x.count('GIF')\n",
    "    except AttributeError:\n",
    "        return 0\n",
    "    \n",
    "df['present_photo'] = df['present_media'].apply(hot_encod_photo)\n",
    "df['present_video'] = df['present_media'].apply(hot_encod_video)\n",
    "df['present_gif'] = df['present_media'].apply(hot_encod_gif)\n",
    "\n",
    "df.drop(['present_media'], axis=1, inplace=True)\n",
    "\n",
    "# Transform boolean variables to one-hot encoded\n",
    "df[\"engaged_with_user_is_verified\"] = df[\"engaged_with_user_is_verified\"].astype(int)\n",
    "df[\"engaging_user_is_verified\"] = df[\"engaging_user_is_verified\"].astype(int)\n",
    "df[\"engagee_follows_engager\"] = df[\"engagee_follows_engager\"].astype(int)\n",
    "\n",
    "# Transform timestamp variables to readable dates\n",
    "df['tweet_timestamp'] = pd.to_datetime(df['tweet_timestamp'], unit='s')\n",
    "df['engagement_timestamp'] = pd.to_datetime(df['engagement_timestamp'], unit='s')\n",
    "df['engaged_with_user_account_creation'] = pd.to_datetime(df['engaged_with_user_account_creation'], unit='s')\n",
    "df['engaging_user_account_creation'] = pd.to_datetime(df['engaging_user_account_creation'], unit='s')\n",
    "\n",
    "# Transform 'tweet_type' variable to one-hot encoded\n",
    "dummies_tweet_type = pd.get_dummies(df['tweet_type'])\n",
    "df = pd.concat([df, dummies_tweet_type], axis=1)\n",
    "df.drop(['tweet_type'], axis=1, inplace=True)\n",
    "\n",
    "# Create new variable 'reaction_time'\n",
    "df['reaction_time'] = df['engagement_timestamp'] - df['tweet_timestamp']\n",
    "df['reaction_time'] = df['reaction_time'].dt.total_seconds()\n",
    "\n",
    "# Create new variable 'time_of_day'\n",
    "tweet_hour = df.tweet_timestamp.dt.hour\n",
    "bin = [0,8,16,24] \n",
    "category = pd.cut(tweet_hour, bin, include_lowest=True, labels=['morning','afternoon','evening'])\n",
    "df = pd.concat([df, pd.get_dummies(category)], axis=1)\n",
    "\n",
    "# Create new variable 'day_of_week'\n",
    "tweet_day = df.tweet_timestamp.dt.weekday\n",
    "df_tweet_day = pd.get_dummies(tweet_day)\n",
    "df_tweet_day.rename({0:'monday',1:'tuesday',2:'wednesday', 3:'thursday', 4:'friday', 5:'saturday', 6:'sunday'}, axis='columns', inplace=True)\n",
    "df = pd.concat([df, df_tweet_day], axis=1)\n",
    "\n",
    "# Remove variable 'tweet_timestamp'\n",
    "df.drop(['tweet_timestamp'], axis=1, inplace=True)\n",
    "df.drop(['engagement_timestamp'], axis=1, inplace=True)\n",
    "\n",
    "# Create new variable 'engaged_with_user_account_days'\n",
    "from datetime import date\n",
    "user_days = (pd.Timestamp.now() - df.engaged_with_user_account_creation).dt.days\n",
    "user_days.name = 'engaged_with_user_account_days'\n",
    "df = pd.concat([df, pd.Series(user_days)], axis=1)\n",
    "df.drop(['engaged_with_user_account_creation'], axis=1, inplace=True)\n",
    "\n",
    "# Create new variable 'engaging_user_account_days'\n",
    "from datetime import date\n",
    "user_days = (pd.Timestamp.now() - df.engaging_user_account_creation).dt.days\n",
    "user_days.name = 'engaging_user_account_days'\n",
    "df = pd.concat([df, pd.Series(user_days)], axis=1)\n",
    "df.drop(['engaging_user_account_creation'], axis=1, inplace=True)\n",
    "\n",
    "# Create new variable 'engaged_with_user_popular'\n",
    "import numpy as np\n",
    "\n",
    "ratio_follows = df.engaged_with_user_following_count/df.engaged_with_user_follower_count\n",
    "\n",
    "ratio_popular = ratio_follows <= np.percentile(ratio_follows, 25)\n",
    "follower_popular = df.engaged_with_user_follower_count >= df.engaged_with_user_follower_count.median()\n",
    "\n",
    "engaged_with_user_popular = pd.Series(ratio_popular & follower_popular, name = 'engaged_with_user_popular').astype(int)\n",
    "df = pd.concat([df, engaged_with_user_popular], axis=1)"
   ]
  },
  {
   "cell_type": "markdown",
   "metadata": {},
   "source": [
    "-------------------------------------------------------------------------------------------------------------------------------"
   ]
  },
  {
   "cell_type": "markdown",
   "metadata": {},
   "source": [
    "### Data Analysis"
   ]
  },
  {
   "cell_type": "code",
   "execution_count": 62,
   "metadata": {},
   "outputs": [],
   "source": [
    "numeric_cols = ['engaged_with_user_follower_count','engaged_with_user_following_count','engaging_user_follower_count',\n",
    "                'engaging_user_following_count']\n",
    "boolean_cols = ['present_links','engaged_with_user_is_verified','engaging_user_is_verified','engagee_follows_engager',\n",
    "                'present_hashtags','present_photo','present_video','present_gif','Quote','Retweet','TopLevel']\n",
    "time_cols = ['tweet_timestamp','engaged_with_user_account_creation','engaging_user_account_creation',\n",
    "            'engagement_timestamp','reaction_time']\n",
    "text_cols = ['text_tokens']"
   ]
  },
  {
   "cell_type": "markdown",
   "metadata": {},
   "source": [
    "#### Numeric  variables"
   ]
  },
  {
   "cell_type": "code",
   "execution_count": 63,
   "metadata": {
    "scrolled": true
   },
   "outputs": [
    {
     "name": "stdout",
     "output_type": "stream",
     "text": [
      "count       190801.0\n",
      "mean       2517668.0\n",
      "std        9887992.0\n",
      "min              1.0\n",
      "25%           1962.0\n",
      "50%          30636.0\n",
      "75%         456428.0\n",
      "max      112787050.0\n",
      "Name: engaged_with_user_follower_count, dtype: float64 \n",
      "------------------------------------\n",
      "count     190801.0\n",
      "mean        6619.0\n",
      "std        47512.0\n",
      "min            0.0\n",
      "25%          275.0\n",
      "50%          693.0\n",
      "75%         1839.0\n",
      "max      4447036.0\n",
      "Name: engaged_with_user_following_count, dtype: float64 \n",
      "------------------------------------\n",
      "count     190801.0\n",
      "mean        1023.0\n",
      "std        25440.0\n",
      "min            0.0\n",
      "25%           45.0\n",
      "50%          169.0\n",
      "75%          497.0\n",
      "max      5189088.0\n",
      "Name: engaging_user_follower_count, dtype: float64 \n",
      "------------------------------------\n",
      "count    190801.0\n",
      "mean        684.0\n",
      "std        2082.0\n",
      "min           1.0\n",
      "25%         145.0\n",
      "50%         315.0\n",
      "75%         671.0\n",
      "max      372575.0\n",
      "Name: engaging_user_following_count, dtype: float64 \n",
      "------------------------------------\n"
     ]
    },
    {
     "data": {
      "text/plain": [
       "[None, None, None, None]"
      ]
     },
     "execution_count": 63,
     "metadata": {},
     "output_type": "execute_result"
    }
   ],
   "source": [
    "[print(round(df[col].describe(),0), '\\n------------------------------------') for col in numeric_cols]"
   ]
  },
  {
   "cell_type": "markdown",
   "metadata": {},
   "source": [
    "#### Boolean variables"
   ]
  },
  {
   "cell_type": "code",
   "execution_count": 64,
   "metadata": {
    "scrolled": true
   },
   "outputs": [
    {
     "name": "stdout",
     "output_type": "stream",
     "text": [
      "0    0.85\n",
      "1    0.15\n",
      "Name: present_links, dtype: float64 \n",
      "------------------------------------\n",
      "0    0.63\n",
      "1    0.37\n",
      "Name: engaged_with_user_is_verified, dtype: float64 \n",
      "------------------------------------\n",
      "0    1.0\n",
      "1    0.0\n",
      "Name: engaging_user_is_verified, dtype: float64 \n",
      "------------------------------------\n",
      "0    0.69\n",
      "1    0.31\n",
      "Name: engagee_follows_engager, dtype: float64 \n",
      "------------------------------------\n",
      "0    0.81\n",
      "1    0.19\n",
      "Name: present_hashtags, dtype: float64 \n",
      "------------------------------------\n",
      "0    0.78\n",
      "1    0.16\n",
      "2    0.04\n",
      "4    0.02\n",
      "3    0.01\n",
      "Name: present_photo, dtype: float64 \n",
      "------------------------------------\n",
      "0    0.88\n",
      "1    0.12\n",
      "Name: present_video, dtype: float64 \n",
      "------------------------------------\n",
      "0    0.99\n",
      "1    0.01\n",
      "Name: present_gif, dtype: float64 \n",
      "------------------------------------\n",
      "0    0.9\n",
      "1    0.1\n",
      "Name: Quote, dtype: float64 \n",
      "------------------------------------\n",
      "0    0.62\n",
      "1    0.38\n",
      "Name: Retweet, dtype: float64 \n",
      "------------------------------------\n",
      "1    0.52\n",
      "0    0.48\n",
      "Name: TopLevel, dtype: float64 \n",
      "------------------------------------\n"
     ]
    },
    {
     "data": {
      "text/plain": [
       "[None, None, None, None, None, None, None, None, None, None, None]"
      ]
     },
     "execution_count": 64,
     "metadata": {},
     "output_type": "execute_result"
    }
   ],
   "source": [
    "[print(round(df[col].value_counts(normalize=True),2), '\\n------------------------------------') for col in boolean_cols]"
   ]
  },
  {
   "cell_type": "markdown",
   "metadata": {},
   "source": [
    "-------------------------------------------------------------------------------------------------------------------------------"
   ]
  },
  {
   "cell_type": "markdown",
   "metadata": {},
   "source": [
    "### Model XGBoost"
   ]
  },
  {
   "cell_type": "code",
   "execution_count": 119,
   "metadata": {},
   "outputs": [
    {
     "name": "stderr",
     "output_type": "stream",
     "text": [
      "\"{sys.executable}\" no se reconoce como un comando interno o externo,\n",
      "programa o archivo por lotes ejecutable.\n"
     ]
    }
   ],
   "source": [
    "!{sys.executable} -m pip install xgboost"
   ]
  },
  {
   "cell_type": "code",
   "execution_count": 120,
   "metadata": {},
   "outputs": [
    {
     "ename": "ModuleNotFoundError",
     "evalue": "No module named 'xgboost'",
     "output_type": "error",
     "traceback": [
      "\u001b[1;31m---------------------------------------------------------------------------\u001b[0m",
      "\u001b[1;31mModuleNotFoundError\u001b[0m                       Traceback (most recent call last)",
      "\u001b[1;32m<ipython-input-120-2cdb7022a50a>\u001b[0m in \u001b[0;36m<module>\u001b[1;34m\u001b[0m\n\u001b[1;32m----> 1\u001b[1;33m \u001b[1;32mimport\u001b[0m \u001b[0mxgboost\u001b[0m \u001b[1;32mas\u001b[0m \u001b[0mxgb\u001b[0m\u001b[1;33m\u001b[0m\u001b[1;33m\u001b[0m\u001b[0m\n\u001b[0m\u001b[0;32m      2\u001b[0m \u001b[1;32mfrom\u001b[0m \u001b[0msklearn\u001b[0m\u001b[1;33m.\u001b[0m\u001b[0mmetrics\u001b[0m \u001b[1;32mimport\u001b[0m \u001b[0mmean_squared_error\u001b[0m\u001b[1;33m\u001b[0m\u001b[1;33m\u001b[0m\u001b[0m\n\u001b[0;32m      3\u001b[0m \u001b[1;33m\u001b[0m\u001b[0m\n\u001b[0;32m      4\u001b[0m \u001b[0mdata_prova\u001b[0m \u001b[1;33m=\u001b[0m \u001b[0mdf\u001b[0m\u001b[1;33m.\u001b[0m\u001b[0mdrop\u001b[0m\u001b[1;33m(\u001b[0m\u001b[1;33m[\u001b[0m\u001b[1;34m'text_tokens'\u001b[0m\u001b[1;33m]\u001b[0m\u001b[1;33m,\u001b[0m \u001b[0maxis\u001b[0m\u001b[1;33m=\u001b[0m\u001b[1;36m1\u001b[0m\u001b[1;33m)\u001b[0m\u001b[1;33m\u001b[0m\u001b[1;33m\u001b[0m\u001b[0m\n",
      "\u001b[1;31mModuleNotFoundError\u001b[0m: No module named 'xgboost'"
     ]
    }
   ],
   "source": [
    "import xgboost as xgb\n",
    "from sklearn.metrics import mean_squared_error\n",
    "\n",
    "data_prova = df.drop(['text_tokens'], axis=1)\n"
   ]
  },
  {
   "cell_type": "code",
   "execution_count": null,
   "metadata": {},
   "outputs": [],
   "source": []
  }
 ],
 "metadata": {
  "kernelspec": {
   "display_name": "Python 3",
   "language": "python",
   "name": "python3"
  },
  "language_info": {
   "codemirror_mode": {
    "name": "ipython",
    "version": 3
   },
   "file_extension": ".py",
   "mimetype": "text/x-python",
   "name": "python",
   "nbconvert_exporter": "python",
   "pygments_lexer": "ipython3",
   "version": "3.7.3"
  }
 },
 "nbformat": 4,
 "nbformat_minor": 2
}
