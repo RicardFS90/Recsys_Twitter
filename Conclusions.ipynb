{
 "cells": [
  {
   "cell_type": "markdown",
   "metadata": {},
   "source": [
    "Un cop enllestit el projecte, es poden destacar els següents punts:\n",
    "* Cost computacional: treballar amb el dataset original sencer i la naturalesa d'algunes de les eines que s'han volgut utilitzar no ha estat possibles degut al gran cost computacional que això requeria i a les limitacions dels nostres equips. \n",
    "* Per tal de poder crear noves variables o de triar quines s'han utilitzat en el model final, entendre en profunditat el contingut del dataset ha estat clau. Així doncs, ser capaç de decodificar els Tweets, explorar extenisvament les columnes i fer un anàlis complet del dataset ha estat vital per tal de poder fer un model de *Recommenders* després.\n",
    "* Aquest projecte ha permès relacionar molts dels conceptes apresos durant el postgrau:\n",
    "    * Obtenció de dades: Obrir grans datasets, configurar la API de Twitter.\n",
    "    * Coneixements de Python: Ens ha permès practicar amb els coneixements bàscis de Python així com algunes de les llibreries més usuals en datascience com Pandas, Sckitlearn, numpy, tensorflow i algunes de no vistes en el curs comm transformers.\n",
    "    * Desenvolupament i avaluació de models de machine learning: al final del projecte s'ha entrenat un model i s'ha avaluat seguint els coneixements obtinguts a les classes d'algoritmes supervisats.\n",
    "    * Deep Learning: el model de trasnformers que fa servir BERT té una estructura de Xarxa neuronal, i els coneixaments adquirits han permès poder entendre millor la documentació del model.\n",
    "* Per útlim, s'ha aconseguit un model que és capaç de predir fins a cert punt la possibilitat que un usuari interaccioni amb un tweet en particular, podent ser utilitzar per millorar el contingut del *feed* dels usuaris.\n",
    "\n",
    "\n",
    "D'altra banda, també hem es volen destacar com es seguiria en aquest projecte en el cas de tenir més temps o capacitat de còmput:\n",
    "* Ús del contingut de Bert: Fer un sentiment analysis, un topic classification o provar de jugar amb altres característiques del text per extreure un model més bo.\n",
    "* Fer un ús més profund dels hyperparametres del XGBoost per obtenir un model amb més precisió.\n",
    "* Provar d'introduir tot el dataset sencer per veure si amb molta més quantitat d'informació d'entrada els resultats del model milloren."
   ]
  },
  {
   "cell_type": "code",
   "execution_count": null,
   "metadata": {},
   "outputs": [],
   "source": []
  }
 ],
 "metadata": {
  "kernelspec": {
   "display_name": "Python 3",
   "language": "python",
   "name": "python3"
  },
  "language_info": {
   "codemirror_mode": {
    "name": "ipython",
    "version": 3
   },
   "file_extension": ".py",
   "mimetype": "text/x-python",
   "name": "python",
   "nbconvert_exporter": "python",
   "pygments_lexer": "ipython3",
   "version": "3.8.3"
  }
 },
 "nbformat": 4,
 "nbformat_minor": 4
}
