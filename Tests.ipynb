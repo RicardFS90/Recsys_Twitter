{
 "cells": [
  {
   "cell_type": "markdown",
   "metadata": {},
   "source": [
    "Obrir tocho"
   ]
  },
  {
   "cell_type": "code",
   "execution_count": 1,
   "metadata": {},
   "outputs": [],
   "source": [
    "#Let's import everything!\n",
    "import pandas as pd\n",
    "import numpy as np\n",
    "import matplotlib.pyplot as plt\n",
    "from datetime import datetime"
   ]
  },
  {
   "cell_type": "code",
   "execution_count": 2,
   "metadata": {},
   "outputs": [],
   "source": [
    "#Read files into a pd dataframe\n",
    "#Training file from a random selection of the original large file to be able to work faster\n",
    "training = pd.read_csv('tocho.csv', index_col = 0)"
   ]
  },
  {
   "cell_type": "code",
   "execution_count": 3,
   "metadata": {},
   "outputs": [
    {
     "data": {
      "text/plain": [
       "\"\\nwith open('deleted_user_IDs.txt') as f:\\n    deleted_user_ID = f.read().splitlines()\\nwith open('deleted_tweet_IDs.txt') as f:\\n    deleted_tweet_ID = f.read().splitlines()\\n    \\ntraining['todelete'] = training['user'].apply(lambda x: x in eleted_user_ID)\\ntraining['todelete2'] = training['tweet_id'].apply(lambda x: x in deleted_tweet_ID)\\n\\n\""
      ]
     },
     "execution_count": 3,
     "metadata": {},
     "output_type": "execute_result"
    }
   ],
   "source": [
    "#update dataset with deleted tweets and users ids (Still can't find a quick and efficient way to do it)\n",
    "'''\n",
    "with open('deleted_user_IDs.txt') as f:\n",
    "    deleted_user_ID = f.read().splitlines()\n",
    "with open('deleted_tweet_IDs.txt') as f:\n",
    "    deleted_tweet_ID = f.read().splitlines()\n",
    "    \n",
    "training['todelete'] = training['user'].apply(lambda x: x in eleted_user_ID)\n",
    "training['todelete2'] = training['tweet_id'].apply(lambda x: x in deleted_tweet_ID)\n",
    "\n",
    "'''"
   ]
  },
  {
   "cell_type": "code",
   "execution_count": 4,
   "metadata": {},
   "outputs": [
    {
     "data": {
      "text/html": [
       "<div>\n",
       "<style scoped>\n",
       "    .dataframe tbody tr th:only-of-type {\n",
       "        vertical-align: middle;\n",
       "    }\n",
       "\n",
       "    .dataframe tbody tr th {\n",
       "        vertical-align: top;\n",
       "    }\n",
       "\n",
       "    .dataframe thead th {\n",
       "        text-align: right;\n",
       "    }\n",
       "</style>\n",
       "<table border=\"1\" class=\"dataframe\">\n",
       "  <thead>\n",
       "    <tr style=\"text-align: right;\">\n",
       "      <th></th>\n",
       "      <th>text_ tokens</th>\n",
       "      <th>hashtags</th>\n",
       "      <th>tweet_id</th>\n",
       "      <th>present_media</th>\n",
       "      <th>present_links</th>\n",
       "      <th>present_domains</th>\n",
       "      <th>tweet_type</th>\n",
       "      <th>language</th>\n",
       "      <th>tweet_timestamp</th>\n",
       "      <th>engaged_with_user_id</th>\n",
       "      <th>...</th>\n",
       "      <th>engaging_user_id</th>\n",
       "      <th>engaging_user_follower_count</th>\n",
       "      <th>engaging_user_following_count</th>\n",
       "      <th>engaging_user_is_verified</th>\n",
       "      <th>engaging_user_account_creation</th>\n",
       "      <th>engagee_follows_engager</th>\n",
       "      <th>reply_timestamp</th>\n",
       "      <th>retweet_timestamp</th>\n",
       "      <th>retweet_with_comment_timestamp</th>\n",
       "      <th>like_timestamp</th>\n",
       "    </tr>\n",
       "  </thead>\n",
       "  <tbody>\n",
       "    <tr>\n",
       "      <th>0</th>\n",
       "      <td>101\\t16493\\t12478\\t117\\t10105\\t42370\\t76299\\t1...</td>\n",
       "      <td>NaN</td>\n",
       "      <td>39024FBE0136E046D1357196BAECFCA6</td>\n",
       "      <td>GIF</td>\n",
       "      <td>NaN</td>\n",
       "      <td>NaN</td>\n",
       "      <td>TopLevel</td>\n",
       "      <td>D3164C7FBCF2565DDF915B1B3AEFB1DC</td>\n",
       "      <td>1581532200</td>\n",
       "      <td>3BF0702AA3337E076DA5DF54E55117D1</td>\n",
       "      <td>...</td>\n",
       "      <td>000006829BEADA9EEA695CF0C334B426</td>\n",
       "      <td>2</td>\n",
       "      <td>29</td>\n",
       "      <td>False</td>\n",
       "      <td>1568107028</td>\n",
       "      <td>False</td>\n",
       "      <td>NaN</td>\n",
       "      <td>NaN</td>\n",
       "      <td>NaN</td>\n",
       "      <td>NaN</td>\n",
       "    </tr>\n",
       "    <tr>\n",
       "      <th>1</th>\n",
       "      <td>101\\t11420\\t10173\\t45283\\t10133\\t40960\\t10835\\...</td>\n",
       "      <td>NaN</td>\n",
       "      <td>6F4B64CF616A1B65C94B9581AB3617E5</td>\n",
       "      <td>NaN</td>\n",
       "      <td>NaN</td>\n",
       "      <td>NaN</td>\n",
       "      <td>TopLevel</td>\n",
       "      <td>ECED8A16BE2A5E8871FD55F4842F16B1</td>\n",
       "      <td>1581134453</td>\n",
       "      <td>4C86333F8DC95B0D3C716C46A7862CCC</td>\n",
       "      <td>...</td>\n",
       "      <td>00046D54CBEE1354F395930AB602C6EF</td>\n",
       "      <td>87</td>\n",
       "      <td>100</td>\n",
       "      <td>False</td>\n",
       "      <td>1500643248</td>\n",
       "      <td>False</td>\n",
       "      <td>NaN</td>\n",
       "      <td>NaN</td>\n",
       "      <td>NaN</td>\n",
       "      <td>1.581158e+09</td>\n",
       "    </tr>\n",
       "    <tr>\n",
       "      <th>2</th>\n",
       "      <td>101\\t10105\\t76456\\t22201\\t119\\t119\\t119\\t119\\t...</td>\n",
       "      <td>NaN</td>\n",
       "      <td>6DD591ABD65945B412C062DE26C55CAC</td>\n",
       "      <td>NaN</td>\n",
       "      <td>NaN</td>\n",
       "      <td>NaN</td>\n",
       "      <td>Quote</td>\n",
       "      <td>D3164C7FBCF2565DDF915B1B3AEFB1DC</td>\n",
       "      <td>1581340818</td>\n",
       "      <td>304AD9FCC24B58A12FC7843F8DFE804E</td>\n",
       "      <td>...</td>\n",
       "      <td>000AF284D93A0EBDD1BE0D4701F581FC</td>\n",
       "      <td>583</td>\n",
       "      <td>1071</td>\n",
       "      <td>False</td>\n",
       "      <td>1465415499</td>\n",
       "      <td>True</td>\n",
       "      <td>NaN</td>\n",
       "      <td>NaN</td>\n",
       "      <td>NaN</td>\n",
       "      <td>1.581345e+09</td>\n",
       "    </tr>\n",
       "    <tr>\n",
       "      <th>3</th>\n",
       "      <td>101\\t49307\\t11090\\t49339\\t11369\\t14703\\t110014...</td>\n",
       "      <td>B929FC51754F08E9CF07498FF4DFC1DC</td>\n",
       "      <td>25BFBE285D27B2144C6B169C11083FAB</td>\n",
       "      <td>Photo</td>\n",
       "      <td>NaN</td>\n",
       "      <td>NaN</td>\n",
       "      <td>TopLevel</td>\n",
       "      <td>D3164C7FBCF2565DDF915B1B3AEFB1DC</td>\n",
       "      <td>1581332785</td>\n",
       "      <td>AF003AF390475BFCB3D3618FE55F950E</td>\n",
       "      <td>...</td>\n",
       "      <td>001C14131FC5556F3CB6555FF04F0AB1</td>\n",
       "      <td>272</td>\n",
       "      <td>1874</td>\n",
       "      <td>False</td>\n",
       "      <td>1425137677</td>\n",
       "      <td>False</td>\n",
       "      <td>NaN</td>\n",
       "      <td>NaN</td>\n",
       "      <td>NaN</td>\n",
       "      <td>1.581344e+09</td>\n",
       "    </tr>\n",
       "    <tr>\n",
       "      <th>4</th>\n",
       "      <td>101\\t52212\\t18010\\t10120\\t15122\\t10325\\t40323\\...</td>\n",
       "      <td>NaN</td>\n",
       "      <td>27A0AC9D2924771C97F7082EE951C1B1</td>\n",
       "      <td>Photo</td>\n",
       "      <td>NaN</td>\n",
       "      <td>NaN</td>\n",
       "      <td>TopLevel</td>\n",
       "      <td>717293301FE296B0B61950D041485825</td>\n",
       "      <td>1581108476</td>\n",
       "      <td>1699A4DEBFEAB17CC8F748C13F889C35</td>\n",
       "      <td>...</td>\n",
       "      <td>001DD4110BC58DBDC235D0B7A5B25ACE</td>\n",
       "      <td>1272</td>\n",
       "      <td>1243</td>\n",
       "      <td>False</td>\n",
       "      <td>1305546726</td>\n",
       "      <td>False</td>\n",
       "      <td>NaN</td>\n",
       "      <td>NaN</td>\n",
       "      <td>NaN</td>\n",
       "      <td>1.581109e+09</td>\n",
       "    </tr>\n",
       "  </tbody>\n",
       "</table>\n",
       "<p>5 rows × 24 columns</p>\n",
       "</div>"
      ],
      "text/plain": [
       "                                        text_ tokens  \\\n",
       "0  101\\t16493\\t12478\\t117\\t10105\\t42370\\t76299\\t1...   \n",
       "1  101\\t11420\\t10173\\t45283\\t10133\\t40960\\t10835\\...   \n",
       "2  101\\t10105\\t76456\\t22201\\t119\\t119\\t119\\t119\\t...   \n",
       "3  101\\t49307\\t11090\\t49339\\t11369\\t14703\\t110014...   \n",
       "4  101\\t52212\\t18010\\t10120\\t15122\\t10325\\t40323\\...   \n",
       "\n",
       "                           hashtags                          tweet_id  \\\n",
       "0                               NaN  39024FBE0136E046D1357196BAECFCA6   \n",
       "1                               NaN  6F4B64CF616A1B65C94B9581AB3617E5   \n",
       "2                               NaN  6DD591ABD65945B412C062DE26C55CAC   \n",
       "3  B929FC51754F08E9CF07498FF4DFC1DC  25BFBE285D27B2144C6B169C11083FAB   \n",
       "4                               NaN  27A0AC9D2924771C97F7082EE951C1B1   \n",
       "\n",
       "  present_media present_links present_domains tweet_type  \\\n",
       "0           GIF           NaN             NaN   TopLevel   \n",
       "1           NaN           NaN             NaN   TopLevel   \n",
       "2           NaN           NaN             NaN      Quote   \n",
       "3         Photo           NaN             NaN   TopLevel   \n",
       "4         Photo           NaN             NaN   TopLevel   \n",
       "\n",
       "                           language  tweet_timestamp  \\\n",
       "0  D3164C7FBCF2565DDF915B1B3AEFB1DC       1581532200   \n",
       "1  ECED8A16BE2A5E8871FD55F4842F16B1       1581134453   \n",
       "2  D3164C7FBCF2565DDF915B1B3AEFB1DC       1581340818   \n",
       "3  D3164C7FBCF2565DDF915B1B3AEFB1DC       1581332785   \n",
       "4  717293301FE296B0B61950D041485825       1581108476   \n",
       "\n",
       "               engaged_with_user_id  ...                  engaging_user_id  \\\n",
       "0  3BF0702AA3337E076DA5DF54E55117D1  ...  000006829BEADA9EEA695CF0C334B426   \n",
       "1  4C86333F8DC95B0D3C716C46A7862CCC  ...  00046D54CBEE1354F395930AB602C6EF   \n",
       "2  304AD9FCC24B58A12FC7843F8DFE804E  ...  000AF284D93A0EBDD1BE0D4701F581FC   \n",
       "3  AF003AF390475BFCB3D3618FE55F950E  ...  001C14131FC5556F3CB6555FF04F0AB1   \n",
       "4  1699A4DEBFEAB17CC8F748C13F889C35  ...  001DD4110BC58DBDC235D0B7A5B25ACE   \n",
       "\n",
       "   engaging_user_follower_count  engaging_user_following_count  \\\n",
       "0                             2                             29   \n",
       "1                            87                            100   \n",
       "2                           583                           1071   \n",
       "3                           272                           1874   \n",
       "4                          1272                           1243   \n",
       "\n",
       "   engaging_user_is_verified engaging_user_account_creation  \\\n",
       "0                      False                     1568107028   \n",
       "1                      False                     1500643248   \n",
       "2                      False                     1465415499   \n",
       "3                      False                     1425137677   \n",
       "4                      False                     1305546726   \n",
       "\n",
       "   engagee_follows_engager  reply_timestamp  retweet_timestamp  \\\n",
       "0                    False              NaN                NaN   \n",
       "1                    False              NaN                NaN   \n",
       "2                     True              NaN                NaN   \n",
       "3                    False              NaN                NaN   \n",
       "4                    False              NaN                NaN   \n",
       "\n",
       "   retweet_with_comment_timestamp  like_timestamp  \n",
       "0                             NaN             NaN  \n",
       "1                             NaN    1.581158e+09  \n",
       "2                             NaN    1.581345e+09  \n",
       "3                             NaN    1.581344e+09  \n",
       "4                             NaN    1.581109e+09  \n",
       "\n",
       "[5 rows x 24 columns]"
      ]
     },
     "execution_count": 4,
     "metadata": {},
     "output_type": "execute_result"
    }
   ],
   "source": [
    "#Let's explore the columns first\n",
    "training.head(5)"
   ]
  },
  {
   "cell_type": "code",
   "execution_count": 5,
   "metadata": {},
   "outputs": [],
   "source": [
    "#For the tokens, let's split them into a list\n",
    "training['text_ tokens'] = training['text_ tokens'].str.split('\\t')"
   ]
  },
  {
   "cell_type": "markdown",
   "metadata": {},
   "source": [
    "Let's explore all the columns a bit more one by one"
   ]
  },
  {
   "cell_type": "code",
   "execution_count": 6,
   "metadata": {},
   "outputs": [
    {
     "data": {
      "text/plain": [
       "NaN                           282152\n",
       "Photo                          84066\n",
       "Video                          49280\n",
       "Photo\\tPhoto                   18475\n",
       "Photo\\tPhoto\\tPhoto\\tPhoto     10528\n",
       "Photo\\tPhoto\\tPhoto             5834\n",
       "GIF                             4947\n",
       "Video\\tVideo                       3\n",
       "Photo\\tVideo                       1\n",
       "Video\\tVideo\\tVideo\\tVideo         1\n",
       "Name: present_media, dtype: int64"
      ]
     },
     "execution_count": 6,
     "metadata": {},
     "output_type": "execute_result"
    }
   ],
   "source": [
    "training['present_media'].value_counts(dropna=False)"
   ]
  },
  {
   "cell_type": "code",
   "execution_count": 7,
   "metadata": {},
   "outputs": [],
   "source": [
    "#First, we will split them into a list\n",
    "training['present_media'] = training['present_media'].str.split('\\t')"
   ]
  },
  {
   "cell_type": "code",
   "execution_count": 8,
   "metadata": {},
   "outputs": [],
   "source": [
    "#Now, let's do a one hot encoding\n",
    "def hot_encod_photo(x):\n",
    "    try:\n",
    "        return x.count('Photo')\n",
    "    except AttributeError:\n",
    "        return 0\n",
    "def hot_encod_video(x):\n",
    "    try:\n",
    "        return x.count('Video')\n",
    "    except AttributeError:\n",
    "        return 0\n",
    "def hot_encod_gif(x):\n",
    "    try:\n",
    "        return x.count('GIF')\n",
    "    except AttributeError:\n",
    "        return 0\n",
    "\n",
    "training['photo'] = training['present_media'].apply(hot_encod_photo)\n",
    "training['video'] = training['present_media'].apply(hot_encod_video)\n",
    "training['gif'] = training['present_media'].apply(hot_encod_gif)\n",
    "\n",
    "training.drop(['present_media'], axis=1, inplace=True)"
   ]
  },
  {
   "cell_type": "code",
   "execution_count": 9,
   "metadata": {
    "scrolled": true
   },
   "outputs": [
    {
     "data": {
      "text/plain": [
       "NaN                                                                   391258\n",
       "E522B6C629B01DA6B29DE65BF5DFA55B                                         126\n",
       "DEA673FD63DDDC8A3606106D5CA235B0                                          50\n",
       "6DDBD9DAAA2AE38B8EBB54BA8E7098DD                                          44\n",
       "79F5D3D2AECF3DE531946BABEF8BD0E7                                          44\n",
       "                                                                       ...  \n",
       "7430D743586319863444D7199F67BD9E\\t57FE483B76B86182C541B3FB3E2122D0         1\n",
       "6C9D45B11F968B691A464FD1AA0B3C45                                           1\n",
       "D6A842EFFA71873FF7F4CE60FE819AF3                                           1\n",
       "6509AA6B8C2B2C56F9891E6E475B94B4                                           1\n",
       "ADF443204A52E25BC117E7C3AB2DC8E1                                           1\n",
       "Name: present_links, Length: 55426, dtype: int64"
      ]
     },
     "execution_count": 9,
     "metadata": {},
     "output_type": "execute_result"
    }
   ],
   "source": [
    "training['present_links'].value_counts(dropna=False)"
   ]
  },
  {
   "cell_type": "markdown",
   "metadata": {},
   "source": [
    "What should we do in this case? We don't want to drop de Nans, we could so:\n",
    "* Put a false link that will represent an absence of a link\n",
    "* generate random codes for false links?\n",
    "\n",
    "By now, we will keep it without changes, we still have to think how to proceed\n",
    "\n",
    "To start we will create a column to indicate wether there is a link or not"
   ]
  },
  {
   "cell_type": "code",
   "execution_count": 10,
   "metadata": {},
   "outputs": [],
   "source": [
    "training['link_exists'] = pd.isnull(training['present_links'])"
   ]
  },
  {
   "cell_type": "code",
   "execution_count": 11,
   "metadata": {},
   "outputs": [
    {
     "data": {
      "text/plain": [
       "NaN                                                                                                                                       363830\n",
       "5671B8B6E92C2A316C05A7CD2F17366C                                                                                                             974\n",
       "18F6AC96A6EA62716A47DE9FE6241534                                                                                                             518\n",
       "31C316EB7BB8CD1778CB83B8AA2603D9                                                                                                             275\n",
       "B6024D6F02AFAF9BC8ED941F72C228F1                                                                                                             262\n",
       "                                                                                                                                           ...  \n",
       "B6902AC45C84E757993EAB8127E56B8C\\t9D506FA3F2D475EEE39B1D1765FE4F03\\tBDA55F21CB656DB5D4DD746466F8E065\\t90574E2412512E78D549880D341210A8         1\n",
       "0F7A6FD1E11DC125B16FE966E4F7A6F3\\t7939CD6305275FAFD3020EFFD137A919\\t3FDB78DC53E175538BD893B4532488A6\\t6F958EB1C8197CD6CD7547FA6FCB4F72         1\n",
       "2E795C9B0CA2DB72B20F8382415879F1                                                                                                               1\n",
       "A946F8FD50AB83F0DBEACE9D5455E1F9                                                                                                               1\n",
       "AF05F6264B0E517C308735F75FD55D57\\t8134447A063917AF9821DA976A9F705E                                                                             1\n",
       "Name: hashtags, Length: 55830, dtype: int64"
      ]
     },
     "execution_count": 11,
     "metadata": {},
     "output_type": "execute_result"
    }
   ],
   "source": [
    "training['hashtags'].value_counts(dropna=False)"
   ]
  },
  {
   "cell_type": "markdown",
   "metadata": {},
   "source": [
    "With that we will have to follow a similar strategy than with the present_links"
   ]
  },
  {
   "cell_type": "code",
   "execution_count": 12,
   "metadata": {},
   "outputs": [],
   "source": [
    "training['hashtag_exists'] = pd.isnull(training['hashtags'])"
   ]
  },
  {
   "cell_type": "code",
   "execution_count": 13,
   "metadata": {},
   "outputs": [
    {
     "data": {
      "text/plain": [
       "TopLevel    261283\n",
       "Retweet     154015\n",
       "Quote        39989\n",
       "Name: tweet_type, dtype: int64"
      ]
     },
     "execution_count": 13,
     "metadata": {},
     "output_type": "execute_result"
    }
   ],
   "source": [
    "training['tweet_type'].value_counts(dropna=False)"
   ]
  },
  {
   "cell_type": "markdown",
   "metadata": {},
   "source": [
    "We'll follow the same procedure as in the media case"
   ]
  },
  {
   "cell_type": "code",
   "execution_count": 14,
   "metadata": {},
   "outputs": [],
   "source": [
    "training['categorical_type'] = pd.Categorical(training['tweet_type'])\n",
    "dfDummies = pd.get_dummies(training['categorical_type'], prefix = 'engagement_type')\n",
    "training=pd.concat([training, dfDummies], axis=1)\n",
    "training.drop(['categorical_type','tweet_type'], axis=1,inplace=True)"
   ]
  },
  {
   "cell_type": "markdown",
   "metadata": {},
   "source": [
    "We will deal with the timestamps now!"
   ]
  },
  {
   "cell_type": "code",
   "execution_count": 15,
   "metadata": {},
   "outputs": [
    {
     "data": {
      "text/html": [
       "<div>\n",
       "<style scoped>\n",
       "    .dataframe tbody tr th:only-of-type {\n",
       "        vertical-align: middle;\n",
       "    }\n",
       "\n",
       "    .dataframe tbody tr th {\n",
       "        vertical-align: top;\n",
       "    }\n",
       "\n",
       "    .dataframe thead th {\n",
       "        text-align: right;\n",
       "    }\n",
       "</style>\n",
       "<table border=\"1\" class=\"dataframe\">\n",
       "  <thead>\n",
       "    <tr style=\"text-align: right;\">\n",
       "      <th></th>\n",
       "      <th>text_ tokens</th>\n",
       "      <th>hashtags</th>\n",
       "      <th>tweet_id</th>\n",
       "      <th>present_links</th>\n",
       "      <th>present_domains</th>\n",
       "      <th>language</th>\n",
       "      <th>tweet_timestamp</th>\n",
       "      <th>engaged_with_user_id</th>\n",
       "      <th>engaged_with_user_follower_count</th>\n",
       "      <th>engaged_with_user_following_count</th>\n",
       "      <th>...</th>\n",
       "      <th>retweet_with_comment_timestamp</th>\n",
       "      <th>like_timestamp</th>\n",
       "      <th>photo</th>\n",
       "      <th>video</th>\n",
       "      <th>gif</th>\n",
       "      <th>link_exists</th>\n",
       "      <th>hashtag_exists</th>\n",
       "      <th>engagement_type_Quote</th>\n",
       "      <th>engagement_type_Retweet</th>\n",
       "      <th>engagement_type_TopLevel</th>\n",
       "    </tr>\n",
       "  </thead>\n",
       "  <tbody>\n",
       "    <tr>\n",
       "      <th>0</th>\n",
       "      <td>[101, 16493, 12478, 117, 10105, 42370, 76299, ...</td>\n",
       "      <td>NaN</td>\n",
       "      <td>39024FBE0136E046D1357196BAECFCA6</td>\n",
       "      <td>NaN</td>\n",
       "      <td>NaN</td>\n",
       "      <td>D3164C7FBCF2565DDF915B1B3AEFB1DC</td>\n",
       "      <td>1581532200</td>\n",
       "      <td>3BF0702AA3337E076DA5DF54E55117D1</td>\n",
       "      <td>1344732</td>\n",
       "      <td>125</td>\n",
       "      <td>...</td>\n",
       "      <td>NaN</td>\n",
       "      <td>NaN</td>\n",
       "      <td>0</td>\n",
       "      <td>0</td>\n",
       "      <td>1</td>\n",
       "      <td>True</td>\n",
       "      <td>True</td>\n",
       "      <td>0</td>\n",
       "      <td>0</td>\n",
       "      <td>1</td>\n",
       "    </tr>\n",
       "    <tr>\n",
       "      <th>1</th>\n",
       "      <td>[101, 11420, 10173, 45283, 10133, 40960, 10835...</td>\n",
       "      <td>NaN</td>\n",
       "      <td>6F4B64CF616A1B65C94B9581AB3617E5</td>\n",
       "      <td>NaN</td>\n",
       "      <td>NaN</td>\n",
       "      <td>ECED8A16BE2A5E8871FD55F4842F16B1</td>\n",
       "      <td>1581134453</td>\n",
       "      <td>4C86333F8DC95B0D3C716C46A7862CCC</td>\n",
       "      <td>571561</td>\n",
       "      <td>283</td>\n",
       "      <td>...</td>\n",
       "      <td>NaN</td>\n",
       "      <td>1.581158e+09</td>\n",
       "      <td>0</td>\n",
       "      <td>0</td>\n",
       "      <td>0</td>\n",
       "      <td>True</td>\n",
       "      <td>True</td>\n",
       "      <td>0</td>\n",
       "      <td>0</td>\n",
       "      <td>1</td>\n",
       "    </tr>\n",
       "    <tr>\n",
       "      <th>2</th>\n",
       "      <td>[101, 10105, 76456, 22201, 119, 119, 119, 119,...</td>\n",
       "      <td>NaN</td>\n",
       "      <td>6DD591ABD65945B412C062DE26C55CAC</td>\n",
       "      <td>NaN</td>\n",
       "      <td>NaN</td>\n",
       "      <td>D3164C7FBCF2565DDF915B1B3AEFB1DC</td>\n",
       "      <td>1581340818</td>\n",
       "      <td>304AD9FCC24B58A12FC7843F8DFE804E</td>\n",
       "      <td>9533</td>\n",
       "      <td>421</td>\n",
       "      <td>...</td>\n",
       "      <td>NaN</td>\n",
       "      <td>1.581345e+09</td>\n",
       "      <td>0</td>\n",
       "      <td>0</td>\n",
       "      <td>0</td>\n",
       "      <td>True</td>\n",
       "      <td>True</td>\n",
       "      <td>1</td>\n",
       "      <td>0</td>\n",
       "      <td>0</td>\n",
       "    </tr>\n",
       "    <tr>\n",
       "      <th>3</th>\n",
       "      <td>[101, 49307, 11090, 49339, 11369, 14703, 11001...</td>\n",
       "      <td>B929FC51754F08E9CF07498FF4DFC1DC</td>\n",
       "      <td>25BFBE285D27B2144C6B169C11083FAB</td>\n",
       "      <td>NaN</td>\n",
       "      <td>NaN</td>\n",
       "      <td>D3164C7FBCF2565DDF915B1B3AEFB1DC</td>\n",
       "      <td>1581332785</td>\n",
       "      <td>AF003AF390475BFCB3D3618FE55F950E</td>\n",
       "      <td>60347</td>\n",
       "      <td>110</td>\n",
       "      <td>...</td>\n",
       "      <td>NaN</td>\n",
       "      <td>1.581344e+09</td>\n",
       "      <td>1</td>\n",
       "      <td>0</td>\n",
       "      <td>0</td>\n",
       "      <td>True</td>\n",
       "      <td>False</td>\n",
       "      <td>0</td>\n",
       "      <td>0</td>\n",
       "      <td>1</td>\n",
       "    </tr>\n",
       "    <tr>\n",
       "      <th>4</th>\n",
       "      <td>[101, 52212, 18010, 10120, 15122, 10325, 40323...</td>\n",
       "      <td>NaN</td>\n",
       "      <td>27A0AC9D2924771C97F7082EE951C1B1</td>\n",
       "      <td>NaN</td>\n",
       "      <td>NaN</td>\n",
       "      <td>717293301FE296B0B61950D041485825</td>\n",
       "      <td>1581108476</td>\n",
       "      <td>1699A4DEBFEAB17CC8F748C13F889C35</td>\n",
       "      <td>376180</td>\n",
       "      <td>21</td>\n",
       "      <td>...</td>\n",
       "      <td>NaN</td>\n",
       "      <td>1.581109e+09</td>\n",
       "      <td>1</td>\n",
       "      <td>0</td>\n",
       "      <td>0</td>\n",
       "      <td>True</td>\n",
       "      <td>True</td>\n",
       "      <td>0</td>\n",
       "      <td>0</td>\n",
       "      <td>1</td>\n",
       "    </tr>\n",
       "  </tbody>\n",
       "</table>\n",
       "<p>5 rows × 30 columns</p>\n",
       "</div>"
      ],
      "text/plain": [
       "                                        text_ tokens  \\\n",
       "0  [101, 16493, 12478, 117, 10105, 42370, 76299, ...   \n",
       "1  [101, 11420, 10173, 45283, 10133, 40960, 10835...   \n",
       "2  [101, 10105, 76456, 22201, 119, 119, 119, 119,...   \n",
       "3  [101, 49307, 11090, 49339, 11369, 14703, 11001...   \n",
       "4  [101, 52212, 18010, 10120, 15122, 10325, 40323...   \n",
       "\n",
       "                           hashtags                          tweet_id  \\\n",
       "0                               NaN  39024FBE0136E046D1357196BAECFCA6   \n",
       "1                               NaN  6F4B64CF616A1B65C94B9581AB3617E5   \n",
       "2                               NaN  6DD591ABD65945B412C062DE26C55CAC   \n",
       "3  B929FC51754F08E9CF07498FF4DFC1DC  25BFBE285D27B2144C6B169C11083FAB   \n",
       "4                               NaN  27A0AC9D2924771C97F7082EE951C1B1   \n",
       "\n",
       "  present_links present_domains                          language  \\\n",
       "0           NaN             NaN  D3164C7FBCF2565DDF915B1B3AEFB1DC   \n",
       "1           NaN             NaN  ECED8A16BE2A5E8871FD55F4842F16B1   \n",
       "2           NaN             NaN  D3164C7FBCF2565DDF915B1B3AEFB1DC   \n",
       "3           NaN             NaN  D3164C7FBCF2565DDF915B1B3AEFB1DC   \n",
       "4           NaN             NaN  717293301FE296B0B61950D041485825   \n",
       "\n",
       "   tweet_timestamp              engaged_with_user_id  \\\n",
       "0       1581532200  3BF0702AA3337E076DA5DF54E55117D1   \n",
       "1       1581134453  4C86333F8DC95B0D3C716C46A7862CCC   \n",
       "2       1581340818  304AD9FCC24B58A12FC7843F8DFE804E   \n",
       "3       1581332785  AF003AF390475BFCB3D3618FE55F950E   \n",
       "4       1581108476  1699A4DEBFEAB17CC8F748C13F889C35   \n",
       "\n",
       "   engaged_with_user_follower_count  engaged_with_user_following_count  ...  \\\n",
       "0                           1344732                                125  ...   \n",
       "1                            571561                                283  ...   \n",
       "2                              9533                                421  ...   \n",
       "3                             60347                                110  ...   \n",
       "4                            376180                                 21  ...   \n",
       "\n",
       "   retweet_with_comment_timestamp  like_timestamp photo  video  gif  \\\n",
       "0                             NaN             NaN     0      0    1   \n",
       "1                             NaN    1.581158e+09     0      0    0   \n",
       "2                             NaN    1.581345e+09     0      0    0   \n",
       "3                             NaN    1.581344e+09     1      0    0   \n",
       "4                             NaN    1.581109e+09     1      0    0   \n",
       "\n",
       "   link_exists  hashtag_exists  engagement_type_Quote  \\\n",
       "0         True            True                      0   \n",
       "1         True            True                      0   \n",
       "2         True            True                      1   \n",
       "3         True           False                      0   \n",
       "4         True            True                      0   \n",
       "\n",
       "   engagement_type_Retweet  engagement_type_TopLevel  \n",
       "0                        0                         1  \n",
       "1                        0                         1  \n",
       "2                        0                         0  \n",
       "3                        0                         1  \n",
       "4                        0                         1  \n",
       "\n",
       "[5 rows x 30 columns]"
      ]
     },
     "execution_count": 15,
     "metadata": {},
     "output_type": "execute_result"
    }
   ],
   "source": [
    "training.head(5)"
   ]
  },
  {
   "cell_type": "code",
   "execution_count": 16,
   "metadata": {},
   "outputs": [],
   "source": [
    "# If we look at the timestamps we have 3 columns (sometimes values in more tha one or other times NaNs), \n",
    "# for now let's only keep the first one of them, and create a new column to see wich are the false positives\n",
    "training['engagement_timestamp'] = training[['reply_timestamp','retweet_with_comment_timestamp','like_timestamp']].min(axis=1)\n",
    "training.drop(['reply_timestamp','retweet_with_comment_timestamp','like_timestamp'], axis=1, inplace=True)\n",
    "\n",
    "# And let's create a new column with a 0 when there iss no engagement, and a 1 when it exists\n",
    "training['engagement_exists']=training['engagement_timestamp'].apply(lambda x: 0 if (np.isnan(x)) else 1)"
   ]
  },
  {
   "cell_type": "code",
   "execution_count": 17,
   "metadata": {},
   "outputs": [
    {
     "data": {
      "text/plain": [
       "count    208842.000000\n",
       "mean      15947.739195\n",
       "std       30370.655022\n",
       "min           5.000000\n",
       "25%         800.000000\n",
       "50%        4445.000000\n",
       "75%       18317.000000\n",
       "max      573308.000000\n",
       "Name: reaction_time, dtype: float64"
      ]
     },
     "execution_count": 17,
     "metadata": {},
     "output_type": "execute_result"
    }
   ],
   "source": [
    "# We will also will create a new column with the time between the original tweet and the engagement\n",
    "training['reaction_time'] = training['engagement_timestamp'] - training['tweet_timestamp']\n",
    "training['reaction_time'].describe()"
   ]
  },
  {
   "cell_type": "code",
   "execution_count": 18,
   "metadata": {},
   "outputs": [],
   "source": [
    "#training.head(3)"
   ]
  },
  {
   "cell_type": "code",
   "execution_count": 19,
   "metadata": {},
   "outputs": [
    {
     "data": {
      "text/plain": [
       "False    454290\n",
       "True        997\n",
       "Name: engaging_user_is_verified, dtype: int64"
      ]
     },
     "execution_count": 19,
     "metadata": {},
     "output_type": "execute_result"
    }
   ],
   "source": [
    "training['engaging_user_is_verified'].value_counts(dropna=False)"
   ]
  },
  {
   "cell_type": "code",
   "execution_count": 20,
   "metadata": {},
   "outputs": [
    {
     "data": {
      "text/plain": [
       "False    335461\n",
       "True     119826\n",
       "Name: engaged_with_user_is_verified, dtype: int64"
      ]
     },
     "execution_count": 20,
     "metadata": {},
     "output_type": "execute_result"
    }
   ],
   "source": [
    "training['engaged_with_user_is_verified'].value_counts(dropna=False)"
   ]
  }
 ],
 "metadata": {
  "kernelspec": {
   "display_name": "Python 3",
   "language": "python",
   "name": "python3"
  },
  "language_info": {
   "codemirror_mode": {
    "name": "ipython",
    "version": 3
   },
   "file_extension": ".py",
   "mimetype": "text/x-python",
   "name": "python",
   "nbconvert_exporter": "python",
   "pygments_lexer": "ipython3",
   "version": "3.6.4"
  }
 },
 "nbformat": 4,
 "nbformat_minor": 2
}
