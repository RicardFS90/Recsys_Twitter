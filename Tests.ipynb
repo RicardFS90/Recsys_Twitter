{
 "cells": [
  {
   "cell_type": "markdown",
   "metadata": {},
   "source": [
    "Obrir tocho"
   ]
  },
  {
   "cell_type": "code",
   "execution_count": 1,
   "metadata": {},
   "outputs": [],
   "source": [
    "#Let's import everything!\n",
    "import pandas as pd\n",
    "import numpy as np\n",
    "import matplotlib.pyplot as plt\n"
   ]
  },
  {
   "cell_type": "code",
   "execution_count": 16,
   "metadata": {},
   "outputs": [],
   "source": [
    "training = pd.read_csv('tocho.csv', index_col = 0)"
   ]
  },
  {
   "cell_type": "code",
   "execution_count": 4,
   "metadata": {},
   "outputs": [],
   "source": [
    "#update dataset\n",
    "with open('deleted_user_IDs.txt') as f:\n",
    "    deleted_user_ID = f.read().splitlines()\n",
    "with open('deleted_tweet_IDs.txt') as f:\n",
    "    deleted_tweet_ID = f.read().splitlines()"
   ]
  },
  {
   "cell_type": "code",
   "execution_count": 20,
   "metadata": {
    "scrolled": true
   },
   "outputs": [
    {
     "data": {
      "text/html": [
       "<div>\n",
       "<style scoped>\n",
       "    .dataframe tbody tr th:only-of-type {\n",
       "        vertical-align: middle;\n",
       "    }\n",
       "\n",
       "    .dataframe tbody tr th {\n",
       "        vertical-align: top;\n",
       "    }\n",
       "\n",
       "    .dataframe thead th {\n",
       "        text-align: right;\n",
       "    }\n",
       "</style>\n",
       "<table border=\"1\" class=\"dataframe\">\n",
       "  <thead>\n",
       "    <tr style=\"text-align: right;\">\n",
       "      <th></th>\n",
       "      <th>text_ tokens</th>\n",
       "      <th>hashtags</th>\n",
       "      <th>tweet_id</th>\n",
       "      <th>present_media</th>\n",
       "      <th>present_links</th>\n",
       "      <th>present_domains</th>\n",
       "      <th>tweet_type</th>\n",
       "      <th>language</th>\n",
       "      <th>tweet_timestamp</th>\n",
       "      <th>engaged_with_user_id</th>\n",
       "      <th>...</th>\n",
       "      <th>engaging_user_id</th>\n",
       "      <th>engaging_user_follower_count</th>\n",
       "      <th>engaging_user_following_count</th>\n",
       "      <th>engaging_user_is_verified</th>\n",
       "      <th>engaging_user_account_creation</th>\n",
       "      <th>engagee_follows_engager</th>\n",
       "      <th>reply_timestamp</th>\n",
       "      <th>retweet_timestamp</th>\n",
       "      <th>retweet_with_comment_timestamp</th>\n",
       "      <th>like_timestamp</th>\n",
       "    </tr>\n",
       "  </thead>\n",
       "  <tbody>\n",
       "    <tr>\n",
       "      <th>0</th>\n",
       "      <td>[101, 16493, 12478, 117, 10105, 42370, 76299, ...</td>\n",
       "      <td>NaN</td>\n",
       "      <td>39024FBE0136E046D1357196BAECFCA6</td>\n",
       "      <td>GIF</td>\n",
       "      <td>NaN</td>\n",
       "      <td>NaN</td>\n",
       "      <td>TopLevel</td>\n",
       "      <td>D3164C7FBCF2565DDF915B1B3AEFB1DC</td>\n",
       "      <td>1581532200</td>\n",
       "      <td>3BF0702AA3337E076DA5DF54E55117D1</td>\n",
       "      <td>...</td>\n",
       "      <td>000006829BEADA9EEA695CF0C334B426</td>\n",
       "      <td>2</td>\n",
       "      <td>29</td>\n",
       "      <td>False</td>\n",
       "      <td>1568107028</td>\n",
       "      <td>False</td>\n",
       "      <td>NaN</td>\n",
       "      <td>NaN</td>\n",
       "      <td>NaN</td>\n",
       "      <td>NaN</td>\n",
       "    </tr>\n",
       "    <tr>\n",
       "      <th>1</th>\n",
       "      <td>[101, 11420, 10173, 45283, 10133, 40960, 10835...</td>\n",
       "      <td>NaN</td>\n",
       "      <td>6F4B64CF616A1B65C94B9581AB3617E5</td>\n",
       "      <td>NaN</td>\n",
       "      <td>NaN</td>\n",
       "      <td>NaN</td>\n",
       "      <td>TopLevel</td>\n",
       "      <td>ECED8A16BE2A5E8871FD55F4842F16B1</td>\n",
       "      <td>1581134453</td>\n",
       "      <td>4C86333F8DC95B0D3C716C46A7862CCC</td>\n",
       "      <td>...</td>\n",
       "      <td>00046D54CBEE1354F395930AB602C6EF</td>\n",
       "      <td>87</td>\n",
       "      <td>100</td>\n",
       "      <td>False</td>\n",
       "      <td>1500643248</td>\n",
       "      <td>False</td>\n",
       "      <td>NaN</td>\n",
       "      <td>NaN</td>\n",
       "      <td>NaN</td>\n",
       "      <td>1.581158e+09</td>\n",
       "    </tr>\n",
       "    <tr>\n",
       "      <th>2</th>\n",
       "      <td>[101, 10105, 76456, 22201, 119, 119, 119, 119,...</td>\n",
       "      <td>NaN</td>\n",
       "      <td>6DD591ABD65945B412C062DE26C55CAC</td>\n",
       "      <td>NaN</td>\n",
       "      <td>NaN</td>\n",
       "      <td>NaN</td>\n",
       "      <td>Quote</td>\n",
       "      <td>D3164C7FBCF2565DDF915B1B3AEFB1DC</td>\n",
       "      <td>1581340818</td>\n",
       "      <td>304AD9FCC24B58A12FC7843F8DFE804E</td>\n",
       "      <td>...</td>\n",
       "      <td>000AF284D93A0EBDD1BE0D4701F581FC</td>\n",
       "      <td>583</td>\n",
       "      <td>1071</td>\n",
       "      <td>False</td>\n",
       "      <td>1465415499</td>\n",
       "      <td>True</td>\n",
       "      <td>NaN</td>\n",
       "      <td>NaN</td>\n",
       "      <td>NaN</td>\n",
       "      <td>1.581345e+09</td>\n",
       "    </tr>\n",
       "    <tr>\n",
       "      <th>3</th>\n",
       "      <td>[101, 49307, 11090, 49339, 11369, 14703, 11001...</td>\n",
       "      <td>B929FC51754F08E9CF07498FF4DFC1DC</td>\n",
       "      <td>25BFBE285D27B2144C6B169C11083FAB</td>\n",
       "      <td>Photo</td>\n",
       "      <td>NaN</td>\n",
       "      <td>NaN</td>\n",
       "      <td>TopLevel</td>\n",
       "      <td>D3164C7FBCF2565DDF915B1B3AEFB1DC</td>\n",
       "      <td>1581332785</td>\n",
       "      <td>AF003AF390475BFCB3D3618FE55F950E</td>\n",
       "      <td>...</td>\n",
       "      <td>001C14131FC5556F3CB6555FF04F0AB1</td>\n",
       "      <td>272</td>\n",
       "      <td>1874</td>\n",
       "      <td>False</td>\n",
       "      <td>1425137677</td>\n",
       "      <td>False</td>\n",
       "      <td>NaN</td>\n",
       "      <td>NaN</td>\n",
       "      <td>NaN</td>\n",
       "      <td>1.581344e+09</td>\n",
       "    </tr>\n",
       "    <tr>\n",
       "      <th>4</th>\n",
       "      <td>[101, 52212, 18010, 10120, 15122, 10325, 40323...</td>\n",
       "      <td>NaN</td>\n",
       "      <td>27A0AC9D2924771C97F7082EE951C1B1</td>\n",
       "      <td>Photo</td>\n",
       "      <td>NaN</td>\n",
       "      <td>NaN</td>\n",
       "      <td>TopLevel</td>\n",
       "      <td>717293301FE296B0B61950D041485825</td>\n",
       "      <td>1581108476</td>\n",
       "      <td>1699A4DEBFEAB17CC8F748C13F889C35</td>\n",
       "      <td>...</td>\n",
       "      <td>001DD4110BC58DBDC235D0B7A5B25ACE</td>\n",
       "      <td>1272</td>\n",
       "      <td>1243</td>\n",
       "      <td>False</td>\n",
       "      <td>1305546726</td>\n",
       "      <td>False</td>\n",
       "      <td>NaN</td>\n",
       "      <td>NaN</td>\n",
       "      <td>NaN</td>\n",
       "      <td>1.581109e+09</td>\n",
       "    </tr>\n",
       "  </tbody>\n",
       "</table>\n",
       "<p>5 rows × 24 columns</p>\n",
       "</div>"
      ],
      "text/plain": [
       "                                        text_ tokens  \\\n",
       "0  [101, 16493, 12478, 117, 10105, 42370, 76299, ...   \n",
       "1  [101, 11420, 10173, 45283, 10133, 40960, 10835...   \n",
       "2  [101, 10105, 76456, 22201, 119, 119, 119, 119,...   \n",
       "3  [101, 49307, 11090, 49339, 11369, 14703, 11001...   \n",
       "4  [101, 52212, 18010, 10120, 15122, 10325, 40323...   \n",
       "\n",
       "                           hashtags                          tweet_id  \\\n",
       "0                               NaN  39024FBE0136E046D1357196BAECFCA6   \n",
       "1                               NaN  6F4B64CF616A1B65C94B9581AB3617E5   \n",
       "2                               NaN  6DD591ABD65945B412C062DE26C55CAC   \n",
       "3  B929FC51754F08E9CF07498FF4DFC1DC  25BFBE285D27B2144C6B169C11083FAB   \n",
       "4                               NaN  27A0AC9D2924771C97F7082EE951C1B1   \n",
       "\n",
       "  present_media present_links present_domains tweet_type  \\\n",
       "0           GIF           NaN             NaN   TopLevel   \n",
       "1           NaN           NaN             NaN   TopLevel   \n",
       "2           NaN           NaN             NaN      Quote   \n",
       "3         Photo           NaN             NaN   TopLevel   \n",
       "4         Photo           NaN             NaN   TopLevel   \n",
       "\n",
       "                           language  tweet_timestamp  \\\n",
       "0  D3164C7FBCF2565DDF915B1B3AEFB1DC       1581532200   \n",
       "1  ECED8A16BE2A5E8871FD55F4842F16B1       1581134453   \n",
       "2  D3164C7FBCF2565DDF915B1B3AEFB1DC       1581340818   \n",
       "3  D3164C7FBCF2565DDF915B1B3AEFB1DC       1581332785   \n",
       "4  717293301FE296B0B61950D041485825       1581108476   \n",
       "\n",
       "               engaged_with_user_id  ...                  engaging_user_id  \\\n",
       "0  3BF0702AA3337E076DA5DF54E55117D1  ...  000006829BEADA9EEA695CF0C334B426   \n",
       "1  4C86333F8DC95B0D3C716C46A7862CCC  ...  00046D54CBEE1354F395930AB602C6EF   \n",
       "2  304AD9FCC24B58A12FC7843F8DFE804E  ...  000AF284D93A0EBDD1BE0D4701F581FC   \n",
       "3  AF003AF390475BFCB3D3618FE55F950E  ...  001C14131FC5556F3CB6555FF04F0AB1   \n",
       "4  1699A4DEBFEAB17CC8F748C13F889C35  ...  001DD4110BC58DBDC235D0B7A5B25ACE   \n",
       "\n",
       "   engaging_user_follower_count  engaging_user_following_count  \\\n",
       "0                             2                             29   \n",
       "1                            87                            100   \n",
       "2                           583                           1071   \n",
       "3                           272                           1874   \n",
       "4                          1272                           1243   \n",
       "\n",
       "   engaging_user_is_verified engaging_user_account_creation  \\\n",
       "0                      False                     1568107028   \n",
       "1                      False                     1500643248   \n",
       "2                      False                     1465415499   \n",
       "3                      False                     1425137677   \n",
       "4                      False                     1305546726   \n",
       "\n",
       "   engagee_follows_engager  reply_timestamp  retweet_timestamp  \\\n",
       "0                    False              NaN                NaN   \n",
       "1                    False              NaN                NaN   \n",
       "2                     True              NaN                NaN   \n",
       "3                    False              NaN                NaN   \n",
       "4                    False              NaN                NaN   \n",
       "\n",
       "   retweet_with_comment_timestamp  like_timestamp  \n",
       "0                             NaN             NaN  \n",
       "1                             NaN    1.581158e+09  \n",
       "2                             NaN    1.581345e+09  \n",
       "3                             NaN    1.581344e+09  \n",
       "4                             NaN    1.581109e+09  \n",
       "\n",
       "[5 rows x 24 columns]"
      ]
     },
     "execution_count": 20,
     "metadata": {},
     "output_type": "execute_result"
    }
   ],
   "source": [
    "training.head(5)"
   ]
  },
  {
   "cell_type": "code",
   "execution_count": 22,
   "metadata": {},
   "outputs": [
    {
     "ename": "AttributeError",
     "evalue": "'Series' object has no attribute 'len'",
     "output_type": "error",
     "traceback": [
      "\u001b[1;31m---------------------------------------------------------------------------\u001b[0m",
      "\u001b[1;31mAttributeError\u001b[0m                            Traceback (most recent call last)",
      "\u001b[1;32m<ipython-input-22-bbb7e49ce8be>\u001b[0m in \u001b[0;36m<module>\u001b[1;34m()\u001b[0m\n\u001b[0;32m      1\u001b[0m \u001b[0mtraining\u001b[0m\u001b[1;33m[\u001b[0m\u001b[1;34m'text_ tokens'\u001b[0m\u001b[1;33m]\u001b[0m \u001b[1;33m=\u001b[0m \u001b[0mtraining\u001b[0m\u001b[1;33m[\u001b[0m\u001b[1;34m'text_ tokens'\u001b[0m\u001b[1;33m]\u001b[0m\u001b[1;33m.\u001b[0m\u001b[0mstr\u001b[0m\u001b[1;33m.\u001b[0m\u001b[0msplit\u001b[0m\u001b[1;33m(\u001b[0m\u001b[1;34m'\\t'\u001b[0m\u001b[1;33m)\u001b[0m\u001b[1;33m\u001b[0m\u001b[0m\n\u001b[1;32m----> 2\u001b[1;33m \u001b[0mtraining\u001b[0m\u001b[1;33m[\u001b[0m\u001b[1;34m'number_tokens'\u001b[0m\u001b[1;33m]\u001b[0m \u001b[1;33m=\u001b[0m \u001b[0mtraining\u001b[0m\u001b[1;33m[\u001b[0m\u001b[1;34m'text_ tokens'\u001b[0m\u001b[1;33m]\u001b[0m\u001b[1;33m.\u001b[0m\u001b[0mlen\u001b[0m\u001b[1;33m(\u001b[0m\u001b[1;33m)\u001b[0m\u001b[1;33m\u001b[0m\u001b[0m\n\u001b[0m",
      "\u001b[1;32m~\\Anaconda3\\lib\\site-packages\\pandas\\core\\generic.py\u001b[0m in \u001b[0;36m__getattr__\u001b[1;34m(self, name)\u001b[0m\n\u001b[0;32m   5177\u001b[0m             \u001b[1;32mif\u001b[0m \u001b[0mself\u001b[0m\u001b[1;33m.\u001b[0m\u001b[0m_info_axis\u001b[0m\u001b[1;33m.\u001b[0m\u001b[0m_can_hold_identifiers_and_holds_name\u001b[0m\u001b[1;33m(\u001b[0m\u001b[0mname\u001b[0m\u001b[1;33m)\u001b[0m\u001b[1;33m:\u001b[0m\u001b[1;33m\u001b[0m\u001b[0m\n\u001b[0;32m   5178\u001b[0m                 \u001b[1;32mreturn\u001b[0m \u001b[0mself\u001b[0m\u001b[1;33m[\u001b[0m\u001b[0mname\u001b[0m\u001b[1;33m]\u001b[0m\u001b[1;33m\u001b[0m\u001b[0m\n\u001b[1;32m-> 5179\u001b[1;33m             \u001b[1;32mreturn\u001b[0m \u001b[0mobject\u001b[0m\u001b[1;33m.\u001b[0m\u001b[0m__getattribute__\u001b[0m\u001b[1;33m(\u001b[0m\u001b[0mself\u001b[0m\u001b[1;33m,\u001b[0m \u001b[0mname\u001b[0m\u001b[1;33m)\u001b[0m\u001b[1;33m\u001b[0m\u001b[0m\n\u001b[0m\u001b[0;32m   5180\u001b[0m \u001b[1;33m\u001b[0m\u001b[0m\n\u001b[0;32m   5181\u001b[0m     \u001b[1;32mdef\u001b[0m \u001b[0m__setattr__\u001b[0m\u001b[1;33m(\u001b[0m\u001b[0mself\u001b[0m\u001b[1;33m,\u001b[0m \u001b[0mname\u001b[0m\u001b[1;33m,\u001b[0m \u001b[0mvalue\u001b[0m\u001b[1;33m)\u001b[0m\u001b[1;33m:\u001b[0m\u001b[1;33m\u001b[0m\u001b[0m\n",
      "\u001b[1;31mAttributeError\u001b[0m: 'Series' object has no attribute 'len'"
     ]
    }
   ],
   "source": [
    "training['text_ tokens'] = training['text_ tokens'].str.split('\\t')\n",
    "training['number_tokens'] = training['text_ tokens'].len()"
   ]
  },
  {
   "cell_type": "code",
   "execution_count": 15,
   "metadata": {},
   "outputs": [
    {
     "data": {
      "text/plain": [
       "NaN                           282152\n",
       "Photo                          84066\n",
       "Video                          49280\n",
       "Photo\\tPhoto                   18475\n",
       "Photo\\tPhoto\\tPhoto\\tPhoto     10528\n",
       "Photo\\tPhoto\\tPhoto             5834\n",
       "GIF                             4947\n",
       "Video\\tVideo                       3\n",
       "Photo\\tVideo                       1\n",
       "Video\\tVideo\\tVideo\\tVideo         1\n",
       "Name: present_media, dtype: int64"
      ]
     },
     "execution_count": 15,
     "metadata": {},
     "output_type": "execute_result"
    }
   ],
   "source": [
    "training['present_media'].value_counts(dropna=False)"
   ]
  },
  {
   "cell_type": "code",
   "execution_count": 16,
   "metadata": {
    "scrolled": true
   },
   "outputs": [
    {
     "data": {
      "text/plain": [
       "NaN                                 391258\n",
       "E522B6C629B01DA6B29DE65BF5DFA55B       126\n",
       "DEA673FD63DDDC8A3606106D5CA235B0        50\n",
       "6DDBD9DAAA2AE38B8EBB54BA8E7098DD        44\n",
       "79F5D3D2AECF3DE531946BABEF8BD0E7        44\n",
       "                                     ...  \n",
       "4866A11D8B331325C42513BF282ACFFF         1\n",
       "888D0D16A33548DCA0CE7D68FD2A7775         1\n",
       "B24EFA10EB5FF0A9582747997A404402         1\n",
       "F4374E93B0E53927F9703C24D80EAEC8         1\n",
       "1C2A12D49A5A0F80EF67BC1B4D361DA3         1\n",
       "Name: present_links, Length: 55426, dtype: int64"
      ]
     },
     "execution_count": 16,
     "metadata": {},
     "output_type": "execute_result"
    }
   ],
   "source": [
    "training['present_links'].value_counts(dropna=False)"
   ]
  },
  {
   "cell_type": "code",
   "execution_count": 18,
   "metadata": {},
   "outputs": [
    {
     "data": {
      "text/plain": [
       "TopLevel    261283\n",
       "Retweet     154015\n",
       "Quote        39989\n",
       "Name: tweet_type, dtype: int64"
      ]
     },
     "execution_count": 18,
     "metadata": {},
     "output_type": "execute_result"
    }
   ],
   "source": [
    "training['tweet_type'].value_counts(dropna=False)"
   ]
  },
  {
   "cell_type": "code",
   "execution_count": 19,
   "metadata": {},
   "outputs": [
    {
     "data": {
      "text/plain": [
       "False    454290\n",
       "True        997\n",
       "Name: engaging_user_is_verified, dtype: int64"
      ]
     },
     "execution_count": 19,
     "metadata": {},
     "output_type": "execute_result"
    }
   ],
   "source": [
    "training['engaging_user_is_verified'].value_counts(dropna=False)"
   ]
  },
  {
   "cell_type": "code",
   "execution_count": 21,
   "metadata": {},
   "outputs": [
    {
     "data": {
      "text/plain": [
       "False    335461\n",
       "True     119826\n",
       "Name: engaged_with_user_is_verified, dtype: int64"
      ]
     },
     "execution_count": 21,
     "metadata": {},
     "output_type": "execute_result"
    }
   ],
   "source": [
    "training['engaged_with_user_is_verified'].value_counts(dropna=False)"
   ]
  },
  {
   "cell_type": "code",
   "execution_count": 21,
   "metadata": {},
   "outputs": [
    {
     "data": {
      "text/plain": [
       "NaN                                                                                                                                       363830\n",
       "5671B8B6E92C2A316C05A7CD2F17366C                                                                                                             974\n",
       "18F6AC96A6EA62716A47DE9FE6241534                                                                                                             518\n",
       "31C316EB7BB8CD1778CB83B8AA2603D9                                                                                                             275\n",
       "B6024D6F02AFAF9BC8ED941F72C228F1                                                                                                             262\n",
       "                                                                                                                                           ...  \n",
       "CDBF319AA756B5BA5522C11A8BB91F73\\t4B1846E68EF9C1D7DD986643BB23BB88\\tAAD60CDB6824E92A269ECCEFDB5E77BA\\tA058835F5FAF6FF3875D98D8498C2779         1\n",
       "EB7593023C21CDF0BF88DB255FEF52FA\\t819E1769EA8E98810724CFC286B73E4C\\t1E5D98FD9E42D67E758007DEA026BC78                                           1\n",
       "6BBCD8DFA13A4BA35E0CBAED5EBA72F5\\t481A9A8BD1010DB42DBDF506B2C957FC                                                                             1\n",
       "D743D2A01FB05D84E8F394EC9FBED758\\tE8B6D6FF75A26E4DB75B8D709CDAFD0D                                                                             1\n",
       "8C8D24530EA7EBAFFA98D4306C60214A\\tFE057EA217FE1FD704977FC31A8C5FB9                                                                             1\n",
       "Name: hashtags, Length: 55830, dtype: int64"
      ]
     },
     "execution_count": 21,
     "metadata": {},
     "output_type": "execute_result"
    }
   ],
   "source": [
    "training['hashtags'].value_counts(dropna=False)"
   ]
  },
  {
   "cell_type": "code",
   "execution_count": null,
   "metadata": {},
   "outputs": [],
   "source": []
  }
 ],
 "metadata": {
  "kernelspec": {
   "display_name": "Python 3",
   "language": "python",
   "name": "python3"
  },
  "language_info": {
   "codemirror_mode": {
    "name": "ipython",
    "version": 3
   },
   "file_extension": ".py",
   "mimetype": "text/x-python",
   "name": "python",
   "nbconvert_exporter": "python",
   "pygments_lexer": "ipython3",
   "version": "3.6.4"
  }
 },
 "nbformat": 4,
 "nbformat_minor": 2
}
